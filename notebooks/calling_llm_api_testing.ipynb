{
 "cells": [
  {
   "cell_type": "code",
   "execution_count": 7,
   "metadata": {},
   "outputs": [
    {
     "name": "stdout",
     "output_type": "stream",
     "text": [
      "Current working folder: D:\\My Document\\Khóa Luận Tốt Nghiệp\\Model Reposity\\RAG_LLM_DA\n",
      "Current working folder: D:\\My Document\\Khóa Luận Tốt Nghiệp\\Model Reposity\\RAG_LLM_DA\n"
     ]
    }
   ],
   "source": [
    "import os\n",
    "print(f\"Current working folder: {os.getcwd()}\")\n",
    "\n",
    "os.chdir('D:/My Document/Khóa Luận Tốt Nghiệp/Model Reposity/RAG_LLM_DA')\n",
    "print(f\"Current working folder: {os.getcwd()}\")\n",
    "\n",
    "from langchain_core.messages import HumanMessage, AIMessage, SystemMessage\n",
    "from openai_llm.llm_init import LLM_Model\n",
    "from utils import load_json_data, save_json_data"
   ]
  },
  {
   "cell_type": "code",
   "execution_count": 8,
   "metadata": {},
   "outputs": [],
   "source": [
    "llm_instance = LLM_Model()"
   ]
  },
  {
   "cell_type": "code",
   "execution_count": 9,
   "metadata": {},
   "outputs": [
    {
     "name": "stdout",
     "output_type": "stream",
     "text": [
      "Loading data from datasets/icews14/relation2id.json\n"
     ]
    }
   ],
   "source": [
    "relations = list(load_json_data('datasets/icews14/relation2id.json').keys())\n",
    "\n",
    "\n",
    "def transform_relations(all_rels, llm_instance, output_dir='./'):\n",
    "    batch_size = 10\n",
    "\n",
    "    result = dict()\n",
    "\n",
    "    system_msg_content = '''\n",
    "    You are an expert in Temporal Knowledge Graph. Your task is to transform the given relations into a natural language term.\n",
    "    - Each given relation represents for an action between two entities in the past.\n",
    "    - Remove underscores and technical formatting  \n",
    "    - An important note is that if the relation has a prefix 'inv', it means that the action is an inverse action. You need to consider this information when transforming the relation.\n",
    "\n",
    "    Your answer should be in a json format as below:\n",
    "    {{\n",
    "        'original_relations': // list of original relations\n",
    "        'transformed_relations': // list of transformed relations corresponding to the original relations\n",
    "    }}\n",
    "    '''\n",
    "    system_msg = SystemMessage(content=system_msg_content)\n",
    "\n",
    "    for i in range(0, len(all_rels), batch_size):\n",
    "        user_msg_content = f'''\n",
    "            The list of relations need to be transformed: {all_rels[i:i+batch_size]}\n",
    "        '''\n",
    "        user_msg = HumanMessage(content=user_msg_content)\n",
    "\n",
    "        answer_llm = llm_instance.run_task([system_msg, user_msg])\n",
    "\n",
    "        for k, v in zip(answer_llm['original_relations'], answer_llm['transformed_relations']):\n",
    "            result[k] = v\n",
    "    \n",
    "    save_json_data(result, os.path.join(output_dir, 'transformed_relations.json'))"
   ]
  },
  {
   "cell_type": "code",
   "execution_count": 10,
   "metadata": {},
   "outputs": [
    {
     "name": "stdout",
     "output_type": "stream",
     "text": [
      "Data has been converted to JSON and saved to ./transformed_relations.json\n"
     ]
    }
   ],
   "source": [
    "transform_relations(relations, llm_instance)"
   ]
  }
 ],
 "metadata": {
  "kernelspec": {
   "display_name": "LLM_DA-env",
   "language": "python",
   "name": "python3"
  },
  "language_info": {
   "codemirror_mode": {
    "name": "ipython",
    "version": 3
   },
   "file_extension": ".py",
   "mimetype": "text/x-python",
   "name": "python",
   "nbconvert_exporter": "python",
   "pygments_lexer": "ipython3",
   "version": "3.10.15"
  }
 },
 "nbformat": 4,
 "nbformat_minor": 2
}
