{
 "cells": [
  {
   "cell_type": "code",
   "execution_count": 8,
   "metadata": {},
   "outputs": [
    {
     "name": "stdout",
     "output_type": "stream",
     "text": [
      "Current working folder: D:\\My Document\\Khóa Luận Tốt Nghiệp\\Model Reposity\\RAG_LLM_DA\n",
      "Current working folder: D:\\My Document\\Khóa Luận Tốt Nghiệp\\Model Reposity\\RAG_LLM_DA\n"
     ]
    }
   ],
   "source": [
    "import os\n",
    "print(f\"Current working folder: {os.getcwd()}\")\n",
    "\n",
    "os.chdir('D:/My Document/Khóa Luận Tốt Nghiệp/Model Reposity/RAG_LLM_DA')\n",
    "print(f\"Current working folder: {os.getcwd()}\")\n",
    "\n",
    "from stages.stage_1_learn_rules_from_data.data_loader import DataLoader\n",
    "from langchain_core.messages import HumanMessage, AIMessage, SystemMessage\n",
    "from openai_llm.llm_init import LLM_Model\n",
    "from utils import load_json_data, save_json_data, load_vectorstore_db"
   ]
  },
  {
   "cell_type": "code",
   "execution_count": 11,
   "metadata": {},
   "outputs": [
    {
     "name": "stdout",
     "output_type": "stream",
     "text": [
      "Loading data from config/llm_config.json\n",
      "Loading data from .\\datasets\\icews14\\entity2id.json\n",
      "Loading data from .\\datasets\\icews14\\relation2id.json\n",
      "Loading data from .\\datasets\\icews14\\ts2id.json\n",
      "Loading data from result/icews14/stage_1/transformed_relations.json\n"
     ]
    }
   ],
   "source": [
    "llm_instance = LLM_Model()\n",
    "dataset_dir = os.path.join(\".\", \"datasets\", 'icews14')\n",
    "dir_path = os.path.join(\".\", \"result\", 'icews14', \"stage_3\")\n",
    "\n",
    "data = DataLoader(dataset_dir)\n",
    "test_data = data.test_data_text\n",
    "\n",
    "transformed_relations = load_json_data('result/icews14/stage_1/transformed_relations.json')"
   ]
  },
  {
   "cell_type": "code",
   "execution_count": 13,
   "metadata": {},
   "outputs": [
    {
     "data": {
      "text/plain": [
       "'Malaysia expressed intent to cooperate to/with whom on 2014-12-01?'"
      ]
     },
     "execution_count": 13,
     "metadata": {},
     "output_type": "execute_result"
    }
   ],
   "source": [
    "test_query = test_data[0]\n",
    "\n",
    "if \"inv_\" in test_query[1]:\n",
    "    question = f\"{test_query[0]} {transformed_relations[test_query[1]]} by whom on {test_query[3]}?\"\n",
    "else:\n",
    "    question = f\"{test_query[0]} {transformed_relations[test_query[1]]} to/with whom on {test_query[3]}?\"\n",
    "question"
   ]
  },
  {
   "cell_type": "code",
   "execution_count": null,
   "metadata": {},
   "outputs": [],
   "source": [
    "system_msg_content = f'''\n",
    "You are an expert in Temporal Knowledge Graphs, utilizing data consisting of events and activities worldwide involving countries, organizations, famous individuals, etc. \n",
    "Your task is considered as Temporal Knowledge Graph Reasoning, which is to predict the missing object in a given fact which is from the test dataset. A fact is a quadruple: subject, relation, object, time.\n",
    "You will be given some rules which are mined from the historical data (train and validation datasets). These rules\n",
    "To tackle this task, you will need to follow these instructions carefully:\n",
    "- \n",
    "'''"
   ]
  },
  {
   "cell_type": "code",
   "execution_count": 14,
   "metadata": {},
   "outputs": [
    {
     "data": {
      "text/plain": [
       "8335"
      ]
     },
     "execution_count": 14,
     "metadata": {},
     "output_type": "execute_result"
    }
   ],
   "source": [
    "166713//20"
   ]
  },
  {
   "cell_type": "code",
   "execution_count": 15,
   "metadata": {},
   "outputs": [
    {
     "data": {
      "text/plain": [
       "166700"
      ]
     },
     "execution_count": 15,
     "metadata": {},
     "output_type": "execute_result"
    }
   ],
   "source": [
    "8335*20"
   ]
  }
 ],
 "metadata": {
  "kernelspec": {
   "display_name": "LLM_DA-env",
   "language": "python",
   "name": "python3"
  },
  "language_info": {
   "codemirror_mode": {
    "name": "ipython",
    "version": 3
   },
   "file_extension": ".py",
   "mimetype": "text/x-python",
   "name": "python",
   "nbconvert_exporter": "python",
   "pygments_lexer": "ipython3",
   "version": "3.10.15"
  }
 },
 "nbformat": 4,
 "nbformat_minor": 2
}
