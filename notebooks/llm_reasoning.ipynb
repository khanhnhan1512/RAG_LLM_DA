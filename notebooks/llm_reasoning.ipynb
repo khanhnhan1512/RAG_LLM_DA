{
 "cells": [
  {
   "cell_type": "code",
   "execution_count": 1,
   "metadata": {},
   "outputs": [
    {
     "name": "stdout",
     "output_type": "stream",
     "text": [
      "Current working folder: d:\\My Document\\Khóa Luận Tốt Nghiệp\\Model Reposity\\RAG_LLM_DA\\notebooks\n",
      "Current working folder: D:\\My Document\\Khóa Luận Tốt Nghiệp\\Model Reposity\\RAG_LLM_DA\n"
     ]
    },
    {
     "name": "stderr",
     "output_type": "stream",
     "text": [
      "C:\\Users\\PC\\AppData\\Local\\Temp\\ipykernel_2152\\2631309831.py:6: DeprecationWarning: \n",
      "Pyarrow will become a required dependency of pandas in the next major release of pandas (pandas 3.0),\n",
      "(to allow more performant data types, such as the Arrow string type, and better interoperability with other libraries)\n",
      "but was not found to be installed on your system.\n",
      "If this would cause problems for you,\n",
      "please provide us feedback at https://github.com/pandas-dev/pandas/issues/54466\n",
      "        \n",
      "  import pandas as pd\n"
     ]
    }
   ],
   "source": [
    "import os\n",
    "print(f\"Current working folder: {os.getcwd()}\")\n",
    "\n",
    "os.chdir('D:/My Document/Khóa Luận Tốt Nghiệp/Model Reposity/RAG_LLM_DA')\n",
    "print(f\"Current working folder: {os.getcwd()}\")\n",
    "import pandas as pd\n",
    "from stages.stage_1_learn_rules_from_data.data_loader import DataLoader\n",
    "from stages.stage_1_learn_rules_from_data.temporal_walk import TemporalWalker\n",
    "from stages.stage_1_learn_rules_from_data.temporal_walk import store_edges\n",
    "from stages.stage_1_learn_rules_from_data.rule_learning import RuleLearner, rules_statistics\n",
    "from langchain_core.messages import HumanMessage, AIMessage, SystemMessage\n",
    "from openai_llm.llm_init import LLM_Model\n",
    "from utils import load_json_data, save_json_data, load_vectorstore_db, load_learn_data, lookup_vector_db"
   ]
  },
  {
   "cell_type": "code",
   "execution_count": 2,
   "metadata": {},
   "outputs": [
    {
     "name": "stdout",
     "output_type": "stream",
     "text": [
      "Loading data from config/llm_config.json\n",
      "Loading data from .\\datasets\\icews14\\entity2id.json\n",
      "Loading data from .\\datasets\\icews14\\relation2id.json\n",
      "Loading data from .\\datasets\\icews14\\ts2id.json\n",
      "Loading data from config/rule_regex.json\n",
      "Loading data from result/icews14/stage_1/transformed_relations.json\n"
     ]
    }
   ],
   "source": [
    "llm_instance = LLM_Model()\n",
    "dataset_dir = os.path.join(\".\", \"datasets\", 'icews14')\n",
    "dir_path = os.path.join(\".\", \"result\", 'icews14', \"stage_3\")\n",
    "\n",
    "data = DataLoader(dataset_dir)\n",
    "test_data = data.test_data_text\n",
    "rule_regex = load_json_data(\"config/rule_regex.json\")['icews14']\n",
    "temporal_walk_data = load_learn_data(data, 'all')\n",
    "temporal_walk = TemporalWalker(temporal_walk_data, data.inverse_rel_idx, 'exp')\n",
    "rl = RuleLearner(temporal_walk.edges, data.relation2id, data.id2entity, data.id2relation, data.inverse_rel_idx, \n",
    "                    'icews14', len(temporal_walk_data), dir_path)\n",
    "\n",
    "transformed_relations = load_json_data('result/icews14/stage_1/transformed_relations.json')"
   ]
  },
  {
   "cell_type": "code",
   "execution_count": 3,
   "metadata": {},
   "outputs": [
    {
     "name": "stdout",
     "output_type": "stream",
     "text": [
      "Loading data from config/data_embedding.json\n",
      "facts: 166718 documents\n",
      "rules: 0 documents\n"
     ]
    }
   ],
   "source": [
    "vector_db = load_vectorstore_db(llm_instance, 'icews14')\n",
    "for collection in vector_db:\n",
    "    print(f\"{collection}: {len(vector_db[collection]['vector_db'].get()['documents'])} documents\")"
   ]
  },
  {
   "cell_type": "markdown",
   "metadata": {},
   "source": [
    "### Convert query to natural question"
   ]
  },
  {
   "cell_type": "code",
   "execution_count": 32,
   "metadata": {},
   "outputs": [
    {
     "data": {
      "text/plain": [
       "(['Business_(North_Korea)',\n",
       "  'Make_pessimistic_comment',\n",
       "  'Citizen_(North_Korea)',\n",
       "  '2014-12-19'],\n",
       " 'Business_(North_Korea) Made pessimistic comment to/with whom on 2014-12-19?')"
      ]
     },
     "execution_count": 32,
     "metadata": {},
     "output_type": "execute_result"
    }
   ],
   "source": [
    "test_query = test_data[4995]\n",
    "\n",
    "if \"inv_\" in test_query[1]:\n",
    "    question = f\"{test_query[0]} {transformed_relations[test_query[1]]} by whom on {test_query[3]}?\"\n",
    "else:\n",
    "    question = f\"{test_query[0]} {transformed_relations[test_query[1]]} to/with whom on {test_query[3]}?\"\n",
    "test_query, question"
   ]
  },
  {
   "cell_type": "markdown",
   "metadata": {},
   "source": [
    "### Get `top_k` most similar relations to the relation in the query"
   ]
  },
  {
   "cell_type": "code",
   "execution_count": 33,
   "metadata": {},
   "outputs": [
    {
     "data": {
      "text/plain": [
       "'Make_pessimistic_comment'"
      ]
     },
     "execution_count": 33,
     "metadata": {},
     "output_type": "execute_result"
    }
   ],
   "source": [
    "test_query[1]"
   ]
  },
  {
   "cell_type": "code",
   "execution_count": 34,
   "metadata": {},
   "outputs": [
    {
     "name": "stdout",
     "output_type": "stream",
     "text": [
      "256: inv_Make_pessimistic_comment\n",
      "22: Make_optimistic_comment\n",
      "252: inv_Make_optimistic_comment\n",
      "33: Make_empathetic_comment\n",
      "343: inv_Decline_comment\n",
      "263: inv_Make_empathetic_comment\n",
      "113: Decline_comment\n",
      "0: Make_statement\n",
      "204: Reject_economic_cooperation\n",
      "8: Criticize_or_denounce\n",
      "26: Make_pessimistic_comment\n"
     ]
    }
   ],
   "source": [
    "import numpy as np\n",
    "\n",
    "def get_top_k_relations(similarity_matrix, relation_id, top_k=10):\n",
    "    relation_similarity = similarity_matrix[relation_id]\n",
    "    # print(relation_similarity[3])\n",
    "    top_k_relations = np.argsort(relation_similarity)[::-1][:top_k]\n",
    "    return top_k_relations.tolist()\n",
    "\n",
    "similarity_matrix = np.load('result/icews14/stage_1/relation_similarity.npy')\n",
    "relation_id = data.relation2id[test_query[1]]\n",
    "top_k_id = get_top_k_relations(similarity_matrix, relation_id)\n",
    "top_k_id.append(relation_id)\n",
    "top_k_rels = [data.id2relation[rel_id] for rel_id in top_k_id]\n",
    "for rel_id, rel in zip(top_k_id, top_k_rels):\n",
    "    print(f\"{rel_id}: {rel}\")"
   ]
  },
  {
   "cell_type": "markdown",
   "metadata": {},
   "source": [
    "### Get all related rules"
   ]
  },
  {
   "cell_type": "code",
   "execution_count": 35,
   "metadata": {},
   "outputs": [
    {
     "name": "stdout",
     "output_type": "stream",
     "text": [
      "Rules statistics:\n",
      "Number of relations with rules:  259\n",
      "Total number of rules:  7609\n",
      "Number of rules by length:  [(1, 1063), (2, 550), (3, 5996)]\n"
     ]
    }
   ],
   "source": [
    "rules_df = pd.read_csv('result/icews14/stage_2/01_only_Markovian_merged_results.csv')\n",
    "for _, entry in rules_df.iterrows():\n",
    "    rl.create_rule_from_series_df(entry=entry, rule_regex=rule_regex)\n",
    "rules_dict = rl.rules_dict\n",
    "print(\"Rules statistics:\")\n",
    "rules_statistics(rules_dict)\n",
    "# rules_df.columns"
   ]
  },
  {
   "cell_type": "code",
   "execution_count": 36,
   "metadata": {},
   "outputs": [],
   "source": [
    "def filter_related_rules(rules_dict, rel_id, top_k_id):\n",
    "    related_rules = []\n",
    "    rules = rules_dict[rel_id]\n",
    "    print(len(rules))\n",
    "    for rule in rules:\n",
    "        if list(set(top_k_id) & set(rule['body_rels'])):\n",
    "            related_rules.append(rule['verbalized_rule'])\n",
    "\n",
    "    return related_rules\n"
   ]
  },
  {
   "cell_type": "code",
   "execution_count": 37,
   "metadata": {},
   "outputs": [
    {
     "name": "stdout",
     "output_type": "stream",
     "text": [
      "22\n"
     ]
    },
    {
     "data": {
      "text/plain": [
       "11"
      ]
     },
     "execution_count": 37,
     "metadata": {},
     "output_type": "execute_result"
    }
   ],
   "source": [
    "related_rules = filter_related_rules(rules_dict, data.relation2id[test_query[1]], top_k_id)\n",
    "len(related_rules)"
   ]
  },
  {
   "cell_type": "code",
   "execution_count": 38,
   "metadata": {},
   "outputs": [
    {
     "data": {
      "text/plain": [
       "['Make_pessimistic_comment(X0,X2,T3)<-Express_intent_to_cooperate_economically(X0,X1,T0)&inv_Express_intent_to_cooperate_economically(X1,X0,T1)&Make_pessimistic_comment(X0,X2,T2)',\n",
       " 'Make_pessimistic_comment(X0,X1,T1)<-Make_pessimistic_comment(X0,X1,T0)',\n",
       " 'Make_pessimistic_comment(X0,X2,T2)<-Make_statement(X0,X1,T0)&Threaten(X1,X2,T1)',\n",
       " 'Make_pessimistic_comment(X0,X2,T3)<-Conduct_hunger_strike(X0,X1,T0)&inv_Praise_or_endorse(X1,X0,T1)&Criticize_or_denounce(X0,X2,T2)',\n",
       " 'Make_pessimistic_comment(X0,X2,T3)<-inv_Host_a_visit(X0,X1,T0)&inv_Express_intent_to_meet_or_negotiate(X1,X0,T1)&Make_pessimistic_comment(X0,X2,T2)',\n",
       " 'Make_pessimistic_comment(X0,X2,T3)<-inv_Demand_change_in_leadership(X0,X1,T0)&inv_Praise_or_endorse(X1,X0,T1)&Criticize_or_denounce(X0,X2,T2)',\n",
       " 'Make_pessimistic_comment(X0,X2,T2)<-inv_Use_unconventional_violence(X0,X1,T0)&inv_Make_optimistic_comment(X1,X2,T1)',\n",
       " 'Make_pessimistic_comment(X0,X3,T3)<-Express_intent_to_meet_or_negotiate(X0,X1,T0)&inv_Use_conventional_military_force(X1,X2,T1)&Criticize_or_denounce(X2,X3,T2)',\n",
       " 'Make_pessimistic_comment(X0,X2,T3)<-inv_Consult(X0,X1,T0)&inv_Consult(X1,X0,T1)&Make_pessimistic_comment(X0,X2,T2)',\n",
       " 'Make_pessimistic_comment(X0,X2,T3)<-inv_Make_a_visit(X0,X1,T0)&inv_Host_a_visit(X1,X0,T1)&Make_pessimistic_comment(X0,X2,T2)',\n",
       " 'Make_pessimistic_comment(X0,X1,T3)<-inv_Reject_proposal_to_meet,_discuss,_or_negotiate(X0,X1,T0)&Sign_formal_agreement(X1,X2,T1)&Make_statement(X2,X1,T2)']"
      ]
     },
     "execution_count": 38,
     "metadata": {},
     "output_type": "execute_result"
    }
   ],
   "source": [
    "related_rules"
   ]
  },
  {
   "cell_type": "markdown",
   "metadata": {},
   "source": [
    "### Get related facts"
   ]
  },
  {
   "cell_type": "code",
   "execution_count": 39,
   "metadata": {},
   "outputs": [
    {
     "data": {
      "text/plain": [
       "'Made pessimistic comment'"
      ]
     },
     "execution_count": 39,
     "metadata": {},
     "output_type": "execute_result"
    }
   ],
   "source": [
    "search_content = transformed_relations[test_query[1]]\n",
    "search_content"
   ]
  },
  {
   "cell_type": "code",
   "execution_count": 40,
   "metadata": {},
   "outputs": [],
   "source": [
    "def lookup_facts(vector_db, filter, search_content, top_k=20):\n",
    "    docs = lookup_vector_db(search_content, filter, vector_db, llm_instance, top_k=top_k)\n",
    "    return docs"
   ]
  },
  {
   "cell_type": "code",
   "execution_count": 54,
   "metadata": {},
   "outputs": [],
   "source": [
    "def get_related_facts(search_content, vector_db, llm_instance, related_facts, candidates_dict, seen_entities=None, seen_facts=None, n=0):  \n",
    "    # Khởi tạo sets theo dõi nếu là lần gọi đầu tiên  \n",
    "    if seen_entities is None:  \n",
    "        seen_entities = set()  \n",
    "    if seen_facts is None:  \n",
    "        seen_facts = set()  \n",
    "    \n",
    "    # Điều kiện dừng  \n",
    "    if n == 3:  \n",
    "        return related_facts  \n",
    "    \n",
    "    cands = candidates_dict[n]  \n",
    "    candidates_dict[n+1] = set()  \n",
    "    \n",
    "    # Xử lý từng candidate  \n",
    "    for can in cands:  \n",
    "        # Bỏ qua nếu entity đã xử lý trước đó  \n",
    "        if can in seen_entities:  \n",
    "            continue  \n",
    "            \n",
    "        seen_entities.add(can)  \n",
    "        filter = {\"subject\": can}\n",
    "        docs = lookup_facts(vector_db, filter, search_content, top_k=20//(len(cands)))  \n",
    "        print(can)\n",
    "        print(docs)\n",
    "        \n",
    "        for doc in docs:  \n",
    "            fact_content = doc.page_content  \n",
    "            new_entity = doc.metadata['object']  \n",
    "            \n",
    "            # Chỉ thêm fact và entity mới nếu chưa xuất hiện trước đó  \n",
    "            if fact_content not in seen_facts:  \n",
    "                seen_facts.add(fact_content)  \n",
    "                related_facts.append(fact_content)  \n",
    "                \n",
    "                # Chỉ thêm entity mới vào candidates cho hop tiếp theo  \n",
    "                if new_entity not in seen_entities:  \n",
    "                    candidates_dict[n+1].add(new_entity)  \n",
    "    \n",
    "    # Nếu không còn candidates mới, dừng sớm  \n",
    "    if not candidates_dict[n+1]:  \n",
    "        return related_facts  \n",
    "        \n",
    "    return get_related_facts(  \n",
    "        search_content,   \n",
    "        vector_db,   \n",
    "        llm_instance,   \n",
    "        related_facts,   \n",
    "        candidates_dict,   \n",
    "        seen_entities,   \n",
    "        seen_facts,   \n",
    "        n+1  \n",
    "    )  "
   ]
  },
  {
   "cell_type": "code",
   "execution_count": 55,
   "metadata": {},
   "outputs": [
    {
     "name": "stdout",
     "output_type": "stream",
     "text": [
      "Business_(North_Korea)\n",
      "[Document(metadata={'object': 'North_Korea', 'object_id': 11, 'relation': 'Make_statement', 'relation_id': 0, 'subject': 'Business_(North_Korea)', 'subject_id': 1888, 'timestamp': '2014-07-15', 'timestamp_id': 196}, page_content='\"Business_(North_Korea) Made a statement to/with North_Korea on 2014-07-15\"'), Document(metadata={'object': 'UN_Security_Council', 'object_id': 25, 'relation': 'inv_Impose_embargo,_boycott,_or_sanctions', 'relation_id': 282, 'subject': 'Business_(North_Korea)', 'subject_id': 1888, 'timestamp': '2014-08-05', 'timestamp_id': 217}, page_content='\"Business_(North_Korea) Had embargo, boycott, or sanctions imposed to/with UN_Security_Council on 2014-08-05\"'), Document(metadata={'object': 'North_Korea', 'object_id': 11, 'relation': 'inv_Express_intent_to_yield', 'relation_id': 367, 'subject': 'Business_(North_Korea)', 'subject_id': 1888, 'timestamp': '2014-09-22', 'timestamp_id': 265}, page_content='\"Business_(North_Korea) Received intent to yield to/with North_Korea on 2014-09-22\"'), Document(metadata={'object': 'Kim_Jong-Un', 'object_id': 141, 'relation': 'Assassinate', 'relation_id': 86, 'subject': 'Business_(North_Korea)', 'subject_id': 1888, 'timestamp': '2014-07-10', 'timestamp_id': 191}, page_content='\"Business_(North_Korea) Assassinated to/with Kim_Jong-Un on 2014-07-10\"'), Document(metadata={'object': 'North_Korea', 'object_id': 11, 'relation': 'Defy_norms,_law', 'relation_id': 78, 'subject': 'Business_(North_Korea)', 'subject_id': 1888, 'timestamp': '2014-02-20', 'timestamp_id': 51}, page_content='\"Business_(North_Korea) Defied norms, law to/with North_Korea on 2014-02-20\"'), Document(metadata={'object': 'Government_(United_States)', 'object_id': 112, 'relation': 'inv_Impose_embargo,_boycott,_or_sanctions', 'relation_id': 282, 'subject': 'Business_(North_Korea)', 'subject_id': 1888, 'timestamp': '2014-07-31', 'timestamp_id': 212}, page_content='\"Business_(North_Korea) Had embargo, boycott, or sanctions imposed to/with Government_(United_States) on 2014-07-31\"'), Document(metadata={'object': 'South_Korea', 'object_id': 7, 'relation': 'Express_intent_to_meet_or_negotiate', 'relation_id': 3, 'subject': 'Business_(North_Korea)', 'subject_id': 1888, 'timestamp': '2014-04-29', 'timestamp_id': 119}, page_content='\"Business_(North_Korea) Expressed intent to meet or negotiate to/with South_Korea on 2014-04-29\"')]\n",
      "North_Korea\n",
      "[Document(metadata={'object': 'Citizen_(North_Korea)', 'object_id': 312, 'relation': 'Make_pessimistic_comment', 'relation_id': 26, 'subject': 'North_Korea', 'subject_id': 11, 'timestamp': '2014-05-29', 'timestamp_id': 149}, page_content='\"North_Korea Made pessimistic comment to/with Citizen_(North_Korea) on 2014-05-29\"'), Document(metadata={'object': 'Citizen_(North_Korea)', 'object_id': 312, 'relation': 'Make_pessimistic_comment', 'relation_id': 26, 'subject': 'North_Korea', 'subject_id': 11, 'timestamp': '2014-05-28', 'timestamp_id': 148}, page_content='\"North_Korea Made pessimistic comment to/with Citizen_(North_Korea) on 2014-05-28\"'), Document(metadata={'object': 'Kim_Jong-Un', 'object_id': 141, 'relation': 'inv_Make_pessimistic_comment', 'relation_id': 256, 'subject': 'North_Korea', 'subject_id': 11, 'timestamp': '2014-01-07', 'timestamp_id': 7}, page_content='\"North_Korea received a pessimistic comment from to/with Kim_Jong-Un on 2014-01-07\"'), Document(metadata={'object': 'Japan', 'object_id': 5, 'relation': 'Make_pessimistic_comment', 'relation_id': 26, 'subject': 'North_Korea', 'subject_id': 11, 'timestamp': '2014-05-28', 'timestamp_id': 148}, page_content='\"North_Korea Made pessimistic comment to/with Japan on 2014-05-28\"')]\n",
      "Government_(United_States)\n",
      "[Document(metadata={'object': 'South_Korea', 'object_id': 7, 'relation': 'Make_pessimistic_comment', 'relation_id': 26, 'subject': 'Government_(United_States)', 'subject_id': 112, 'timestamp': '2014-01-06', 'timestamp_id': 6}, page_content='\"Government_(United_States) Made pessimistic comment to/with South_Korea on 2014-01-06\"'), Document(metadata={'object': 'Gerhard_Schröder', 'object_id': 2271, 'relation': 'Make_pessimistic_comment', 'relation_id': 26, 'subject': 'Government_(United_States)', 'subject_id': 112, 'timestamp': '2014-02-05', 'timestamp_id': 36}, page_content='\"Government_(United_States) Made pessimistic comment to/with Gerhard_Schröder on 2014-02-05\"'), Document(metadata={'object': 'Thailand', 'object_id': 18, 'relation': 'Make_pessimistic_comment', 'relation_id': 26, 'subject': 'Government_(United_States)', 'subject_id': 112, 'timestamp': '2014-04-10', 'timestamp_id': 100}, page_content='\"Government_(United_States) Made pessimistic comment to/with Thailand on 2014-04-10\"'), Document(metadata={'object': 'Thailand', 'object_id': 18, 'relation': 'Make_pessimistic_comment', 'relation_id': 26, 'subject': 'Government_(United_States)', 'subject_id': 112, 'timestamp': '2014-04-09', 'timestamp_id': 99}, page_content='\"Government_(United_States) Made pessimistic comment to/with Thailand on 2014-04-09\"')]\n",
      "Kim_Jong-Un\n",
      "[Document(metadata={'object': 'North_Korea', 'object_id': 11, 'relation': 'Make_pessimistic_comment', 'relation_id': 26, 'subject': 'Kim_Jong-Un', 'subject_id': 141, 'timestamp': '2014-01-07', 'timestamp_id': 7}, page_content='\"Kim_Jong-Un Made pessimistic comment to/with North_Korea on 2014-01-07\"'), Document(metadata={'object': 'Citizen_(South_Korea)', 'object_id': 60, 'relation': 'Make_optimistic_comment', 'relation_id': 22, 'subject': 'Kim_Jong-Un', 'subject_id': 141, 'timestamp': '2014-08-07', 'timestamp_id': 219}, page_content='\"Kim_Jong-Un Made optimistic comment to/with Citizen_(South_Korea) on 2014-08-07\"'), Document(metadata={'object': 'Sergey_Viktorovich_Lavrov', 'object_id': 12, 'relation': 'inv_Make_optimistic_comment', 'relation_id': 252, 'subject': 'Kim_Jong-Un', 'subject_id': 141, 'timestamp': '2014-11-21', 'timestamp_id': 325}, page_content='\"Kim_Jong-Un received an optimistic comment from to/with Sergey_Viktorovich_Lavrov on 2014-11-21\"'), Document(metadata={'object': 'Sergey_Viktorovich_Lavrov', 'object_id': 12, 'relation': 'inv_Make_optimistic_comment', 'relation_id': 252, 'subject': 'Kim_Jong-Un', 'subject_id': 141, 'timestamp': '2014-11-20', 'timestamp_id': 324}, page_content='\"Kim_Jong-Un received an optimistic comment from to/with Sergey_Viktorovich_Lavrov on 2014-11-20\"')]\n",
      "South_Korea\n",
      "[Document(metadata={'object': 'North_Korea', 'object_id': 11, 'relation': 'Make_pessimistic_comment', 'relation_id': 26, 'subject': 'South_Korea', 'subject_id': 7, 'timestamp': '2014-01-03', 'timestamp_id': 3}, page_content='\"South_Korea Made pessimistic comment to/with North_Korea on 2014-01-03\"'), Document(metadata={'object': 'North_Korea', 'object_id': 11, 'relation': 'Make_pessimistic_comment', 'relation_id': 26, 'subject': 'South_Korea', 'subject_id': 7, 'timestamp': '2014-01-21', 'timestamp_id': 21}, page_content='\"South_Korea Made pessimistic comment to/with North_Korea on 2014-01-21\"'), Document(metadata={'object': 'North_Korea', 'object_id': 11, 'relation': 'Make_pessimistic_comment', 'relation_id': 26, 'subject': 'South_Korea', 'subject_id': 7, 'timestamp': '2014-01-05', 'timestamp_id': 5}, page_content='\"South_Korea Made pessimistic comment to/with North_Korea on 2014-01-05\"'), Document(metadata={'object': 'North_Korea', 'object_id': 11, 'relation': 'Make_pessimistic_comment', 'relation_id': 26, 'subject': 'South_Korea', 'subject_id': 7, 'timestamp': '2014-10-31', 'timestamp_id': 304}, page_content='\"South_Korea Made pessimistic comment to/with North_Korea on 2014-10-31\"')]\n",
      "UN_Security_Council\n",
      "[Document(metadata={'object': 'South_Sudan', 'object_id': 57, 'relation': 'Make_pessimistic_comment', 'relation_id': 26, 'subject': 'UN_Security_Council', 'subject_id': 25, 'timestamp': '2014-07-28', 'timestamp_id': 209}, page_content='\"UN_Security_Council Made pessimistic comment to/with South_Sudan on 2014-07-28\"'), Document(metadata={'object': 'Military_Personnel_-_Special_(Afghanistan)', 'object_id': 83, 'relation': 'Make_pessimistic_comment', 'relation_id': 26, 'subject': 'UN_Security_Council', 'subject_id': 25, 'timestamp': '2014-11-27', 'timestamp_id': 331}, page_content='\"UN_Security_Council Made pessimistic comment to/with Military_Personnel_-_Special_(Afghanistan) on 2014-11-27\"'), Document(metadata={'object': 'Military_Personnel_-_Special_(Afghanistan)', 'object_id': 83, 'relation': 'Make_pessimistic_comment', 'relation_id': 26, 'subject': 'UN_Security_Council', 'subject_id': 25, 'timestamp': '2014-11-28', 'timestamp_id': 332}, page_content='\"UN_Security_Council Made pessimistic comment to/with Military_Personnel_-_Special_(Afghanistan) on 2014-11-28\"'), Document(metadata={'object': 'Military_Personnel_-_Special_(Afghanistan)', 'object_id': 83, 'relation': 'Make_pessimistic_comment', 'relation_id': 26, 'subject': 'UN_Security_Council', 'subject_id': 25, 'timestamp': '2014-05-24', 'timestamp_id': 144}, page_content='\"UN_Security_Council Made pessimistic comment to/with Military_Personnel_-_Special_(Afghanistan) on 2014-05-24\"')]\n",
      "Citizen_(South_Korea)\n",
      "[Document(metadata={'object': 'North_Korea', 'object_id': 11, 'relation': 'Make_pessimistic_comment', 'relation_id': 26, 'subject': 'Citizen_(South_Korea)', 'subject_id': 60, 'timestamp': '2014-07-17', 'timestamp_id': 198}, page_content='\"Citizen_(South_Korea) Made pessimistic comment to/with North_Korea on 2014-07-17\"'), Document(metadata={'object': 'Ryoo_Kihl-jae', 'object_id': 503, 'relation': 'inv_Make_pessimistic_comment', 'relation_id': 256, 'subject': 'Citizen_(South_Korea)', 'subject_id': 60, 'timestamp': '2014-10-21', 'timestamp_id': 294}, page_content='\"Citizen_(South_Korea) received a pessimistic comment from to/with Ryoo_Kihl-jae on 2014-10-21\"')]\n",
      "South_Sudan\n",
      "[Document(metadata={'object': 'China', 'object_id': 0, 'relation': 'inv_Make_pessimistic_comment', 'relation_id': 256, 'subject': 'South_Sudan', 'subject_id': 57, 'timestamp': '2014-01-03', 'timestamp_id': 3}, page_content='\"South_Sudan received a pessimistic comment from to/with China on 2014-01-03\"'), Document(metadata={'object': 'China', 'object_id': 0, 'relation': 'inv_Make_pessimistic_comment', 'relation_id': 256, 'subject': 'South_Sudan', 'subject_id': 57, 'timestamp': '2014-01-02', 'timestamp_id': 2}, page_content='\"South_Sudan received a pessimistic comment from to/with China on 2014-01-02\"')]\n",
      "Japan\n",
      "[Document(metadata={'object': 'France', 'object_id': 10, 'relation': 'Make_pessimistic_comment', 'relation_id': 26, 'subject': 'Japan', 'subject_id': 5, 'timestamp': '2014-07-28', 'timestamp_id': 209}, page_content='\"Japan Made pessimistic comment to/with France on 2014-07-28\"'), Document(metadata={'object': 'France', 'object_id': 10, 'relation': 'Make_pessimistic_comment', 'relation_id': 26, 'subject': 'Japan', 'subject_id': 5, 'timestamp': '2014-07-30', 'timestamp_id': 211}, page_content='\"Japan Made pessimistic comment to/with France on 2014-07-30\"')]\n",
      "Gerhard_Schröder\n",
      "[Document(metadata={'object': 'Government_(United_States)', 'object_id': 112, 'relation': 'inv_Make_pessimistic_comment', 'relation_id': 256, 'subject': 'Gerhard_Schröder', 'subject_id': 2271, 'timestamp': '2014-02-05', 'timestamp_id': 36}, page_content='\"Gerhard_Schröder received a pessimistic comment from to/with Government_(United_States) on 2014-02-05\"'), Document(metadata={'object': 'Angela_Merkel', 'object_id': 35, 'relation': 'Criticize_or_denounce', 'relation_id': 8, 'subject': 'Gerhard_Schröder', 'subject_id': 2271, 'timestamp': '2014-02-21', 'timestamp_id': 52}, page_content='\"Gerhard_Schröder Criticized or denounced to/with Angela_Merkel on 2014-02-21\"')]\n",
      "Sergey_Viktorovich_Lavrov\n",
      "[Document(metadata={'object': 'North_Atlantic_Treaty_Organization', 'object_id': 24, 'relation': 'Make_pessimistic_comment', 'relation_id': 26, 'subject': 'Sergey_Viktorovich_Lavrov', 'subject_id': 12, 'timestamp': '2014-04-02', 'timestamp_id': 92}, page_content='\"Sergey_Viktorovich_Lavrov Made pessimistic comment to/with North_Atlantic_Treaty_Organization on 2014-04-02\"'), Document(metadata={'object': 'John_Kerry', 'object_id': 6, 'relation': 'Make_pessimistic_comment', 'relation_id': 26, 'subject': 'Sergey_Viktorovich_Lavrov', 'subject_id': 12, 'timestamp': '2014-06-27', 'timestamp_id': 178}, page_content='\"Sergey_Viktorovich_Lavrov Made pessimistic comment to/with John_Kerry on 2014-06-27\"')]\n",
      "Military_Personnel_-_Special_(Afghanistan)\n",
      "[Document(metadata={'object': 'UN_Security_Council', 'object_id': 25, 'relation': 'inv_Make_pessimistic_comment', 'relation_id': 256, 'subject': 'Military_Personnel_-_Special_(Afghanistan)', 'subject_id': 83, 'timestamp': '2014-11-27', 'timestamp_id': 331}, page_content='\"Military_Personnel_-_Special_(Afghanistan) received a pessimistic comment from to/with UN_Security_Council on 2014-11-27\"'), Document(metadata={'object': 'UN_Security_Council', 'object_id': 25, 'relation': 'inv_Make_pessimistic_comment', 'relation_id': 256, 'subject': 'Military_Personnel_-_Special_(Afghanistan)', 'subject_id': 83, 'timestamp': '2014-11-28', 'timestamp_id': 332}, page_content='\"Military_Personnel_-_Special_(Afghanistan) received a pessimistic comment from to/with UN_Security_Council on 2014-11-28\"')]\n",
      "Thailand\n",
      "[Document(metadata={'object': 'Citizen_(Thailand)', 'object_id': 31, 'relation': 'inv_Make_pessimistic_comment', 'relation_id': 256, 'subject': 'Thailand', 'subject_id': 18, 'timestamp': '2014-01-20', 'timestamp_id': 20}, page_content='\"Thailand received a pessimistic comment from to/with Citizen_(Thailand) on 2014-01-20\"'), Document(metadata={'object': 'Citizen_(Thailand)', 'object_id': 31, 'relation': 'inv_Make_pessimistic_comment', 'relation_id': 256, 'subject': 'Thailand', 'subject_id': 18, 'timestamp': '2014-01-19', 'timestamp_id': 19}, page_content='\"Thailand received a pessimistic comment from to/with Citizen_(Thailand) on 2014-01-19\"')]\n",
      "Citizen_(North_Korea)\n",
      "[Document(metadata={'object': 'North_Korea', 'object_id': 11, 'relation': 'Make_pessimistic_comment', 'relation_id': 26, 'subject': 'Citizen_(North_Korea)', 'subject_id': 312, 'timestamp': '2014-07-12', 'timestamp_id': 193}, page_content='\"Citizen_(North_Korea) Made pessimistic comment to/with North_Korea on 2014-07-12\"'), Document(metadata={'object': 'North_Korea', 'object_id': 11, 'relation': 'inv_Make_pessimistic_comment', 'relation_id': 256, 'subject': 'Citizen_(North_Korea)', 'subject_id': 312, 'timestamp': '2014-05-28', 'timestamp_id': 148}, page_content='\"Citizen_(North_Korea) received a pessimistic comment from to/with North_Korea on 2014-05-28\"')]\n"
     ]
    }
   ],
   "source": [
    "\n",
    "candidates_dict = {0: {test_query[0]}}    \n",
    "related_facts = get_related_facts(search_content, vector_db['facts']['vector_db'], llm_instance, [], candidates_dict)\n"
   ]
  },
  {
   "cell_type": "code",
   "execution_count": 56,
   "metadata": {},
   "outputs": [
    {
     "data": {
      "text/plain": [
       "{0: {'Business_(North_Korea)'},\n",
       " 1: {'Government_(United_States)',\n",
       "  'Kim_Jong-Un',\n",
       "  'North_Korea',\n",
       "  'South_Korea',\n",
       "  'UN_Security_Council'},\n",
       " 2: {'Citizen_(North_Korea)',\n",
       "  'Citizen_(South_Korea)',\n",
       "  'Gerhard_Schröder',\n",
       "  'Japan',\n",
       "  'Kim_Jong-Un',\n",
       "  'Military_Personnel_-_Special_(Afghanistan)',\n",
       "  'Sergey_Viktorovich_Lavrov',\n",
       "  'South_Korea',\n",
       "  'South_Sudan',\n",
       "  'Thailand'},\n",
       " 3: {'Angela_Merkel',\n",
       "  'China',\n",
       "  'Citizen_(Thailand)',\n",
       "  'France',\n",
       "  'John_Kerry',\n",
       "  'North_Atlantic_Treaty_Organization',\n",
       "  'Ryoo_Kihl-jae'}}"
      ]
     },
     "execution_count": 56,
     "metadata": {},
     "output_type": "execute_result"
    }
   ],
   "source": [
    "candidates_dict"
   ]
  },
  {
   "cell_type": "code",
   "execution_count": 57,
   "metadata": {},
   "outputs": [
    {
     "data": {
      "text/plain": [
       "['\"Business_(North_Korea) Made a statement to/with North_Korea on 2014-07-15\"',\n",
       " '\"Business_(North_Korea) Had embargo, boycott, or sanctions imposed to/with UN_Security_Council on 2014-08-05\"',\n",
       " '\"Business_(North_Korea) Received intent to yield to/with North_Korea on 2014-09-22\"',\n",
       " '\"Business_(North_Korea) Assassinated to/with Kim_Jong-Un on 2014-07-10\"',\n",
       " '\"Business_(North_Korea) Defied norms, law to/with North_Korea on 2014-02-20\"',\n",
       " '\"Business_(North_Korea) Had embargo, boycott, or sanctions imposed to/with Government_(United_States) on 2014-07-31\"',\n",
       " '\"Business_(North_Korea) Expressed intent to meet or negotiate to/with South_Korea on 2014-04-29\"',\n",
       " '\"North_Korea Made pessimistic comment to/with Citizen_(North_Korea) on 2014-05-29\"',\n",
       " '\"North_Korea Made pessimistic comment to/with Citizen_(North_Korea) on 2014-05-28\"',\n",
       " '\"North_Korea received a pessimistic comment from to/with Kim_Jong-Un on 2014-01-07\"',\n",
       " '\"North_Korea Made pessimistic comment to/with Japan on 2014-05-28\"',\n",
       " '\"Government_(United_States) Made pessimistic comment to/with South_Korea on 2014-01-06\"',\n",
       " '\"Government_(United_States) Made pessimistic comment to/with Gerhard_Schröder on 2014-02-05\"',\n",
       " '\"Government_(United_States) Made pessimistic comment to/with Thailand on 2014-04-10\"',\n",
       " '\"Government_(United_States) Made pessimistic comment to/with Thailand on 2014-04-09\"',\n",
       " '\"Kim_Jong-Un Made pessimistic comment to/with North_Korea on 2014-01-07\"',\n",
       " '\"Kim_Jong-Un Made optimistic comment to/with Citizen_(South_Korea) on 2014-08-07\"',\n",
       " '\"Kim_Jong-Un received an optimistic comment from to/with Sergey_Viktorovich_Lavrov on 2014-11-21\"',\n",
       " '\"Kim_Jong-Un received an optimistic comment from to/with Sergey_Viktorovich_Lavrov on 2014-11-20\"',\n",
       " '\"South_Korea Made pessimistic comment to/with North_Korea on 2014-01-03\"',\n",
       " '\"South_Korea Made pessimistic comment to/with North_Korea on 2014-01-21\"',\n",
       " '\"South_Korea Made pessimistic comment to/with North_Korea on 2014-01-05\"',\n",
       " '\"South_Korea Made pessimistic comment to/with North_Korea on 2014-10-31\"',\n",
       " '\"UN_Security_Council Made pessimistic comment to/with South_Sudan on 2014-07-28\"',\n",
       " '\"UN_Security_Council Made pessimistic comment to/with Military_Personnel_-_Special_(Afghanistan) on 2014-11-27\"',\n",
       " '\"UN_Security_Council Made pessimistic comment to/with Military_Personnel_-_Special_(Afghanistan) on 2014-11-28\"',\n",
       " '\"UN_Security_Council Made pessimistic comment to/with Military_Personnel_-_Special_(Afghanistan) on 2014-05-24\"',\n",
       " '\"Citizen_(South_Korea) Made pessimistic comment to/with North_Korea on 2014-07-17\"',\n",
       " '\"Citizen_(South_Korea) received a pessimistic comment from to/with Ryoo_Kihl-jae on 2014-10-21\"',\n",
       " '\"South_Sudan received a pessimistic comment from to/with China on 2014-01-03\"',\n",
       " '\"South_Sudan received a pessimistic comment from to/with China on 2014-01-02\"',\n",
       " '\"Japan Made pessimistic comment to/with France on 2014-07-28\"',\n",
       " '\"Japan Made pessimistic comment to/with France on 2014-07-30\"',\n",
       " '\"Gerhard_Schröder received a pessimistic comment from to/with Government_(United_States) on 2014-02-05\"',\n",
       " '\"Gerhard_Schröder Criticized or denounced to/with Angela_Merkel on 2014-02-21\"',\n",
       " '\"Sergey_Viktorovich_Lavrov Made pessimistic comment to/with North_Atlantic_Treaty_Organization on 2014-04-02\"',\n",
       " '\"Sergey_Viktorovich_Lavrov Made pessimistic comment to/with John_Kerry on 2014-06-27\"',\n",
       " '\"Military_Personnel_-_Special_(Afghanistan) received a pessimistic comment from to/with UN_Security_Council on 2014-11-27\"',\n",
       " '\"Military_Personnel_-_Special_(Afghanistan) received a pessimistic comment from to/with UN_Security_Council on 2014-11-28\"',\n",
       " '\"Thailand received a pessimistic comment from to/with Citizen_(Thailand) on 2014-01-20\"',\n",
       " '\"Thailand received a pessimistic comment from to/with Citizen_(Thailand) on 2014-01-19\"',\n",
       " '\"Citizen_(North_Korea) Made pessimistic comment to/with North_Korea on 2014-07-12\"',\n",
       " '\"Citizen_(North_Korea) received a pessimistic comment from to/with North_Korea on 2014-05-28\"']"
      ]
     },
     "execution_count": 57,
     "metadata": {},
     "output_type": "execute_result"
    }
   ],
   "source": [
    "related_facts"
   ]
  },
  {
   "cell_type": "markdown",
   "metadata": {},
   "source": [
    "### Get most related entites and their facts\n"
   ]
  },
  {
   "cell_type": "code",
   "execution_count": 58,
   "metadata": {},
   "outputs": [],
   "source": [
    "import numpy as np\n",
    "\n",
    "def get_top_k_entities(similarity_matrix, entity_id, top_k=10):\n",
    "    entity_similarity = similarity_matrix[entity_id]\n",
    "    top_k_relations = np.argsort(entity_similarity)[::-1][:top_k]\n",
    "    return top_k_relations.tolist()\n",
    "\n",
    "similarity_matrix = np.load('./entity_similarity.npy')\n",
    "top_k_id = get_top_k_entities(similarity_matrix, data.entity2id[test_query[0]])\n",
    "\n",
    "related_entities = [data.id2entity[id] for id in top_k_id]"
   ]
  },
  {
   "cell_type": "code",
   "execution_count": 59,
   "metadata": {},
   "outputs": [
    {
     "data": {
      "text/plain": [
       "['\"Finance_/_Economy_/_Commerce_/_Trade_Ministry_(North_Korea) was hosted by to/with Angola on 2014-05-23\"',\n",
       " '\"Finance_/_Economy_/_Commerce_/_Trade_Ministry_(North_Korea) Made a visit to/with Angola on 2014-05-23\"',\n",
       " '\"Business_(South_Korea) was criticized or denounced by to/with Ministry_(South_Korea) on 2014-07-15\"',\n",
       " '\"Business_(South_Korea) was criticized or denounced by to/with Ministry_(South_Korea) on 2014-07-16\"',\n",
       " '\"Business_(South_Korea) Made a statement to/with Barack_Obama on 2014-03-15\"',\n",
       " '\"Business_(South_Korea) was hosted by to/with North_Korea on 2014-04-21\"',\n",
       " '\"Business_(South_Korea) was hosted by to/with North_Korea on 2014-04-28\"',\n",
       " '\"Business_(South_Korea) was hosted by to/with North_Korea on 2014-04-22\"',\n",
       " '\"Business_(South_Korea) Consulted to/with Head_of_Government_(South_Korea) on 2014-11-14\"',\n",
       " '\"Business_(South_Korea) received a statement from to/with Energy_Department/Ministry_(Philippines) on 2014-06-17\"',\n",
       " '\"Business_(South_Korea) received a statement from to/with North_Korea on 2014-06-30\"',\n",
       " '\"Business_(South_Korea) Expressed intent to cooperate economically to/with Iran on 2014-01-26\"',\n",
       " '\"Bank_(North_Korea) Provided economic aid to/with North_Korea on 2014-10-16\"',\n",
       " '\"Employee_(North_Korea) was praised or endorsed by to/with North_Korea on 2014-05-01\"',\n",
       " '\"Business_(Cuba) Made a statement to/with Farm_Worker_(Cuba) on 2014-08-21\"',\n",
       " '\"Business_(Cuba) Made a statement to/with Lawyer/Attorney_(Cuba) on 2014-09-29\"',\n",
       " '\"Business_(Cuba) received a statement from to/with Juventud_Rebelde on 2014-03-28\"',\n",
       " '\"Military_(North_Korea) was criticized or denounced by to/with North_Korea on 2014-04-26\"',\n",
       " '\"Military_(North_Korea) Made a statement to/with Japan on 2014-11-30\"',\n",
       " '\"Military_(North_Korea) was praised or endorsed by to/with North_Korea on 2014-07-23\"',\n",
       " '\"Military_(North_Korea) was praised or endorsed by to/with North_Korea on 2014-01-01\"',\n",
       " '\"Military_(North_Korea) was praised or endorsed by to/with Kim_Jong-Un on 2014-01-12\"',\n",
       " '\"Military_(North_Korea) Rejected to/with South_Korea on 2014-05-24\"',\n",
       " '\"Military_(North_Korea) were targets of unconventional violence to/with Citizen_(North_Korea) on 2014-06-23\"',\n",
       " '\"Military_(North_Korea) Accused to/with South_Korea on 2014-05-21\"',\n",
       " '\"Military_(North_Korea) Accused to/with South_Korea on 2014-08-17\"',\n",
       " '\"Military_(North_Korea) Consulted to/with South_Korea on 2014-03-06\"',\n",
       " '\"Business_(Norway) were the recipients of expressed intent to engage in diplomatic cooperation (such as policy support) to/with Business_(Russia) on 2014-08-28\"',\n",
       " '\"Business_(Norway) cooperated economically with to/with Ethiopia on 2014-06-11\"',\n",
       " '\"Business_(Norway) were investigated to/with Trondheim on 2014-03-12\"',\n",
       " '\"North_Korea Made pessimistic comment to/with Citizen_(North_Korea) on 2014-05-29\"',\n",
       " '\"North_Korea Made pessimistic comment to/with Citizen_(North_Korea) on 2014-05-28\"',\n",
       " '\"North_Korea received a pessimistic comment from to/with Kim_Jong-Un on 2014-01-07\"',\n",
       " '\"North_Korea Made pessimistic comment to/with Japan on 2014-05-28\"',\n",
       " '\"North_Korea received a pessimistic comment from to/with South_Korea on 2014-01-21\"',\n",
       " '\"North_Korea received a pessimistic comment from to/with Citizen_(North_Korea) on 2014-07-12\"',\n",
       " '\"North_Korea received a pessimistic comment from to/with South_Korea on 2014-01-05\"',\n",
       " '\"North_Korea received a pessimistic comment from to/with South_Korea on 2014-01-03\"',\n",
       " '\"North_Korea received a pessimistic comment from to/with Citizen_(South_Korea) on 2014-07-17\"',\n",
       " '\"North_Korea received a pessimistic comment from to/with South_Korea on 2014-10-31\"',\n",
       " '\"Religion_(North_Korea) was arrested, detained, or charged with legal action by to/with North_Korea on 2014-06-02\"',\n",
       " '\"Religion_(North_Korea) was arrested, detained, or charged with legal action by to/with North_Korea on 2014-05-31\"',\n",
       " '\"Religion_(North_Korea) Were expelled or deported by to/with North_Korea on 2014-03-08\"',\n",
       " '\"Ministry_(North_Korea) Made a statement to/with North_Korea on 2014-03-27\"',\n",
       " '\"Ministry_(North_Korea) Had others express accord with them to/with Business_(Russia) on 2014-10-21\"',\n",
       " '\"Ministry_(North_Korea) Engaged in symbolic act to/with Citizen_(North_Korea) on 2014-01-31\"']"
      ]
     },
     "execution_count": 59,
     "metadata": {},
     "output_type": "execute_result"
    }
   ],
   "source": [
    "related_entity_facts = []\n",
    "for ent in related_entities:\n",
    "    filter = {\"subject\": ent}\n",
    "    docs = lookup_facts(vector_db['facts']['vector_db'], filter, search_content, top_k=10)\n",
    "    related_entity_facts.extend([doc.page_content for doc in docs])\n",
    "\n",
    "related_entity_facts"
   ]
  },
  {
   "cell_type": "markdown",
   "metadata": {},
   "source": [
    "### Prompt version 1"
   ]
  },
  {
   "cell_type": "code",
   "execution_count": 60,
   "metadata": {},
   "outputs": [],
   "source": [
    "system_msg_content = f'''\n",
    "You are an expert in Temporal Knowledge Graphs, utilizing data consisting of events and activities worldwide involving countries, organizations, famous individuals, etc.   \n",
    "Your task is Temporal Knowledge Graph Reasoning, which involves predicting the missing object in a given fact from the test dataset. A fact is represented as a quadruple: subject, relation, object, and time.\n",
    "\n",
    "In this context:  \n",
    "- \"subject\" is the entity mentioned in the query  \n",
    "- \"relation\" is an action/event performed by the subject  \n",
    "- \"object\" is the entity you need to infer through reasoning  \n",
    "- \"timestamp\": The temporal aspect of the fact\n",
    "\n",
    "To support your reasoning process in finding the missing object, you will be provided with relevant facts:  \n",
    "1. Primary Information:  \n",
    "- A sequence of events (facts), known as \"Reasoning Paths\", related to the query's subject and relation  \n",
    "- Learned rules from training and validation datasets that represent patterns which events typically follow. An important note is relations with the \"inv_\" prefix (e.g., \"inv_make_statement\") indicate passive relations. For example: inv_make_statement(B,A,T) means \"B receives a statement from A at time T.\n",
    "Using this source of information, your task is to infer the missing \"object\" through multi-hop reasoning.  \n",
    "2. Secondary Information:  \n",
    "- Most related entities to the entity subject  \n",
    "- Facts between these related entities with the entity subject.\n",
    "This information aids your reasoning process, especially because:     \n",
    "- These entities can be candidates because they might have relationships with the entity subject, which are also similar to the relationship between the entity subject and the missing object,\n",
    "3. Additional Information:\n",
    "- The facts of these related entities.\n",
    "This information is useful especiall when there are no facts about the entity subject in the past. So, patterns from these similar entities might apply to the entity subject to infer the missing object.\n",
    "\n",
    "You should follow these reasoning Process Guidelines:  \n",
    "1. Primary Analysis:  \n",
    "   - Analyze direct reasoning paths connecting to the subject  \n",
    "   - Match and apply relevant rules to existing facts  \n",
    "   - Identify temporal patterns and their significance  \n",
    "   - Evaluate the strength of direct evidence  \n",
    "\n",
    "2. Multi-hop Reasoning:  \n",
    "   - Consider indirect connections through intermediate entities  \n",
    "   - Evaluate path length and relevance  \n",
    "   - Consider temporal sequence of connected facts  \n",
    "   - Weight evidence based on path length and temporal proximity  \n",
    "\n",
    "3. Similar Entity Analysis:  \n",
    "   - Consider most related entities as potential candidates because they might have relationships with the entity subject in the past.\n",
    "   - Examine patterns from semantically similar entities  \n",
    "   - Apply successful patterns from similar entities  \n",
    "\n",
    "Finally, for the candidate selection criteria:  \n",
    "1. Evidence Strength:  \n",
    "   - Direct path evidence (highest weight)  \n",
    "   - Rule application matches  \n",
    "   - Multi-hop reasoning paths \n",
    "   - Related entity patterns  \n",
    "    \n",
    "2. Temporal Relevance:  \n",
    "   - Recency of connections  \n",
    "   - Pattern consistency over time  \n",
    "   - Temporal proximity to query time  \n",
    "\n",
    "3. Confidence Scoring:  \n",
    "   - Direct evidence: High confidence  \n",
    "   - Rule-based inference: Medium-high confidence  \n",
    "   - Related entity and their patterns: Medium confidence  \n",
    "   - Multi-hop paths: Weighted by path length\n",
    "\n",
    "Your answer should be in the following JSON format:  \n",
    "{{  \n",
    "    \"candidates\": // An ordered list of up to 10 candidates, from highest to lowest likelihood of being the correct answer.   \n",
    "                  // Each candidate should be an entity name exactly as it appears in the given facts.  \n",
    "                  // The list should be ordered by decreasing probability of being the correct answer.\n",
    "}}\n",
    "'''\n",
    "system_msg = SystemMessage(content=system_msg_content)\n",
    "\n",
    "user_msg_content = f'''\n",
    "For the primary information:\n",
    "- Here are facts related to the query's subject and relation:\n",
    "{related_facts}\n",
    "- Here are the learned rules related to query's relation:\n",
    "{related_rules}\n",
    "\n",
    "For the secondary information:\n",
    "- Here are the most related entities to the entity \"subject\" and the facts between these related entities and the entity \"subject\":\n",
    "   + {related_entities}\n",
    "\n",
    "For the additional information:\n",
    "- Here are the facts of these related entities:\n",
    "   + {related_entity_facts}\n",
    "'''\n",
    "user_msg = HumanMessage(content=user_msg_content)"
   ]
  },
  {
   "cell_type": "code",
   "execution_count": 61,
   "metadata": {},
   "outputs": [
    {
     "name": "stdout",
     "output_type": "stream",
     "text": [
      "\n",
      "For the primary information:\n",
      "- Here are facts related to the query's subject and relation:\n",
      "['\"Business_(North_Korea) Made a statement to/with North_Korea on 2014-07-15\"', '\"Business_(North_Korea) Had embargo, boycott, or sanctions imposed to/with UN_Security_Council on 2014-08-05\"', '\"Business_(North_Korea) Received intent to yield to/with North_Korea on 2014-09-22\"', '\"Business_(North_Korea) Assassinated to/with Kim_Jong-Un on 2014-07-10\"', '\"Business_(North_Korea) Defied norms, law to/with North_Korea on 2014-02-20\"', '\"Business_(North_Korea) Had embargo, boycott, or sanctions imposed to/with Government_(United_States) on 2014-07-31\"', '\"Business_(North_Korea) Expressed intent to meet or negotiate to/with South_Korea on 2014-04-29\"', '\"North_Korea Made pessimistic comment to/with Citizen_(North_Korea) on 2014-05-29\"', '\"North_Korea Made pessimistic comment to/with Citizen_(North_Korea) on 2014-05-28\"', '\"North_Korea received a pessimistic comment from to/with Kim_Jong-Un on 2014-01-07\"', '\"North_Korea Made pessimistic comment to/with Japan on 2014-05-28\"', '\"Government_(United_States) Made pessimistic comment to/with South_Korea on 2014-01-06\"', '\"Government_(United_States) Made pessimistic comment to/with Gerhard_Schröder on 2014-02-05\"', '\"Government_(United_States) Made pessimistic comment to/with Thailand on 2014-04-10\"', '\"Government_(United_States) Made pessimistic comment to/with Thailand on 2014-04-09\"', '\"Kim_Jong-Un Made pessimistic comment to/with North_Korea on 2014-01-07\"', '\"Kim_Jong-Un Made optimistic comment to/with Citizen_(South_Korea) on 2014-08-07\"', '\"Kim_Jong-Un received an optimistic comment from to/with Sergey_Viktorovich_Lavrov on 2014-11-21\"', '\"Kim_Jong-Un received an optimistic comment from to/with Sergey_Viktorovich_Lavrov on 2014-11-20\"', '\"South_Korea Made pessimistic comment to/with North_Korea on 2014-01-03\"', '\"South_Korea Made pessimistic comment to/with North_Korea on 2014-01-21\"', '\"South_Korea Made pessimistic comment to/with North_Korea on 2014-01-05\"', '\"South_Korea Made pessimistic comment to/with North_Korea on 2014-10-31\"', '\"UN_Security_Council Made pessimistic comment to/with South_Sudan on 2014-07-28\"', '\"UN_Security_Council Made pessimistic comment to/with Military_Personnel_-_Special_(Afghanistan) on 2014-11-27\"', '\"UN_Security_Council Made pessimistic comment to/with Military_Personnel_-_Special_(Afghanistan) on 2014-11-28\"', '\"UN_Security_Council Made pessimistic comment to/with Military_Personnel_-_Special_(Afghanistan) on 2014-05-24\"', '\"Citizen_(South_Korea) Made pessimistic comment to/with North_Korea on 2014-07-17\"', '\"Citizen_(South_Korea) received a pessimistic comment from to/with Ryoo_Kihl-jae on 2014-10-21\"', '\"South_Sudan received a pessimistic comment from to/with China on 2014-01-03\"', '\"South_Sudan received a pessimistic comment from to/with China on 2014-01-02\"', '\"Japan Made pessimistic comment to/with France on 2014-07-28\"', '\"Japan Made pessimistic comment to/with France on 2014-07-30\"', '\"Gerhard_Schröder received a pessimistic comment from to/with Government_(United_States) on 2014-02-05\"', '\"Gerhard_Schröder Criticized or denounced to/with Angela_Merkel on 2014-02-21\"', '\"Sergey_Viktorovich_Lavrov Made pessimistic comment to/with North_Atlantic_Treaty_Organization on 2014-04-02\"', '\"Sergey_Viktorovich_Lavrov Made pessimistic comment to/with John_Kerry on 2014-06-27\"', '\"Military_Personnel_-_Special_(Afghanistan) received a pessimistic comment from to/with UN_Security_Council on 2014-11-27\"', '\"Military_Personnel_-_Special_(Afghanistan) received a pessimistic comment from to/with UN_Security_Council on 2014-11-28\"', '\"Thailand received a pessimistic comment from to/with Citizen_(Thailand) on 2014-01-20\"', '\"Thailand received a pessimistic comment from to/with Citizen_(Thailand) on 2014-01-19\"', '\"Citizen_(North_Korea) Made pessimistic comment to/with North_Korea on 2014-07-12\"', '\"Citizen_(North_Korea) received a pessimistic comment from to/with North_Korea on 2014-05-28\"']\n",
      "- Here are the learned rules related to query's relation:\n",
      "['Make_pessimistic_comment(X0,X2,T3)<-Express_intent_to_cooperate_economically(X0,X1,T0)&inv_Express_intent_to_cooperate_economically(X1,X0,T1)&Make_pessimistic_comment(X0,X2,T2)', 'Make_pessimistic_comment(X0,X1,T1)<-Make_pessimistic_comment(X0,X1,T0)', 'Make_pessimistic_comment(X0,X2,T2)<-Make_statement(X0,X1,T0)&Threaten(X1,X2,T1)', 'Make_pessimistic_comment(X0,X2,T3)<-Conduct_hunger_strike(X0,X1,T0)&inv_Praise_or_endorse(X1,X0,T1)&Criticize_or_denounce(X0,X2,T2)', 'Make_pessimistic_comment(X0,X2,T3)<-inv_Host_a_visit(X0,X1,T0)&inv_Express_intent_to_meet_or_negotiate(X1,X0,T1)&Make_pessimistic_comment(X0,X2,T2)', 'Make_pessimistic_comment(X0,X2,T3)<-inv_Demand_change_in_leadership(X0,X1,T0)&inv_Praise_or_endorse(X1,X0,T1)&Criticize_or_denounce(X0,X2,T2)', 'Make_pessimistic_comment(X0,X2,T2)<-inv_Use_unconventional_violence(X0,X1,T0)&inv_Make_optimistic_comment(X1,X2,T1)', 'Make_pessimistic_comment(X0,X3,T3)<-Express_intent_to_meet_or_negotiate(X0,X1,T0)&inv_Use_conventional_military_force(X1,X2,T1)&Criticize_or_denounce(X2,X3,T2)', 'Make_pessimistic_comment(X0,X2,T3)<-inv_Consult(X0,X1,T0)&inv_Consult(X1,X0,T1)&Make_pessimistic_comment(X0,X2,T2)', 'Make_pessimistic_comment(X0,X2,T3)<-inv_Make_a_visit(X0,X1,T0)&inv_Host_a_visit(X1,X0,T1)&Make_pessimistic_comment(X0,X2,T2)', 'Make_pessimistic_comment(X0,X1,T3)<-inv_Reject_proposal_to_meet,_discuss,_or_negotiate(X0,X1,T0)&Sign_formal_agreement(X1,X2,T1)&Make_statement(X2,X1,T2)']\n",
      "\n",
      "For the secondary information:\n",
      "- Here are the most related entities to the entity \"subject\" and their facts:\n",
      "   + ['Finance_/_Economy_/_Commerce_/_Trade_Ministry_(North_Korea)', 'Business_(South_Korea)', 'Bank_(North_Korea)', 'Employee_(North_Korea)', 'Business_(Cuba)', 'Military_(North_Korea)', 'Business_(Norway)', 'North_Korea', 'Religion_(North_Korea)', 'Ministry_(North_Korea)']\n",
      "   + ['\"Finance_/_Economy_/_Commerce_/_Trade_Ministry_(North_Korea) was hosted by to/with Angola on 2014-05-23\"', '\"Finance_/_Economy_/_Commerce_/_Trade_Ministry_(North_Korea) Made a visit to/with Angola on 2014-05-23\"', '\"Business_(South_Korea) was criticized or denounced by to/with Ministry_(South_Korea) on 2014-07-15\"', '\"Business_(South_Korea) was criticized or denounced by to/with Ministry_(South_Korea) on 2014-07-16\"', '\"Business_(South_Korea) Made a statement to/with Barack_Obama on 2014-03-15\"', '\"Business_(South_Korea) was hosted by to/with North_Korea on 2014-04-21\"', '\"Business_(South_Korea) was hosted by to/with North_Korea on 2014-04-28\"', '\"Business_(South_Korea) was hosted by to/with North_Korea on 2014-04-22\"', '\"Business_(South_Korea) Consulted to/with Head_of_Government_(South_Korea) on 2014-11-14\"', '\"Business_(South_Korea) received a statement from to/with Energy_Department/Ministry_(Philippines) on 2014-06-17\"', '\"Business_(South_Korea) received a statement from to/with North_Korea on 2014-06-30\"', '\"Business_(South_Korea) Expressed intent to cooperate economically to/with Iran on 2014-01-26\"', '\"Bank_(North_Korea) Provided economic aid to/with North_Korea on 2014-10-16\"', '\"Employee_(North_Korea) was praised or endorsed by to/with North_Korea on 2014-05-01\"', '\"Business_(Cuba) Made a statement to/with Farm_Worker_(Cuba) on 2014-08-21\"', '\"Business_(Cuba) Made a statement to/with Lawyer/Attorney_(Cuba) on 2014-09-29\"', '\"Business_(Cuba) received a statement from to/with Juventud_Rebelde on 2014-03-28\"', '\"Military_(North_Korea) was criticized or denounced by to/with North_Korea on 2014-04-26\"', '\"Military_(North_Korea) Made a statement to/with Japan on 2014-11-30\"', '\"Military_(North_Korea) was praised or endorsed by to/with North_Korea on 2014-07-23\"', '\"Military_(North_Korea) was praised or endorsed by to/with North_Korea on 2014-01-01\"', '\"Military_(North_Korea) was praised or endorsed by to/with Kim_Jong-Un on 2014-01-12\"', '\"Military_(North_Korea) Rejected to/with South_Korea on 2014-05-24\"', '\"Military_(North_Korea) were targets of unconventional violence to/with Citizen_(North_Korea) on 2014-06-23\"', '\"Military_(North_Korea) Accused to/with South_Korea on 2014-05-21\"', '\"Military_(North_Korea) Accused to/with South_Korea on 2014-08-17\"', '\"Military_(North_Korea) Consulted to/with South_Korea on 2014-03-06\"', '\"Business_(Norway) were the recipients of expressed intent to engage in diplomatic cooperation (such as policy support) to/with Business_(Russia) on 2014-08-28\"', '\"Business_(Norway) cooperated economically with to/with Ethiopia on 2014-06-11\"', '\"Business_(Norway) were investigated to/with Trondheim on 2014-03-12\"', '\"North_Korea Made pessimistic comment to/with Citizen_(North_Korea) on 2014-05-29\"', '\"North_Korea Made pessimistic comment to/with Citizen_(North_Korea) on 2014-05-28\"', '\"North_Korea received a pessimistic comment from to/with Kim_Jong-Un on 2014-01-07\"', '\"North_Korea Made pessimistic comment to/with Japan on 2014-05-28\"', '\"North_Korea received a pessimistic comment from to/with South_Korea on 2014-01-21\"', '\"North_Korea received a pessimistic comment from to/with Citizen_(North_Korea) on 2014-07-12\"', '\"North_Korea received a pessimistic comment from to/with South_Korea on 2014-01-05\"', '\"North_Korea received a pessimistic comment from to/with South_Korea on 2014-01-03\"', '\"North_Korea received a pessimistic comment from to/with Citizen_(South_Korea) on 2014-07-17\"', '\"North_Korea received a pessimistic comment from to/with South_Korea on 2014-10-31\"', '\"Religion_(North_Korea) was arrested, detained, or charged with legal action by to/with North_Korea on 2014-06-02\"', '\"Religion_(North_Korea) was arrested, detained, or charged with legal action by to/with North_Korea on 2014-05-31\"', '\"Religion_(North_Korea) Were expelled or deported by to/with North_Korea on 2014-03-08\"', '\"Ministry_(North_Korea) Made a statement to/with North_Korea on 2014-03-27\"', '\"Ministry_(North_Korea) Had others express accord with them to/with Business_(Russia) on 2014-10-21\"', '\"Ministry_(North_Korea) Engaged in symbolic act to/with Citizen_(North_Korea) on 2014-01-31\"']\n",
      "\n"
     ]
    }
   ],
   "source": [
    "print(user_msg_content)"
   ]
  },
  {
   "cell_type": "code",
   "execution_count": 62,
   "metadata": {},
   "outputs": [],
   "source": [
    "answer_llm = llm_instance.run_task([system_msg, user_msg])"
   ]
  },
  {
   "cell_type": "code",
   "execution_count": 63,
   "metadata": {},
   "outputs": [
    {
     "data": {
      "text/plain": [
       "{'candidates': ['Citizen_(North_Korea)',\n",
       "  'Kim_Jong-Un',\n",
       "  'North_Korea',\n",
       "  'Business_(South_Korea)',\n",
       "  'Military_(North_Korea)',\n",
       "  'Finance_/_Economy_/_Commerce_/_Trade_Ministry_(North_Korea)',\n",
       "  'Ministry_(North_Korea)',\n",
       "  'Business_(Cuba)',\n",
       "  'Employee_(North_Korea)',\n",
       "  'Business_(Norway)']}"
      ]
     },
     "execution_count": 63,
     "metadata": {},
     "output_type": "execute_result"
    }
   ],
   "source": [
    "answer_llm"
   ]
  },
  {
   "cell_type": "code",
   "execution_count": 51,
   "metadata": {},
   "outputs": [
    {
     "data": {
      "text/plain": [
       "['Finance_/_Economy_/_Commerce_/_Trade_Ministry_(North_Korea)',\n",
       " 'Business_(South_Korea)',\n",
       " 'Bank_(North_Korea)',\n",
       " 'Employee_(North_Korea)',\n",
       " 'Business_(Cuba)',\n",
       " 'Military_(North_Korea)',\n",
       " 'Business_(Norway)',\n",
       " 'North_Korea',\n",
       " 'Religion_(North_Korea)',\n",
       " 'Ministry_(North_Korea)']"
      ]
     },
     "execution_count": 51,
     "metadata": {},
     "output_type": "execute_result"
    }
   ],
   "source": [
    "related_entities"
   ]
  }
 ],
 "metadata": {
  "kernelspec": {
   "display_name": "LLM_DA-env",
   "language": "python",
   "name": "python3"
  },
  "language_info": {
   "codemirror_mode": {
    "name": "ipython",
    "version": 3
   },
   "file_extension": ".py",
   "mimetype": "text/x-python",
   "name": "python",
   "nbconvert_exporter": "python",
   "pygments_lexer": "ipython3",
   "version": "3.10.15"
  }
 },
 "nbformat": 4,
 "nbformat_minor": 2
}
