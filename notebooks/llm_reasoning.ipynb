{
 "cells": [
  {
   "cell_type": "code",
   "execution_count": 2,
   "metadata": {},
   "outputs": [
    {
     "name": "stdout",
     "output_type": "stream",
     "text": [
      "Current working folder: D:\\My Document\\Khóa Luận Tốt Nghiệp\\Model Reposity\\RAG_LLM_DA\n",
      "Current working folder: D:\\My Document\\Khóa Luận Tốt Nghiệp\\Model Reposity\\RAG_LLM_DA\n"
     ]
    }
   ],
   "source": [
    "import os\n",
    "print(f\"Current working folder: {os.getcwd()}\")\n",
    "\n",
    "os.chdir('D:/My Document/Khóa Luận Tốt Nghiệp/Model Reposity/RAG_LLM_DA')\n",
    "print(f\"Current working folder: {os.getcwd()}\")\n",
    "import pandas as pd\n",
    "from stages.stage_1_learn_rules_from_data.data_loader import DataLoader\n",
    "from stages.stage_1_learn_rules_from_data.temporal_walk import TemporalWalker\n",
    "from stages.stage_1_learn_rules_from_data.temporal_walk import store_edges\n",
    "from stages.stage_1_learn_rules_from_data.rule_learning import RuleLearner, rules_statistics\n",
    "from langchain_core.messages import HumanMessage, AIMessage, SystemMessage\n",
    "from openai_llm.llm_init import LLM_Model\n",
    "from utils import load_json_data, save_json_data, load_vectorstore_db, load_learn_data, lookup_vector_db"
   ]
  },
  {
   "cell_type": "code",
   "execution_count": 3,
   "metadata": {},
   "outputs": [
    {
     "name": "stdout",
     "output_type": "stream",
     "text": [
      "Loading data from config/llm_config.json\n",
      "Loading data from .\\datasets\\icews14\\entity2id.json\n",
      "Loading data from .\\datasets\\icews14\\relation2id.json\n",
      "Loading data from .\\datasets\\icews14\\ts2id.json\n",
      "Loading data from config/rule_regex.json\n",
      "Loading data from result/icews14/stage_1/transformed_relations.json\n"
     ]
    }
   ],
   "source": [
    "llm_instance = LLM_Model()\n",
    "dataset_dir = os.path.join(\".\", \"datasets\", 'icews14')\n",
    "dir_path = os.path.join(\".\", \"result\", 'icews14', \"stage_3\")\n",
    "\n",
    "data = DataLoader(dataset_dir)\n",
    "test_data = data.test_data_text\n",
    "rule_regex = load_json_data(\"config/rule_regex.json\")['icews14']\n",
    "temporal_walk_data = load_learn_data(data, 'all')\n",
    "temporal_walk = TemporalWalker(temporal_walk_data, data.inverse_rel_idx, 'exp')\n",
    "rl = RuleLearner(temporal_walk.edges, data.relation2id, data.id2entity, data.id2relation, data.inverse_rel_idx, \n",
    "                    'icews14', len(temporal_walk_data), dir_path)\n",
    "\n",
    "transformed_relations = load_json_data('result/icews14/stage_1/transformed_relations.json')"
   ]
  },
  {
   "cell_type": "code",
   "execution_count": 5,
   "metadata": {},
   "outputs": [
    {
     "name": "stdout",
     "output_type": "stream",
     "text": [
      "Loading data from config/data_embedding.json\n",
      "facts: 166718 documents\n",
      "rules: 0 documents\n"
     ]
    }
   ],
   "source": [
    "vector_db = load_vectorstore_db(llm_instance, 'icews14')\n",
    "for collection in vector_db:\n",
    "    print(f\"{collection}: {len(vector_db[collection]['vector_db'].get()['documents'])} documents\")"
   ]
  },
  {
   "cell_type": "markdown",
   "metadata": {},
   "source": [
    "### Convert query to natural question"
   ]
  },
  {
   "cell_type": "code",
   "execution_count": 4,
   "metadata": {},
   "outputs": [
    {
     "data": {
      "text/plain": [
       "(['Yemi_Osinbajo', 'inv_Make_statement', 'Kayode_Fayemi', '2014-12-19'],\n",
       " 'Yemi_Osinbajo received a statement from by whom on 2014-12-19?')"
      ]
     },
     "execution_count": 4,
     "metadata": {},
     "output_type": "execute_result"
    }
   ],
   "source": [
    "test_query = test_data[12365]\n",
    "\n",
    "if \"inv_\" in test_query[1]:\n",
    "    question = f\"{test_query[0]} {transformed_relations[test_query[1]]} by whom on {test_query[3]}?\"\n",
    "else:\n",
    "    question = f\"{test_query[0]} {transformed_relations[test_query[1]]} to/with whom on {test_query[3]}?\"\n",
    "test_query, question"
   ]
  },
  {
   "cell_type": "markdown",
   "metadata": {},
   "source": [
    "### Get `top_k` most similar relations to the relation in the query"
   ]
  },
  {
   "cell_type": "code",
   "execution_count": 5,
   "metadata": {},
   "outputs": [
    {
     "data": {
      "text/plain": [
       "'inv_Make_statement'"
      ]
     },
     "execution_count": 5,
     "metadata": {},
     "output_type": "execute_result"
    }
   ],
   "source": [
    "test_query[1]"
   ]
  },
  {
   "cell_type": "code",
   "execution_count": 6,
   "metadata": {},
   "outputs": [
    {
     "name": "stdout",
     "output_type": "stream",
     "text": [
      "0.29735334900780497\n",
      "0: Make_statement\n",
      "232: inv_Make_an_appeal_or_request\n",
      "252: inv_Make_optimistic_comment\n",
      "311: inv_Express_intent_to_settle_dispute\n",
      "328: inv_Apologize\n",
      "230: inv_Make_statement\n"
     ]
    }
   ],
   "source": [
    "import numpy as np\n",
    "\n",
    "def get_top_k_relations(similarity_matrix, relation_id, top_k=5):\n",
    "    relation_similarity = similarity_matrix[relation_id]\n",
    "    print(relation_similarity[3])\n",
    "    top_k_relations = np.argsort(relation_similarity)[::-1][:top_k]\n",
    "    return top_k_relations.tolist()\n",
    "\n",
    "similarity_matrix = np.load('result/icews14/stage_1/relation_similarity.npy')\n",
    "relation_id = data.relation2id[test_query[1]]\n",
    "top_k_id = get_top_k_relations(similarity_matrix, relation_id)\n",
    "top_k_id.append(relation_id)\n",
    "top_k_rels = [data.id2relation[rel_id] for rel_id in top_k_id]\n",
    "for rel_id, rel in zip(top_k_id, top_k_rels):\n",
    "    print(f\"{rel_id}: {rel}\")"
   ]
  },
  {
   "cell_type": "markdown",
   "metadata": {},
   "source": [
    "### Get all related rules"
   ]
  },
  {
   "cell_type": "code",
   "execution_count": 164,
   "metadata": {},
   "outputs": [
    {
     "name": "stdout",
     "output_type": "stream",
     "text": [
      "Rules statistics:\n",
      "Number of relations with rules:  259\n",
      "Total number of rules:  7609\n",
      "Number of rules by length:  [(1, 1063), (2, 550), (3, 5996)]\n"
     ]
    }
   ],
   "source": [
    "rules_df = pd.read_csv('result/icews14/stage_2/01_only_Markovian_merged_results.csv')\n",
    "for _, entry in rules_df.iterrows():\n",
    "    rl.create_rule_from_series_df(entry=entry, rule_regex=rule_regex)\n",
    "rules_dict = rl.rules_dict\n",
    "print(\"Rules statistics:\")\n",
    "rules_statistics(rules_dict)\n",
    "# rules_df.columns"
   ]
  },
  {
   "cell_type": "code",
   "execution_count": 165,
   "metadata": {},
   "outputs": [],
   "source": [
    "def filter_related_rules(rules_dict, rel_id, top_k_id):\n",
    "    related_rules = []\n",
    "    rules = rules_dict[rel_id]\n",
    "    print(len(rules))\n",
    "    for rule in rules:\n",
    "        if list(set(top_k_id) & set(rule['body_rels'])):\n",
    "            related_rules.append(rule)\n",
    "\n",
    "    return related_rules\n"
   ]
  },
  {
   "cell_type": "code",
   "execution_count": 166,
   "metadata": {},
   "outputs": [
    {
     "name": "stdout",
     "output_type": "stream",
     "text": [
      "67\n"
     ]
    },
    {
     "data": {
      "text/plain": [
       "35"
      ]
     },
     "execution_count": 166,
     "metadata": {},
     "output_type": "execute_result"
    }
   ],
   "source": [
    "related_rules = filter_related_rules(rules_dict, data.relation2id[test_query[1]], top_k_id)\n",
    "len(related_rules)"
   ]
  },
  {
   "cell_type": "code",
   "execution_count": 167,
   "metadata": {},
   "outputs": [
    {
     "name": "stdout",
     "output_type": "stream",
     "text": [
      "Make_statement(X0,X1,T3)<-Make_statement(X0,X1,T0)&Use_conventional_military_force(X1,X2,T1)&Use_unconventional_violence(X2,X1,T2)\n",
      "Make_statement(X0,X2,T3)<-Make_an_appeal_or_request(X0,X1,T0)&inv_Make_statement(X1,X0,T1)&Make_statement(X0,X2,T2)\n",
      "Make_statement(X0,X1,T3)<-Make_statement(X0,X1,T0)&inv_Express_intent_to_cooperate_militarily(X1,X2,T1)&Express_intent_to_cooperate_militarily(X2,X1,T2)\n",
      "Make_statement(X0,X1,T3)<-Make_statement(X0,X1,T0)&inv_Sign_formal_agreement(X1,X2,T1)&inv_Express_intent_to_engage_in_diplomatic_cooperation_(such_as_policy_support)(X2,X1,T2)\n",
      "Make_statement(X0,X1,T3)<-Make_statement(X0,X1,T0)&inv_Engage_in_diplomatic_cooperation(X1,X2,T1)&inv_Engage_in_diplomatic_cooperation(X2,X1,T2)\n",
      "Make_statement(X0,X1,T3)<-Make_statement(X0,X1,T0)&Arrest,_detain,_or_charge_with_legal_action(X1,X2,T1)&inv_Investigate(X2,X1,T2)\n",
      "Make_statement(X0,X1,T3)<-Make_statement(X0,X1,T0)&Arrest,_detain,_or_charge_with_legal_action(X1,X2,T1)&inv_Arrest,_detain,_or_charge_with_legal_action(X2,X1,T2)\n",
      "Make_statement(X0,X1,T3)<-Make_statement(X0,X1,T0)&Make_optimistic_comment(X1,X2,T1)&Express_intent_to_meet_or_negotiate(X2,X1,T2)\n",
      "Make_statement(X0,X1,T3)<-Make_statement(X0,X1,T0)&Consult(X1,X2,T1)&Make_a_visit(X2,X1,T2)\n",
      "Make_statement(X0,X1,T3)<-Make_statement(X0,X1,T0)&inv_Praise_or_endorse(X1,X2,T1)&Make_statement(X2,X1,T2)\n",
      "Make_statement(X0,X1,T1)<-Make_statement(X0,X1,T0)\n",
      "Make_statement(X0,X1,T3)<-Make_statement(X0,X1,T0)&Meet_at_a_'third'_location(X1,X2,T1)&Express_intent_to_meet_or_negotiate(X2,X1,T2)\n",
      "Make_statement(X0,X2,T3)<-inv_Host_a_visit(X0,X1,T0)&inv_Make_a_visit(X1,X0,T1)&Make_statement(X0,X2,T2)\n",
      "Make_statement(X0,X1,T3)<-Make_statement(X0,X1,T0)&Express_intent_to_meet_or_negotiate(X1,X2,T1)&Express_intent_to_meet_or_negotiate(X2,X1,T2)\n",
      "Make_statement(X0,X1,T3)<-Make_statement(X0,X1,T0)&Make_an_appeal_or_request(X1,X2,T1)&inv_Arrest,_detain,_or_charge_with_legal_action(X2,X1,T2)\n",
      "Make_statement(X0,X2,T3)<-Make_statement(X0,X1,T0)&inv_Make_statement(X1,X0,T1)&Make_statement(X0,X2,T2)\n",
      "Make_statement(X0,X1,T3)<-Make_statement(X0,X1,T0)&inv_Host_a_visit(X1,X2,T1)&inv_Make_a_visit(X2,X1,T2)\n",
      "Make_statement(X0,X3,T3)<-Make_statement(X0,X1,T0)&inv_Make_statement(X1,X2,T1)&Accuse(X2,X3,T2)\n",
      "Make_statement(X0,X1,T3)<-Make_statement(X0,X1,T0)&inv_Consult(X1,X2,T1)&inv_Consult(X2,X1,T2)\n",
      "Make_statement(X0,X3,T3)<-inv_Consult(X0,X1,T0)&Consult(X1,X2,T1)&Make_statement(X2,X3,T2)\n",
      "Make_statement(X0,X1,T3)<-Investigate(X0,X1,T0)&inv_Make_statement(X1,X2,T1)&Make_statement(X2,X1,T2)\n",
      "Make_statement(X0,X2,T2)<-Investigate(X0,X1,T0)&Make_statement(X1,X2,T1)\n",
      "Make_statement(X0,X1,T3)<-inv_Use_conventional_military_force(X0,X1,T0)&Use_conventional_military_force(X1,X2,T1)&Make_statement(X2,X1,T2)\n",
      "Make_statement(X0,X2,T3)<-Consult(X0,X1,T0)&inv_Discuss_by_telephone(X1,X0,T1)&Make_an_appeal_or_request(X0,X2,T2)\n",
      "Make_statement(X0,X2,T3)<-inv_Express_intent_to_release_persons_or_property(X0,X1,T0)&Make_statement(X1,X0,T1)&Make_statement(X0,X2,T2)\n",
      "Make_statement(X0,X2,T3)<-inv_Occupy_territory(X0,X1,T0)&Occupy_territory(X1,X0,T1)&Make_statement(X0,X2,T2)\n",
      "Make_statement(X0,X1,T3)<-Consult(X0,X1,T0)&inv_Make_statement(X1,X2,T1)&inv_Make_an_appeal_or_request(X2,X1,T2)\n",
      "Make_statement(X0,X1,T3)<-Make_statement(X0,X1,T0)&Sign_formal_agreement(X1,X2,T1)&Sign_formal_agreement(X2,X1,T2)\n",
      "Make_statement(X0,X1,T3)<-Make_statement(X0,X1,T0)&inv_Express_intent_to_cooperate(X1,X2,T1)&inv_Express_intent_to_cooperate(X2,X1,T2)\n",
      "Make_statement(X0,X3,T3)<-Make_statement(X0,X1,T0)&Arrest,_detain,_or_charge_with_legal_action(X1,X2,T1)&inv_Acknowledge_or_claim_responsibility(X2,X3,T2)\n",
      "Make_statement(X0,X3,T3)<-Make_optimistic_comment(X0,X1,T0)&Accuse(X1,X2,T1)&Make_statement(X2,X3,T2)\n",
      "Make_statement(X0,X1,T3)<-inv_Make_statement(X0,X1,T0)&Engage_in_negotiation(X1,X2,T1)&Make_an_appeal_or_request(X2,X1,T2)\n",
      "Make_statement(X0,X3,T3)<-Make_statement(X0,X1,T0)&Meet_at_a_'third'_location(X1,X2,T1)&inv_Meet_at_a_'third'_location(X2,X3,T2)\n",
      "Make_statement(X0,X1,T1)<-Make_a_visit(X0,X1,T0)\n",
      "Make_statement(X0,X2,T2)<-Make_an_appeal_or_request(X0,X1,T0)&Reduce_relations(X1,X2,T1)\n"
     ]
    }
   ],
   "source": [
    "for rule in related_rules:\n",
    "    print(rule['verbalized_rule'])"
   ]
  },
  {
   "cell_type": "markdown",
   "metadata": {},
   "source": [
    "### Get related facts"
   ]
  },
  {
   "cell_type": "code",
   "execution_count": null,
   "metadata": {},
   "outputs": [],
   "source": [
    "search_content = \"\"\n",
    "for rel_id in top_k_rels:\n",
    "    search_content += f\"{data.id2relation[rel_id]} \""
   ]
  },
  {
   "cell_type": "code",
   "execution_count": 168,
   "metadata": {},
   "outputs": [],
   "source": [
    "search_content = transformed_relations[test_query[1]]"
   ]
  },
  {
   "cell_type": "code",
   "execution_count": 169,
   "metadata": {},
   "outputs": [],
   "source": [
    "def lookup_facts(vector_db, subject, search_content, top_k=30):\n",
    "    filter = {\"subject\": subject}\n",
    "    docs = lookup_vector_db(search_content, filter, vector_db, llm_instance, top_k=top_k)\n",
    "    return docs"
   ]
  },
  {
   "cell_type": "code",
   "execution_count": 170,
   "metadata": {},
   "outputs": [
    {
     "name": "stdout",
     "output_type": "stream",
     "text": [
      "20\n",
      "34\n",
      "54\n"
     ]
    }
   ],
   "source": [
    "def get_related_facts(search_content, vector_db, llm_instance, related_facts, candidates_dict, n = 0):\n",
    "    if n == 3:\n",
    "        return related_facts\n",
    "    cands = candidates_dict[n]\n",
    "    candidates_dict[n+1] = set()\n",
    "    for can in cands:\n",
    "        docs = lookup_facts(vector_db, can, search_content, top_k=20//(len(cands)))\n",
    "        for doc in docs:\n",
    "            # print(doc.page_content)\n",
    "            candidates_dict[n+1].add(doc.metadata['object'])\n",
    "            related_facts.append(doc.page_content)\n",
    "    print(len(related_facts))\n",
    "    return get_related_facts(search_content, vector_db, llm_instance, related_facts, candidates_dict, n+1)\n",
    "\n",
    "candidates_dict = {0: {test_query[0]}}    \n",
    "related_facts = get_related_facts(search_content, vector_db['facts']['vector_db'], llm_instance, [], candidates_dict)\n"
   ]
  },
  {
   "cell_type": "code",
   "execution_count": 171,
   "metadata": {},
   "outputs": [
    {
     "data": {
      "text/plain": [
       "{0: {'Kashim_Shettima'},\n",
       " 1: {'Boko_Haram',\n",
       "  'Government_(Nigeria)',\n",
       "  'Head_of_Government_(Nigeria)',\n",
       "  'Indigenous_People_(Nigeria)',\n",
       "  'Militant_(Nigeria)',\n",
       "  'Military_Personnel_-_Special_(Nigeria)',\n",
       "  'Suleiman_Abba'},\n",
       " 2: {'Alhaji_Garba_Umar',\n",
       "  'Education_(Nigeria)',\n",
       "  'Government_(Nigeria)',\n",
       "  'Kashim_Shettima',\n",
       "  'Kayode_Fayemi',\n",
       "  'Labaran_Maku',\n",
       "  'Media_(Nigeria)',\n",
       "  'Militant_(Boko_Haram)',\n",
       "  'Militant_(Nigeria)',\n",
       "  'Nigerian_Navy'},\n",
       " 3: {'Aderenle_Shinaba',\n",
       "  'Alhaji_Garba_Umar',\n",
       "  'Angola',\n",
       "  'Boko_Haram',\n",
       "  'Government_(Nigeria)',\n",
       "  'Kashim_Shettima',\n",
       "  'Kayode_Fayemi',\n",
       "  'Media_(Nigeria)',\n",
       "  'Militant_(Nigeria)',\n",
       "  'Muslim_(Nigeria)',\n",
       "  'Police_(Benin)',\n",
       "  'Rauf_Aregbesola',\n",
       "  'Suleiman_Abba'}}"
      ]
     },
     "execution_count": 171,
     "metadata": {},
     "output_type": "execute_result"
    }
   ],
   "source": [
    "candidates_dict"
   ]
  },
  {
   "cell_type": "code",
   "execution_count": 159,
   "metadata": {},
   "outputs": [
    {
     "data": {
      "text/plain": [
       "['\"UN_Security_Council received an appeal or request from to/with Office_of_the_United_Nations_High_Commissioner_for_Human_Rights on 2014-05-06\"',\n",
       " '\"UN_Security_Council received an appeal or request from to/with Citizen_(Sudan) on 2014-08-25\"',\n",
       " '\"UN_Security_Council received an appeal or request from to/with Iran on 2014-08-29\"',\n",
       " '\"UN_Security_Council received an appeal or request from to/with Citizen_(Sudan) on 2014-02-05\"',\n",
       " '\"UN_Security_Council received an appeal or request from to/with France on 2014-08-07\"',\n",
       " '\"UN_Security_Council received an appeal or request from to/with Iran on 2014-09-01\"',\n",
       " '\"UN_Security_Council received an appeal or request from to/with Amnesty_International on 2014-06-20\"',\n",
       " '\"UN_Security_Council received an appeal or request from to/with Amnesty_International on 2014-03-06\"',\n",
       " '\"UN_Security_Council received an appeal or request from to/with Iran on 2014-01-21\"',\n",
       " '\"UN_Security_Council received an appeal or request from to/with The_Hague on 2014-05-12\"',\n",
       " '\"UN_Security_Council received an appeal or request from to/with France on 2014-05-13\"',\n",
       " '\"UN_Security_Council received an appeal or request from to/with Citizen_(Thailand) on 2014-03-13\"',\n",
       " '\"UN_Security_Council received an appeal or request from to/with Aladdin_Boroujerdi on 2014-08-30\"',\n",
       " '\"UN_Security_Council received an appeal or request from to/with Iran on 2014-01-23\"',\n",
       " '\"UN_Security_Council received an appeal or request from to/with Aladdin_Boroujerdi on 2014-09-01\"',\n",
       " '\"UN_Security_Council received an appeal or request from to/with Sudan on 2014-08-08\"',\n",
       " '\"UN_Security_Council received an appeal or request from to/with Citizen_(Sudan) on 2014-06-14\"',\n",
       " '\"UN_Security_Council received an appeal or request from to/with France on 2014-09-23\"',\n",
       " '\"UN_Security_Council received an appeal or request from to/with Guinea on 2014-02-26\"',\n",
       " '\"UN_Security_Council received an appeal or request from to/with Kuwait on 2014-08-06\"',\n",
       " '\"Iran received an appeal or request from to/with Islamic_Preacher_(Iran) on 2014-04-15\"',\n",
       " '\"Sudan received an appeal or request from to/with Citizen_(Sudan) on 2014-11-16\"',\n",
       " '\"Amnesty_International received an appeal or request from to/with Human_Rights_Commission_(Nigeria) on 2014-09-18\"',\n",
       " '\"Guinea Made an appeal or request to/with UN_Security_Council on 2014-02-26\"',\n",
       " '\"Office_of_the_United_Nations_High_Commissioner_for_Human_Rights received an appeal or request from to/with Alexander_Lukashevich on 2014-06-18\"',\n",
       " '\"The_Hague received an appeal or request from to/with Charles_Taylor on 2014-06-21\"',\n",
       " '\"Kuwait received an appeal or request from to/with Foreign_Affairs_(Kuwait) on 2014-11-30\"',\n",
       " '\"Aladdin_Boroujerdi Made an appeal or request to/with Iran on 2014-09-01\"',\n",
       " '\"Citizen_(Thailand) received an appeal or request from to/with Governor_(Thailand) on 2014-09-03\"',\n",
       " '\"France received an appeal or request from to/with Jean_Qahwaji on 2014-11-03\"',\n",
       " '\"Citizen_(Sudan) received an appeal or request from to/with Ministry_(Sudan) on 2014-05-08\"',\n",
       " '\"Iran received an appeal or request from to/with Islamic_Preacher_(Iran) on 2014-04-15\"',\n",
       " '\"Foreign_Affairs_(Kuwait) Made an appeal or request to/with Kuwait on 2014-11-30\"',\n",
       " '\"Governor_(Thailand) received an appeal or request from to/with Citizen_(Thailand) on 2014-04-10\"',\n",
       " '\"Ministry_(Sudan) Made an appeal or request to/with Citizen_(Sudan) on 2014-05-08\"',\n",
       " '\"Jean_Qahwaji Made an appeal or request to/with France on 2014-11-03\"',\n",
       " '\"Human_Rights_Commission_(Nigeria) received an appeal or request from to/with Citizen_(Nigeria) on 2014-10-17\"',\n",
       " '\"Charles_Taylor Made an appeal or request to/with The_Hague on 2014-06-21\"',\n",
       " '\"Citizen_(Sudan) received an appeal or request from to/with Ministry_(Sudan) on 2014-05-08\"',\n",
       " '\"Alexander_Lukashevich Made an appeal or request to/with Office_of_the_United_Nations_High_Commissioner_for_Human_Rights on 2014-06-18\"',\n",
       " '\"Islamic_Preacher_(Iran) Made an appeal or request to/with Iran on 2014-04-13\"',\n",
       " '\"UN_Security_Council received an appeal or request from to/with Office_of_the_United_Nations_High_Commissioner_for_Human_Rights on 2014-05-06\"']"
      ]
     },
     "execution_count": 159,
     "metadata": {},
     "output_type": "execute_result"
    }
   ],
   "source": [
    "related_facts"
   ]
  },
  {
   "cell_type": "markdown",
   "metadata": {},
   "source": [
    "### Prompt"
   ]
  },
  {
   "cell_type": "code",
   "execution_count": null,
   "metadata": {},
   "outputs": [],
   "source": [
    "system_msg_content = f'''\n",
    "You are an expert in Temporal Knowledge Graphs, utilizing data consisting of events and activities worldwide involving countries, organizations, famous individuals, etc. \n",
    "Your task is considered as Temporal Knowledge Graph Reasoning, which is to predict the missing object in a given fact which is from the test dataset. A fact is a quadruple: subject, relation, object, time.\n",
    "You will be given some rules which are mined from the historical data (train and validation datasets). These rules\n",
    "To tackle this task, you will need to follow these instructions carefully:\n",
    "- \n",
    "'''\n",
    "system_msg = SystemMessage(content=system_msg_content)\n",
    "\n",
    "user_msg_content = f'''\n",
    "\n",
    "'''\n",
    "user_msg = HumanMessage(content=user_msg_content)\n",
    "llm_instance.run_task([system_msg, user_msg])"
   ]
  }
 ],
 "metadata": {
  "kernelspec": {
   "display_name": "LLM_DA-env",
   "language": "python",
   "name": "python3"
  },
  "language_info": {
   "codemirror_mode": {
    "name": "ipython",
    "version": 3
   },
   "file_extension": ".py",
   "mimetype": "text/x-python",
   "name": "python",
   "nbconvert_exporter": "python",
   "pygments_lexer": "ipython3",
   "version": "3.10.15"
  }
 },
 "nbformat": 4,
 "nbformat_minor": 2
}
