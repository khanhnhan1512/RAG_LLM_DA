{
 "cells": [
  {
   "cell_type": "code",
   "execution_count": 2,
   "metadata": {},
   "outputs": [
    {
     "name": "stdout",
     "output_type": "stream",
     "text": [
      "Current working folder: d:\\My Document\\Khóa Luận Tốt Nghiệp\\Model Reposity\\RAG_LLM_DA\\notebooks\n",
      "Current working folder: D:\\My Document\\Khóa Luận Tốt Nghiệp\\Model Reposity\\RAG_LLM_DA\n"
     ]
    }
   ],
   "source": [
    "import os\n",
    "print(f\"Current working folder: {os.getcwd()}\")\n",
    "\n",
    "os.chdir('D:/My Document/Khóa Luận Tốt Nghiệp/Model Reposity/RAG_LLM_DA')\n",
    "print(f\"Current working folder: {os.getcwd()}\")\n",
    "\n",
    "from stages.stage_1_learn_rules_from_data.data_loader import DataLoader\n",
    "from langchain_core.messages import HumanMessage, AIMessage, SystemMessage\n",
    "from openai_llm.llm_init import LLM_Model\n",
    "from utils import load_json_data, save_json_data, load_vectorstore_db, lookup_vector_db, calculate_similarity"
   ]
  },
  {
   "cell_type": "code",
   "execution_count": 3,
   "metadata": {},
   "outputs": [
    {
     "name": "stdout",
     "output_type": "stream",
     "text": [
      "Loading data from config/llm_config.json\n"
     ]
    }
   ],
   "source": [
    "llm_instance = LLM_Model()"
   ]
  },
  {
   "cell_type": "code",
   "execution_count": 4,
   "metadata": {},
   "outputs": [
    {
     "name": "stdout",
     "output_type": "stream",
     "text": [
      "Loading data from config/data_embedding.json\n",
      "facts: 166718 documents\n",
      "rules: 0 documents\n"
     ]
    }
   ],
   "source": [
    "data_dict = load_vectorstore_db(llm_instance, 'icews14')\n",
    "for collection in data_dict:\n",
    "    print(f\"{collection}: {len(data_dict[collection]['vector_db'].get()['documents'])} documents\")"
   ]
  },
  {
   "cell_type": "code",
   "execution_count": 6,
   "metadata": {},
   "outputs": [
    {
     "data": {
      "text/plain": [
       "[Document(metadata={'object': 'South_Korea', 'object_id': 7, 'relation': 'Make_pessimistic_comment', 'relation_id': 26, 'subject': 'Government_(United_States)', 'subject_id': 112, 'timestamp': '2014-01-06', 'timestamp_id': 6}, page_content='\"Government_(United_States) Made pessimistic comment to/with South_Korea on 2014-01-06\"'),\n",
       " Document(metadata={'object': 'Gerhard_Schröder', 'object_id': 2271, 'relation': 'Make_pessimistic_comment', 'relation_id': 26, 'subject': 'Government_(United_States)', 'subject_id': 112, 'timestamp': '2014-02-05', 'timestamp_id': 36}, page_content='\"Government_(United_States) Made pessimistic comment to/with Gerhard_Schröder on 2014-02-05\"'),\n",
       " Document(metadata={'object': 'Thailand', 'object_id': 18, 'relation': 'Make_pessimistic_comment', 'relation_id': 26, 'subject': 'Government_(United_States)', 'subject_id': 112, 'timestamp': '2014-04-10', 'timestamp_id': 100}, page_content='\"Government_(United_States) Made pessimistic comment to/with Thailand on 2014-04-10\"'),\n",
       " Document(metadata={'object': 'Thailand', 'object_id': 18, 'relation': 'Make_pessimistic_comment', 'relation_id': 26, 'subject': 'Government_(United_States)', 'subject_id': 112, 'timestamp': '2014-04-09', 'timestamp_id': 99}, page_content='\"Government_(United_States) Made pessimistic comment to/with Thailand on 2014-04-09\"'),\n",
       " Document(metadata={'object': 'Government_(Mexico)', 'object_id': 415, 'relation': 'inv_Make_pessimistic_comment', 'relation_id': 256, 'subject': 'Government_(United_States)', 'subject_id': 112, 'timestamp': '2014-07-22', 'timestamp_id': 203}, page_content='\"Government_(United_States) received a pessimistic comment from to/with Government_(Mexico) on 2014-07-22\"'),\n",
       " Document(metadata={'object': 'Japan', 'object_id': 5, 'relation': 'Make_optimistic_comment', 'relation_id': 22, 'subject': 'Government_(United_States)', 'subject_id': 112, 'timestamp': '2014-05-15', 'timestamp_id': 135}, page_content='\"Government_(United_States) Made optimistic comment to/with Japan on 2014-05-15\"'),\n",
       " Document(metadata={'object': 'Japan', 'object_id': 5, 'relation': 'inv_Make_optimistic_comment', 'relation_id': 252, 'subject': 'Government_(United_States)', 'subject_id': 112, 'timestamp': '2014-09-06', 'timestamp_id': 249}, page_content='\"Government_(United_States) received an optimistic comment from to/with Japan on 2014-09-06\"'),\n",
       " Document(metadata={'object': 'Ma_Ying_Jeou', 'object_id': 147, 'relation': 'inv_Make_optimistic_comment', 'relation_id': 252, 'subject': 'Government_(United_States)', 'subject_id': 112, 'timestamp': '2014-04-10', 'timestamp_id': 100}, page_content='\"Government_(United_States) received an optimistic comment from to/with Ma_Ying_Jeou on 2014-04-10\"'),\n",
       " Document(metadata={'object': 'Ma_Ying_Jeou', 'object_id': 147, 'relation': 'inv_Make_optimistic_comment', 'relation_id': 252, 'subject': 'Government_(United_States)', 'subject_id': 112, 'timestamp': '2014-04-09', 'timestamp_id': 99}, page_content='\"Government_(United_States) received an optimistic comment from to/with Ma_Ying_Jeou on 2014-04-09\"'),\n",
       " Document(metadata={'object': 'Foreign_Affairs_(Georgia)', 'object_id': 619, 'relation': 'inv_Make_empathetic_comment', 'relation_id': 263, 'subject': 'Government_(United_States)', 'subject_id': 112, 'timestamp': '2014-09-12', 'timestamp_id': 255}, page_content='\"Government_(United_States) empathetic comment was not made to/with Foreign_Affairs_(Georgia) on 2014-09-12\"'),\n",
       " Document(metadata={'object': 'Businessperson_(Mozambique)', 'object_id': 2705, 'relation': 'Criticize_or_denounce', 'relation_id': 8, 'subject': 'Government_(United_States)', 'subject_id': 112, 'timestamp': '2014-11-13', 'timestamp_id': 317}, page_content='\"Government_(United_States) Criticized or denounced to/with Businessperson_(Mozambique) on 2014-11-13\"'),\n",
       " Document(metadata={'object': 'Japan', 'object_id': 5, 'relation': 'Criticize_or_denounce', 'relation_id': 8, 'subject': 'Government_(United_States)', 'subject_id': 112, 'timestamp': '2014-10-15', 'timestamp_id': 288}, page_content='\"Government_(United_States) Criticized or denounced to/with Japan on 2014-10-15\"'),\n",
       " Document(metadata={'object': 'Member_of_Parliament_(Iran)', 'object_id': 206, 'relation': 'inv_Criticize_or_denounce', 'relation_id': 238, 'subject': 'Government_(United_States)', 'subject_id': 112, 'timestamp': '2014-08-24', 'timestamp_id': 236}, page_content='\"Government_(United_States) was criticized or denounced by to/with Member_of_Parliament_(Iran) on 2014-08-24\"'),\n",
       " Document(metadata={'object': 'Cui_Tiankai', 'object_id': 3614, 'relation': 'inv_Criticize_or_denounce', 'relation_id': 238, 'subject': 'Government_(United_States)', 'subject_id': 112, 'timestamp': '2014-02-22', 'timestamp_id': 53}, page_content='\"Government_(United_States) was criticized or denounced by to/with Cui_Tiankai on 2014-02-22\"'),\n",
       " Document(metadata={'object': 'Al-Shabaab', 'object_id': 104, 'relation': 'Criticize_or_denounce', 'relation_id': 8, 'subject': 'Government_(United_States)', 'subject_id': 112, 'timestamp': '2014-05-24', 'timestamp_id': 144}, page_content='\"Government_(United_States) Criticized or denounced to/with Al-Shabaab on 2014-05-24\"'),\n",
       " Document(metadata={'object': 'Foreign_Affairs_(Russia)', 'object_id': 38, 'relation': 'inv_Criticize_or_denounce', 'relation_id': 238, 'subject': 'Government_(United_States)', 'subject_id': 112, 'timestamp': '2014-02-07', 'timestamp_id': 38}, page_content='\"Government_(United_States) was criticized or denounced by to/with Foreign_Affairs_(Russia) on 2014-02-07\"'),\n",
       " Document(metadata={'object': 'Human_Rights_Watch', 'object_id': 176, 'relation': 'Criticize_or_denounce', 'relation_id': 8, 'subject': 'Government_(United_States)', 'subject_id': 112, 'timestamp': '2014-09-29', 'timestamp_id': 272}, page_content='\"Government_(United_States) Criticized or denounced to/with Human_Rights_Watch on 2014-09-29\"'),\n",
       " Document(metadata={'object': 'North_Korea', 'object_id': 11, 'relation': 'Praise_or_endorse', 'relation_id': 7, 'subject': 'Government_(United_States)', 'subject_id': 112, 'timestamp': '2014-11-08', 'timestamp_id': 312}, page_content='\"Government_(United_States) Praised or endorsed to/with North_Korea on 2014-11-08\"'),\n",
       " Document(metadata={'object': 'Foreign_Affairs_(Syria)', 'object_id': 328, 'relation': 'inv_Criticize_or_denounce', 'relation_id': 238, 'subject': 'Government_(United_States)', 'subject_id': 112, 'timestamp': '2014-03-19', 'timestamp_id': 78}, page_content='\"Government_(United_States) was criticized or denounced by to/with Foreign_Affairs_(Syria) on 2014-03-19\"'),\n",
       " Document(metadata={'object': 'Human_Rights_Watch', 'object_id': 176, 'relation': 'inv_Criticize_or_denounce', 'relation_id': 238, 'subject': 'Government_(United_States)', 'subject_id': 112, 'timestamp': '2014-10-09', 'timestamp_id': 282}, page_content='\"Government_(United_States) was criticized or denounced by to/with Human_Rights_Watch on 2014-10-09\"'),\n",
       " Document(metadata={'object': 'Foreign_Affairs_(Venezuela)', 'object_id': 442, 'relation': 'inv_Criticize_or_denounce', 'relation_id': 238, 'subject': 'Government_(United_States)', 'subject_id': 112, 'timestamp': '2014-02-17', 'timestamp_id': 48}, page_content='\"Government_(United_States) was criticized or denounced by to/with Foreign_Affairs_(Venezuela) on 2014-02-17\"'),\n",
       " Document(metadata={'object': 'China', 'object_id': 0, 'relation': 'Make_statement', 'relation_id': 0, 'subject': 'Government_(United_States)', 'subject_id': 112, 'timestamp': '2014-05-20', 'timestamp_id': 140}, page_content='\"Government_(United_States) Made a statement to/with China on 2014-05-20\"'),\n",
       " Document(metadata={'object': 'North_Korea', 'object_id': 11, 'relation': 'Make_statement', 'relation_id': 0, 'subject': 'Government_(United_States)', 'subject_id': 112, 'timestamp': '2014-07-17', 'timestamp_id': 198}, page_content='\"Government_(United_States) Made a statement to/with North_Korea on 2014-07-17\"'),\n",
       " Document(metadata={'object': 'North_Korea', 'object_id': 11, 'relation': 'Make_statement', 'relation_id': 0, 'subject': 'Government_(United_States)', 'subject_id': 112, 'timestamp': '2014-07-16', 'timestamp_id': 197}, page_content='\"Government_(United_States) Made a statement to/with North_Korea on 2014-07-16\"'),\n",
       " Document(metadata={'object': 'Government_(Nigeria)', 'object_id': 9, 'relation': 'Praise_or_endorse', 'relation_id': 7, 'subject': 'Government_(United_States)', 'subject_id': 112, 'timestamp': '2014-08-21', 'timestamp_id': 233}, page_content='\"Government_(United_States) Praised or endorsed to/with Government_(Nigeria) on 2014-08-21\"'),\n",
       " Document(metadata={'object': 'Brownie_Samukai', 'object_id': 1884, 'relation': 'inv_Praise_or_endorse', 'relation_id': 237, 'subject': 'Government_(United_States)', 'subject_id': 112, 'timestamp': '2014-03-05', 'timestamp_id': 64}, page_content='\"Government_(United_States) was praised or endorsed by to/with Brownie_Samukai on 2014-03-05\"'),\n",
       " Document(metadata={'object': 'Military_(El_Salvador)', 'object_id': 2578, 'relation': 'Praise_or_endorse', 'relation_id': 7, 'subject': 'Government_(United_States)', 'subject_id': 112, 'timestamp': '2014-02-06', 'timestamp_id': 37}, page_content='\"Government_(United_States) Praised or endorsed to/with Military_(El_Salvador) on 2014-02-06\"'),\n",
       " Document(metadata={'object': 'Gordon_Darcy_Lilo', 'object_id': 2778, 'relation': 'inv_Praise_or_endorse', 'relation_id': 237, 'subject': 'Government_(United_States)', 'subject_id': 112, 'timestamp': '2014-08-10', 'timestamp_id': 222}, page_content='\"Government_(United_States) was praised or endorsed by to/with Gordon_Darcy_Lilo on 2014-08-10\"'),\n",
       " Document(metadata={'object': 'International_Court_of_Justice', 'object_id': 880, 'relation': 'Criticize_or_denounce', 'relation_id': 8, 'subject': 'Government_(United_States)', 'subject_id': 112, 'timestamp': '2014-08-09', 'timestamp_id': 221}, page_content='\"Government_(United_States) Criticized or denounced to/with International_Court_of_Justice on 2014-08-09\"'),\n",
       " Document(metadata={'object': 'Moro_Islamic_Liberation_Front', 'object_id': 547, 'relation': 'Praise_or_endorse', 'relation_id': 7, 'subject': 'Government_(United_States)', 'subject_id': 112, 'timestamp': '2014-01-26', 'timestamp_id': 26}, page_content='\"Government_(United_States) Praised or endorsed to/with Moro_Islamic_Liberation_Front on 2014-01-26\"')]"
      ]
     },
     "execution_count": 6,
     "metadata": {},
     "output_type": "execute_result"
    }
   ],
   "source": [
    "\n",
    "\n",
    "filter = {\"$and\": [\n",
    "\t{\"object\": {\"$in\": [\"Citizen_(Germany)\", 'Federica_Mogherini']}},\n",
    "\t{\"subject\": {\"$in\": [\"Citizen_(Germany)\", 'Federica_Mogherini']}},\n",
    "]\n",
    "}\n",
    "\n",
    "# filter = {\"$and\":[{\"object\": \"Abdullah_Gül\"}, {\"subject\": \"Public_Prosecutor_(Turkey)\"}]}\n",
    "filter = {\"subject\": \"Government_(United_States)\"}\n",
    "docs = lookup_vector_db(\"Made pessimistic comment\", filter, data_dict['facts']['vector_db'], llm_instance, top_k=30)\n",
    "docs"
   ]
  },
  {
   "cell_type": "markdown",
   "metadata": {},
   "source": [
    "---"
   ]
  }
 ],
 "metadata": {
  "kernelspec": {
   "display_name": "LLM_DA-env",
   "language": "python",
   "name": "python3"
  },
  "language_info": {
   "codemirror_mode": {
    "name": "ipython",
    "version": 3
   },
   "file_extension": ".py",
   "mimetype": "text/x-python",
   "name": "python",
   "nbconvert_exporter": "python",
   "pygments_lexer": "ipython3",
   "version": "3.10.15"
  }
 },
 "nbformat": 4,
 "nbformat_minor": 2
}
