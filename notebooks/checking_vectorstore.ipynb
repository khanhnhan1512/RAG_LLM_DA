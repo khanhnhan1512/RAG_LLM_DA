{
 "cells": [
  {
   "cell_type": "code",
   "execution_count": 1,
   "metadata": {},
   "outputs": [
    {
     "name": "stdout",
     "output_type": "stream",
     "text": [
      "Current working folder: c:\\Users\\UHY6HC\\Downloads\\Thesis\\RAG_LLM_DA\\notebooks\n",
      "Current working folder: C:\\Users\\UHY6HC\\Downloads\\Thesis\\RAG_LLM_DA\n"
     ]
    }
   ],
   "source": [
    "import os\n",
    "print(f\"Current working folder: {os.getcwd()}\")\n",
    "\n",
    "os.chdir('C:/Users/UHY6HC/Downloads/Thesis/RAG_LLM_DA')\n",
    "print(f\"Current working folder: {os.getcwd()}\")\n",
    "\n",
    "from stages.stage_1_learn_rules_from_data.data_loader import DataLoader\n",
    "from langchain_core.messages import HumanMessage, AIMessage, SystemMessage\n",
    "from openai_llm.llm_init import LLM_Model\n",
    "from utils import load_json_data, save_json_data, load_vectorstore_db, lookup_vector_db, calculate_similarity"
   ]
  },
  {
   "cell_type": "code",
   "execution_count": 2,
   "metadata": {},
   "outputs": [
    {
     "name": "stdout",
     "output_type": "stream",
     "text": [
      "Loading data from config/llm_config.json\n"
     ]
    }
   ],
   "source": [
    "llm_instance = LLM_Model()"
   ]
  },
  {
   "cell_type": "code",
   "execution_count": 3,
   "metadata": {},
   "outputs": [
    {
     "name": "stdout",
     "output_type": "stream",
     "text": [
      "Loading data from config/data_embedding.json\n",
      "facts: 181460 documents\n",
      "rules: 0 documents\n"
     ]
    }
   ],
   "source": [
    "data_dict = load_vectorstore_db(llm_instance, 'icews14')\n",
    "for collection in data_dict:\n",
    "    print(f\"{collection}: {len(data_dict[collection]['vector_db'].get()['documents'])} documents\")"
   ]
  },
  {
   "cell_type": "code",
   "execution_count": 8,
   "metadata": {},
   "outputs": [
    {
     "data": {
      "text/plain": [
       "[Document(metadata={'object': 'Thailand', 'object_id': 18, 'relation': 'inv_Express_intent_to_cooperate', 'relation_id': 243, 'subject': 'Malaysia', 'subject_id': 30, 'timestamp': '2014-12-04', 'timestamp_id': 338}, page_content='\"Malaysia were the recipients of expressed intent to cooperate to/with Thailand on 2014-12-04\"'),\n",
       " Document(metadata={'object': 'Malaysia', 'object_id': 30, 'relation': 'inv_Express_intent_to_cooperate', 'relation_id': 243, 'subject': 'Thailand', 'subject_id': 18, 'timestamp': '2014-12-04', 'timestamp_id': 338}, page_content='\"Thailand were the recipients of expressed intent to cooperate to/with Malaysia on 2014-12-04\"'),\n",
       " Document(metadata={'object': 'Thailand', 'object_id': 18, 'relation': 'Express_intent_to_cooperate', 'relation_id': 13, 'subject': 'Malaysia', 'subject_id': 30, 'timestamp': '2014-12-04', 'timestamp_id': 338}, page_content='\"Malaysia expressed intent to cooperate to/with Thailand on 2014-12-04\"'),\n",
       " Document(metadata={'object': 'Malaysia', 'object_id': 30, 'relation': 'Express_intent_to_cooperate', 'relation_id': 13, 'subject': 'Thailand', 'subject_id': 18, 'timestamp': '2014-12-04', 'timestamp_id': 338}, page_content='\"Thailand expressed intent to cooperate to/with Malaysia on 2014-12-04\"'),\n",
       " Document(metadata={'object': 'Thailand', 'object_id': 18, 'relation': 'inv_Express_intent_to_cooperate', 'relation_id': 243, 'subject': 'Malaysia', 'subject_id': 30, 'timestamp': '2014-12-02', 'timestamp_id': 336}, page_content='\"Malaysia were the recipients of expressed intent to cooperate to/with Thailand on 2014-12-02\"'),\n",
       " Document(metadata={'object': 'Malaysia', 'object_id': 30, 'relation': 'inv_Express_intent_to_cooperate', 'relation_id': 243, 'subject': 'Thailand', 'subject_id': 18, 'timestamp': '2014-12-02', 'timestamp_id': 336}, page_content='\"Thailand were the recipients of expressed intent to cooperate to/with Malaysia on 2014-12-02\"'),\n",
       " Document(metadata={'object': 'Thailand', 'object_id': 18, 'relation': 'Express_intent_to_cooperate', 'relation_id': 13, 'subject': 'Malaysia', 'subject_id': 30, 'timestamp': '2014-12-02', 'timestamp_id': 336}, page_content='\"Malaysia expressed intent to cooperate to/with Thailand on 2014-12-02\"'),\n",
       " Document(metadata={'object': 'Malaysia', 'object_id': 30, 'relation': 'inv_Express_intent_to_engage_in_diplomatic_cooperation_(such_as_policy_support)', 'relation_id': 245, 'subject': 'Citizen_(Malaysia)', 'subject_id': 121, 'timestamp': '2014-12-02', 'timestamp_id': 336}, page_content='\"Citizen_(Malaysia) were the recipients of expressed intent to engage in diplomatic cooperation (such as policy support) to/with Malaysia on 2014-12-02\"'),\n",
       " Document(metadata={'object': 'Citizen_(Malaysia)', 'object_id': 121, 'relation': 'Express_intent_to_engage_in_diplomatic_cooperation_(such_as_policy_support)', 'relation_id': 15, 'subject': 'Malaysia', 'subject_id': 30, 'timestamp': '2014-12-02', 'timestamp_id': 336}, page_content='\"Malaysia expressed intent to engage in diplomatic cooperation (such as policy support) to/with Citizen_(Malaysia) on 2014-12-02\"'),\n",
       " Document(metadata={'object': 'Malaysia', 'object_id': 30, 'relation': 'Express_intent_to_cooperate', 'relation_id': 13, 'subject': 'Thailand', 'subject_id': 18, 'timestamp': '2014-12-02', 'timestamp_id': 336}, page_content='\"Thailand expressed intent to cooperate to/with Malaysia on 2014-12-02\"'),\n",
       " Document(metadata={'object': 'Thailand', 'object_id': 18, 'relation': 'inv_Express_intent_to_cooperate', 'relation_id': 243, 'subject': 'Malaysia', 'subject_id': 30, 'timestamp': '2014-12-01', 'timestamp_id': 335}, page_content='\"Malaysia were the recipients of expressed intent to cooperate to/with Thailand on 2014-12-01\"'),\n",
       " Document(metadata={'object': 'Malaysia', 'object_id': 30, 'relation': 'inv_Express_intent_to_cooperate', 'relation_id': 243, 'subject': 'Thailand', 'subject_id': 18, 'timestamp': '2014-12-01', 'timestamp_id': 335}, page_content='\"Thailand were the recipients of expressed intent to cooperate to/with Malaysia on 2014-12-01\"'),\n",
       " Document(metadata={'object': 'Thailand', 'object_id': 18, 'relation': 'Express_intent_to_cooperate', 'relation_id': 13, 'subject': 'Malaysia', 'subject_id': 30, 'timestamp': '2014-12-01', 'timestamp_id': 335}, page_content='\"Malaysia expressed intent to cooperate to/with Thailand on 2014-12-01\"'),\n",
       " Document(metadata={'object': 'Malaysia', 'object_id': 30, 'relation': 'Express_intent_to_cooperate', 'relation_id': 13, 'subject': 'Thailand', 'subject_id': 18, 'timestamp': '2014-12-01', 'timestamp_id': 335}, page_content='\"Thailand expressed intent to cooperate to/with Malaysia on 2014-12-01\"'),\n",
       " Document(metadata={'object': 'Thailand', 'object_id': 18, 'relation': 'inv_Express_intent_to_engage_in_diplomatic_cooperation_(such_as_policy_support)', 'relation_id': 245, 'subject': 'Malaysia', 'subject_id': 30, 'timestamp': '2014-12-01', 'timestamp_id': 335}, page_content='\"Malaysia were the recipients of expressed intent to engage in diplomatic cooperation (such as policy support) to/with Thailand on 2014-12-01\"'),\n",
       " Document(metadata={'object': 'Malaysia', 'object_id': 30, 'relation': 'Express_intent_to_meet_or_negotiate', 'relation_id': 3, 'subject': 'Citizen_(Malaysia)', 'subject_id': 121, 'timestamp': '2014-11-24', 'timestamp_id': 328}, page_content='\"Citizen_(Malaysia) Expressed intent to meet or negotiate to/with Malaysia on 2014-11-24\"'),\n",
       " Document(metadata={'object': 'China', 'object_id': 0, 'relation': 'Express_intent_to_engage_in_diplomatic_cooperation_(such_as_policy_support)', 'relation_id': 15, 'subject': 'Malaysia', 'subject_id': 30, 'timestamp': '2014-11-17', 'timestamp_id': 321}, page_content='\"Malaysia expressed intent to engage in diplomatic cooperation (such as policy support) to/with China on 2014-11-17\"'),\n",
       " Document(metadata={'object': 'Malaysia', 'object_id': 30, 'relation': 'inv_Express_intent_to_engage_in_diplomatic_cooperation_(such_as_policy_support)', 'relation_id': 245, 'subject': 'China', 'subject_id': 0, 'timestamp': '2014-11-17', 'timestamp_id': 321}, page_content='\"China were the recipients of expressed intent to engage in diplomatic cooperation (such as policy support) to/with Malaysia on 2014-11-17\"'),\n",
       " Document(metadata={'object': 'Malaysia', 'object_id': 30, 'relation': 'inv_Express_intent_to_engage_in_diplomatic_cooperation_(such_as_policy_support)', 'relation_id': 245, 'subject': 'Association_of_Southeast_Asian_Nations', 'subject_id': 135, 'timestamp': '2014-11-13', 'timestamp_id': 317}, page_content='\"Association_of_Southeast_Asian_Nations were the recipients of expressed intent to engage in diplomatic cooperation (such as policy support) to/with Malaysia on 2014-11-13\"'),\n",
       " Document(metadata={'object': 'Association_of_Southeast_Asian_Nations', 'object_id': 135, 'relation': 'Express_intent_to_engage_in_diplomatic_cooperation_(such_as_policy_support)', 'relation_id': 15, 'subject': 'Malaysia', 'subject_id': 30, 'timestamp': '2014-11-13', 'timestamp_id': 317}, page_content='\"Malaysia expressed intent to engage in diplomatic cooperation (such as policy support) to/with Association_of_Southeast_Asian_Nations on 2014-11-13\"'),\n",
       " Document(metadata={'object': 'China', 'object_id': 0, 'relation': 'inv_Express_intent_to_cooperate', 'relation_id': 243, 'subject': 'Malaysia', 'subject_id': 30, 'timestamp': '2014-11-11', 'timestamp_id': 315}, page_content='\"Malaysia were the recipients of expressed intent to cooperate to/with China on 2014-11-11\"'),\n",
       " Document(metadata={'object': 'Malaysia', 'object_id': 30, 'relation': 'inv_Express_intent_to_cooperate', 'relation_id': 243, 'subject': 'China', 'subject_id': 0, 'timestamp': '2014-11-11', 'timestamp_id': 315}, page_content='\"China were the recipients of expressed intent to cooperate to/with Malaysia on 2014-11-11\"'),\n",
       " Document(metadata={'object': 'China', 'object_id': 0, 'relation': 'Express_intent_to_cooperate', 'relation_id': 13, 'subject': 'Malaysia', 'subject_id': 30, 'timestamp': '2014-11-11', 'timestamp_id': 315}, page_content='\"Malaysia expressed intent to cooperate to/with China on 2014-11-11\"'),\n",
       " Document(metadata={'object': 'Malaysia', 'object_id': 30, 'relation': 'Express_intent_to_cooperate', 'relation_id': 13, 'subject': 'China', 'subject_id': 0, 'timestamp': '2014-11-11', 'timestamp_id': 315}, page_content='\"China expressed intent to cooperate to/with Malaysia on 2014-11-11\"'),\n",
       " Document(metadata={'object': 'Vietnam', 'object_id': 23, 'relation': 'inv_Express_intent_to_engage_in_diplomatic_cooperation_(such_as_policy_support)', 'relation_id': 245, 'subject': 'Malaysia', 'subject_id': 30, 'timestamp': '2014-11-07', 'timestamp_id': 311}, page_content='\"Malaysia were the recipients of expressed intent to engage in diplomatic cooperation (such as policy support) to/with Vietnam on 2014-11-07\"'),\n",
       " Document(metadata={'object': 'Malaysia', 'object_id': 30, 'relation': 'inv_Express_intent_to_engage_in_diplomatic_cooperation_(such_as_policy_support)', 'relation_id': 245, 'subject': 'Iran', 'subject_id': 1, 'timestamp': '2014-10-18', 'timestamp_id': 291}, page_content='\"Iran were the recipients of expressed intent to engage in diplomatic cooperation (such as policy support) to/with Malaysia on 2014-10-18\"'),\n",
       " Document(metadata={'object': 'Iran', 'object_id': 1, 'relation': 'Express_intent_to_engage_in_diplomatic_cooperation_(such_as_policy_support)', 'relation_id': 15, 'subject': 'Malaysia', 'subject_id': 30, 'timestamp': '2014-10-18', 'timestamp_id': 291}, page_content='\"Malaysia expressed intent to engage in diplomatic cooperation (such as policy support) to/with Iran on 2014-10-18\"'),\n",
       " Document(metadata={'object': 'Kazakhstan', 'object_id': 96, 'relation': 'inv_Express_intent_to_cooperate', 'relation_id': 243, 'subject': 'Malaysia', 'subject_id': 30, 'timestamp': '2014-10-11', 'timestamp_id': 284}, page_content='\"Malaysia were the recipients of expressed intent to cooperate to/with Kazakhstan on 2014-10-11\"'),\n",
       " Document(metadata={'object': 'Malaysia', 'object_id': 30, 'relation': 'inv_Express_intent_to_cooperate', 'relation_id': 243, 'subject': 'Kazakhstan', 'subject_id': 96, 'timestamp': '2014-10-11', 'timestamp_id': 284}, page_content='\"Kazakhstan were the recipients of expressed intent to cooperate to/with Malaysia on 2014-10-11\"'),\n",
       " Document(metadata={'object': 'Kazakhstan', 'object_id': 96, 'relation': 'Express_intent_to_cooperate', 'relation_id': 13, 'subject': 'Malaysia', 'subject_id': 30, 'timestamp': '2014-10-11', 'timestamp_id': 284}, page_content='\"Malaysia expressed intent to cooperate to/with Kazakhstan on 2014-10-11\"'),\n",
       " Document(metadata={'object': 'Malaysia', 'object_id': 30, 'relation': 'Express_intent_to_cooperate', 'relation_id': 13, 'subject': 'Kazakhstan', 'subject_id': 96, 'timestamp': '2014-10-11', 'timestamp_id': 284}, page_content='\"Kazakhstan expressed intent to cooperate to/with Malaysia on 2014-10-11\"'),\n",
       " Document(metadata={'object': 'China', 'object_id': 0, 'relation': 'inv_Express_intent_to_engage_in_diplomatic_cooperation_(such_as_policy_support)', 'relation_id': 245, 'subject': 'Malaysia', 'subject_id': 30, 'timestamp': '2014-10-08', 'timestamp_id': 281}, page_content='\"Malaysia were the recipients of expressed intent to engage in diplomatic cooperation (such as policy support) to/with China on 2014-10-08\"'),\n",
       " Document(metadata={'object': 'Malaysia', 'object_id': 30, 'relation': 'inv_Express_intent_to_engage_in_diplomatic_cooperation_(such_as_policy_support)', 'relation_id': 245, 'subject': 'China', 'subject_id': 0, 'timestamp': '2014-10-08', 'timestamp_id': 281}, page_content='\"China were the recipients of expressed intent to engage in diplomatic cooperation (such as policy support) to/with Malaysia on 2014-10-08\"'),\n",
       " Document(metadata={'object': 'China', 'object_id': 0, 'relation': 'Express_intent_to_engage_in_diplomatic_cooperation_(such_as_policy_support)', 'relation_id': 15, 'subject': 'Malaysia', 'subject_id': 30, 'timestamp': '2014-10-08', 'timestamp_id': 281}, page_content='\"Malaysia expressed intent to engage in diplomatic cooperation (such as policy support) to/with China on 2014-10-08\"'),\n",
       " Document(metadata={'object': 'Malaysia', 'object_id': 30, 'relation': 'Express_intent_to_engage_in_diplomatic_cooperation_(such_as_policy_support)', 'relation_id': 15, 'subject': 'China', 'subject_id': 0, 'timestamp': '2014-10-08', 'timestamp_id': 281}, page_content='\"China expressed intent to engage in diplomatic cooperation (such as policy support) to/with Malaysia on 2014-10-08\"'),\n",
       " Document(metadata={'object': 'China', 'object_id': 0, 'relation': 'inv_Express_intent_to_engage_in_diplomatic_cooperation_(such_as_policy_support)', 'relation_id': 245, 'subject': 'Malaysia', 'subject_id': 30, 'timestamp': '2014-10-07', 'timestamp_id': 280}, page_content='\"Malaysia were the recipients of expressed intent to engage in diplomatic cooperation (such as policy support) to/with China on 2014-10-07\"'),\n",
       " Document(metadata={'object': 'Malaysia', 'object_id': 30, 'relation': 'Express_intent_to_engage_in_diplomatic_cooperation_(such_as_policy_support)', 'relation_id': 15, 'subject': 'China', 'subject_id': 0, 'timestamp': '2014-10-07', 'timestamp_id': 280}, page_content='\"China expressed intent to engage in diplomatic cooperation (such as policy support) to/with Malaysia on 2014-10-07\"'),\n",
       " Document(metadata={'object': 'Malaysia', 'object_id': 30, 'relation': 'inv_Express_intent_to_cooperate_economically', 'relation_id': 287, 'subject': 'China', 'subject_id': 0, 'timestamp': '2014-10-05', 'timestamp_id': 278}, page_content='\"China Had intent to cooperate economically expressed to/with Malaysia on 2014-10-05\"'),\n",
       " Document(metadata={'object': 'China', 'object_id': 0, 'relation': 'Express_intent_to_cooperate_economically', 'relation_id': 57, 'subject': 'Malaysia', 'subject_id': 30, 'timestamp': '2014-10-05', 'timestamp_id': 278}, page_content='\"Malaysia Expressed intent to cooperate economically to/with China on 2014-10-05\"'),\n",
       " Document(metadata={'object': 'Malaysia', 'object_id': 30, 'relation': 'Express_intent_to_meet_or_negotiate', 'relation_id': 3, 'subject': 'Citizen_(Malaysia)', 'subject_id': 121, 'timestamp': '2014-10-02', 'timestamp_id': 275}, page_content='\"Citizen_(Malaysia) Expressed intent to meet or negotiate to/with Malaysia on 2014-10-02\"'),\n",
       " Document(metadata={'object': 'Malaysia', 'object_id': 30, 'relation': 'Express_intent_to_meet_or_negotiate', 'relation_id': 3, 'subject': 'Citizen_(Malaysia)', 'subject_id': 121, 'timestamp': '2014-10-01', 'timestamp_id': 274}, page_content='\"Citizen_(Malaysia) Expressed intent to meet or negotiate to/with Malaysia on 2014-10-01\"'),\n",
       " Document(metadata={'object': 'Thailand', 'object_id': 18, 'relation': 'inv_Express_intent_to_cooperate', 'relation_id': 243, 'subject': 'Malaysia', 'subject_id': 30, 'timestamp': '2014-09-12', 'timestamp_id': 255}, page_content='\"Malaysia were the recipients of expressed intent to cooperate to/with Thailand on 2014-09-12\"'),\n",
       " Document(metadata={'object': 'Malaysia', 'object_id': 30, 'relation': 'inv_Express_intent_to_cooperate', 'relation_id': 243, 'subject': 'Thailand', 'subject_id': 18, 'timestamp': '2014-09-12', 'timestamp_id': 255}, page_content='\"Thailand were the recipients of expressed intent to cooperate to/with Malaysia on 2014-09-12\"'),\n",
       " Document(metadata={'object': 'Thailand', 'object_id': 18, 'relation': 'Express_intent_to_cooperate', 'relation_id': 13, 'subject': 'Malaysia', 'subject_id': 30, 'timestamp': '2014-09-12', 'timestamp_id': 255}, page_content='\"Malaysia expressed intent to cooperate to/with Thailand on 2014-09-12\"'),\n",
       " Document(metadata={'object': 'Malaysia', 'object_id': 30, 'relation': 'Express_intent_to_cooperate', 'relation_id': 13, 'subject': 'Thailand', 'subject_id': 18, 'timestamp': '2014-09-12', 'timestamp_id': 255}, page_content='\"Thailand expressed intent to cooperate to/with Malaysia on 2014-09-12\"'),\n",
       " Document(metadata={'object': 'China', 'object_id': 0, 'relation': 'inv_Express_intent_to_cooperate', 'relation_id': 243, 'subject': 'Malaysia', 'subject_id': 30, 'timestamp': '2014-09-01', 'timestamp_id': 244}, page_content='\"Malaysia were the recipients of expressed intent to cooperate to/with China on 2014-09-01\"'),\n",
       " Document(metadata={'object': 'Malaysia', 'object_id': 30, 'relation': 'inv_Express_intent_to_cooperate', 'relation_id': 243, 'subject': 'China', 'subject_id': 0, 'timestamp': '2014-09-01', 'timestamp_id': 244}, page_content='\"China were the recipients of expressed intent to cooperate to/with Malaysia on 2014-09-01\"'),\n",
       " Document(metadata={'object': 'China', 'object_id': 0, 'relation': 'Express_intent_to_cooperate', 'relation_id': 13, 'subject': 'Malaysia', 'subject_id': 30, 'timestamp': '2014-09-01', 'timestamp_id': 244}, page_content='\"Malaysia expressed intent to cooperate to/with China on 2014-09-01\"'),\n",
       " Document(metadata={'object': 'Malaysia', 'object_id': 30, 'relation': 'Express_intent_to_cooperate', 'relation_id': 13, 'subject': 'China', 'subject_id': 0, 'timestamp': '2014-09-01', 'timestamp_id': 244}, page_content='\"China expressed intent to cooperate to/with Malaysia on 2014-09-01\"'),\n",
       " Document(metadata={'object': 'China', 'object_id': 0, 'relation': 'inv_Express_intent_to_engage_in_diplomatic_cooperation_(such_as_policy_support)', 'relation_id': 245, 'subject': 'Malaysia', 'subject_id': 30, 'timestamp': '2014-09-01', 'timestamp_id': 244}, page_content='\"Malaysia were the recipients of expressed intent to engage in diplomatic cooperation (such as policy support) to/with China on 2014-09-01\"'),\n",
       " Document(metadata={'object': 'Malaysia', 'object_id': 30, 'relation': 'inv_Express_intent_to_engage_in_diplomatic_cooperation_(such_as_policy_support)', 'relation_id': 245, 'subject': 'China', 'subject_id': 0, 'timestamp': '2014-09-01', 'timestamp_id': 244}, page_content='\"China were the recipients of expressed intent to engage in diplomatic cooperation (such as policy support) to/with Malaysia on 2014-09-01\"'),\n",
       " Document(metadata={'object': 'China', 'object_id': 0, 'relation': 'Express_intent_to_engage_in_diplomatic_cooperation_(such_as_policy_support)', 'relation_id': 15, 'subject': 'Malaysia', 'subject_id': 30, 'timestamp': '2014-09-01', 'timestamp_id': 244}, page_content='\"Malaysia expressed intent to engage in diplomatic cooperation (such as policy support) to/with China on 2014-09-01\"'),\n",
       " Document(metadata={'object': 'Malaysia', 'object_id': 30, 'relation': 'Express_intent_to_engage_in_diplomatic_cooperation_(such_as_policy_support)', 'relation_id': 15, 'subject': 'Tan_Sri_Muhyiddin_Yassin', 'subject_id': 541, 'timestamp': '2014-08-25', 'timestamp_id': 237}, page_content='\"Tan_Sri_Muhyiddin_Yassin expressed intent to engage in diplomatic cooperation (such as policy support) to/with Malaysia on 2014-08-25\"'),\n",
       " Document(metadata={'object': 'Tan_Sri_Muhyiddin_Yassin', 'object_id': 541, 'relation': 'inv_Express_intent_to_engage_in_diplomatic_cooperation_(such_as_policy_support)', 'relation_id': 245, 'subject': 'Malaysia', 'subject_id': 30, 'timestamp': '2014-08-25', 'timestamp_id': 237}, page_content='\"Malaysia were the recipients of expressed intent to engage in diplomatic cooperation (such as policy support) to/with Tan_Sri_Muhyiddin_Yassin on 2014-08-25\"'),\n",
       " Document(metadata={'object': 'Citizen_(Malaysia)', 'object_id': 121, 'relation': 'inv_Express_intent_to_cooperate_economically', 'relation_id': 287, 'subject': 'Malaysia', 'subject_id': 30, 'timestamp': '2014-07-23', 'timestamp_id': 204}, page_content='\"Malaysia Had intent to cooperate economically expressed to/with Citizen_(Malaysia) on 2014-07-23\"'),\n",
       " Document(metadata={'object': 'Malaysia', 'object_id': 30, 'relation': 'Express_intent_to_cooperate_economically', 'relation_id': 57, 'subject': 'Citizen_(Malaysia)', 'subject_id': 121, 'timestamp': '2014-07-23', 'timestamp_id': 204}, page_content='\"Citizen_(Malaysia) Expressed intent to cooperate economically to/with Malaysia on 2014-07-23\"'),\n",
       " Document(metadata={'object': 'Malaysia', 'object_id': 30, 'relation': 'inv_Express_intent_to_engage_in_diplomatic_cooperation_(such_as_policy_support)', 'relation_id': 245, 'subject': 'China', 'subject_id': 0, 'timestamp': '2014-06-04', 'timestamp_id': 155}, page_content='\"China were the recipients of expressed intent to engage in diplomatic cooperation (such as policy support) to/with Malaysia on 2014-06-04\"'),\n",
       " Document(metadata={'object': 'China', 'object_id': 0, 'relation': 'inv_Express_intent_to_engage_in_diplomatic_cooperation_(such_as_policy_support)', 'relation_id': 245, 'subject': 'Malaysia', 'subject_id': 30, 'timestamp': '2014-06-04', 'timestamp_id': 155}, page_content='\"Malaysia were the recipients of expressed intent to engage in diplomatic cooperation (such as policy support) to/with China on 2014-06-04\"'),\n",
       " Document(metadata={'object': 'China', 'object_id': 0, 'relation': 'Express_intent_to_engage_in_diplomatic_cooperation_(such_as_policy_support)', 'relation_id': 15, 'subject': 'Malaysia', 'subject_id': 30, 'timestamp': '2014-06-04', 'timestamp_id': 155}, page_content='\"Malaysia expressed intent to engage in diplomatic cooperation (such as policy support) to/with China on 2014-06-04\"'),\n",
       " Document(metadata={'object': 'China', 'object_id': 0, 'relation': 'inv_Express_intent_to_engage_in_diplomatic_cooperation_(such_as_policy_support)', 'relation_id': 245, 'subject': 'Malaysia', 'subject_id': 30, 'timestamp': '2014-06-01', 'timestamp_id': 152}, page_content='\"Malaysia were the recipients of expressed intent to engage in diplomatic cooperation (such as policy support) to/with China on 2014-06-01\"'),\n",
       " Document(metadata={'object': 'China', 'object_id': 0, 'relation': 'inv_Express_intent_to_engage_in_diplomatic_cooperation_(such_as_policy_support)', 'relation_id': 245, 'subject': 'Malaysia', 'subject_id': 30, 'timestamp': '2014-05-31', 'timestamp_id': 151}, page_content='\"Malaysia were the recipients of expressed intent to engage in diplomatic cooperation (such as policy support) to/with China on 2014-05-31\"'),\n",
       " Document(metadata={'object': 'Malaysia', 'object_id': 30, 'relation': 'Express_intent_to_engage_in_diplomatic_cooperation_(such_as_policy_support)', 'relation_id': 15, 'subject': 'China', 'subject_id': 0, 'timestamp': '2014-05-31', 'timestamp_id': 151}, page_content='\"China expressed intent to engage in diplomatic cooperation (such as policy support) to/with Malaysia on 2014-05-31\"'),\n",
       " Document(metadata={'object': 'China', 'object_id': 0, 'relation': 'Express_intent_to_engage_in_diplomatic_cooperation_(such_as_policy_support)', 'relation_id': 15, 'subject': 'Malaysia', 'subject_id': 30, 'timestamp': '2014-05-30', 'timestamp_id': 150}, page_content='\"Malaysia expressed intent to engage in diplomatic cooperation (such as policy support) to/with China on 2014-05-30\"'),\n",
       " Document(metadata={'object': 'China', 'object_id': 0, 'relation': 'inv_Express_intent_to_engage_in_diplomatic_cooperation_(such_as_policy_support)', 'relation_id': 245, 'subject': 'Malaysia', 'subject_id': 30, 'timestamp': '2014-05-30', 'timestamp_id': 150}, page_content='\"Malaysia were the recipients of expressed intent to engage in diplomatic cooperation (such as policy support) to/with China on 2014-05-30\"'),\n",
       " Document(metadata={'object': 'Malaysia', 'object_id': 30, 'relation': 'inv_Express_intent_to_engage_in_diplomatic_cooperation_(such_as_policy_support)', 'relation_id': 245, 'subject': 'China', 'subject_id': 0, 'timestamp': '2014-05-30', 'timestamp_id': 150}, page_content='\"China were the recipients of expressed intent to engage in diplomatic cooperation (such as policy support) to/with Malaysia on 2014-05-30\"'),\n",
       " Document(metadata={'object': 'Malaysia', 'object_id': 30, 'relation': 'Express_intent_to_engage_in_diplomatic_cooperation_(such_as_policy_support)', 'relation_id': 15, 'subject': 'China', 'subject_id': 0, 'timestamp': '2014-05-30', 'timestamp_id': 150}, page_content='\"China expressed intent to engage in diplomatic cooperation (such as policy support) to/with Malaysia on 2014-05-30\"'),\n",
       " Document(metadata={'object': 'China', 'object_id': 0, 'relation': 'inv_Express_intent_to_cooperate', 'relation_id': 243, 'subject': 'Malaysia', 'subject_id': 30, 'timestamp': '2014-05-20', 'timestamp_id': 140}, page_content='\"Malaysia were the recipients of expressed intent to cooperate to/with China on 2014-05-20\"'),\n",
       " Document(metadata={'object': 'Malaysia', 'object_id': 30, 'relation': 'inv_Express_intent_to_cooperate', 'relation_id': 243, 'subject': 'China', 'subject_id': 0, 'timestamp': '2014-05-20', 'timestamp_id': 140}, page_content='\"China were the recipients of expressed intent to cooperate to/with Malaysia on 2014-05-20\"'),\n",
       " Document(metadata={'object': 'China', 'object_id': 0, 'relation': 'Express_intent_to_cooperate', 'relation_id': 13, 'subject': 'Malaysia', 'subject_id': 30, 'timestamp': '2014-05-20', 'timestamp_id': 140}, page_content='\"Malaysia expressed intent to cooperate to/with China on 2014-05-20\"'),\n",
       " Document(metadata={'object': 'Malaysia', 'object_id': 30, 'relation': 'Express_intent_to_cooperate', 'relation_id': 13, 'subject': 'China', 'subject_id': 0, 'timestamp': '2014-05-20', 'timestamp_id': 140}, page_content='\"China expressed intent to cooperate to/with Malaysia on 2014-05-20\"'),\n",
       " Document(metadata={'object': 'China', 'object_id': 0, 'relation': 'inv_Express_intent_to_cooperate', 'relation_id': 243, 'subject': 'Malaysia', 'subject_id': 30, 'timestamp': '2014-05-15', 'timestamp_id': 135}, page_content='\"Malaysia were the recipients of expressed intent to cooperate to/with China on 2014-05-15\"'),\n",
       " Document(metadata={'object': 'Malaysia', 'object_id': 30, 'relation': 'inv_Express_intent_to_cooperate', 'relation_id': 243, 'subject': 'China', 'subject_id': 0, 'timestamp': '2014-05-15', 'timestamp_id': 135}, page_content='\"China were the recipients of expressed intent to cooperate to/with Malaysia on 2014-05-15\"'),\n",
       " Document(metadata={'object': 'China', 'object_id': 0, 'relation': 'Express_intent_to_cooperate', 'relation_id': 13, 'subject': 'Malaysia', 'subject_id': 30, 'timestamp': '2014-05-15', 'timestamp_id': 135}, page_content='\"Malaysia expressed intent to cooperate to/with China on 2014-05-15\"'),\n",
       " Document(metadata={'object': 'Malaysia', 'object_id': 30, 'relation': 'Express_intent_to_cooperate', 'relation_id': 13, 'subject': 'China', 'subject_id': 0, 'timestamp': '2014-05-15', 'timestamp_id': 135}, page_content='\"China expressed intent to cooperate to/with Malaysia on 2014-05-15\"'),\n",
       " Document(metadata={'object': 'China', 'object_id': 0, 'relation': 'inv_Express_intent_to_cooperate', 'relation_id': 243, 'subject': 'Malaysia', 'subject_id': 30, 'timestamp': '2014-05-05', 'timestamp_id': 125}, page_content='\"Malaysia were the recipients of expressed intent to cooperate to/with China on 2014-05-05\"'),\n",
       " Document(metadata={'object': 'Malaysia', 'object_id': 30, 'relation': 'inv_Express_intent_to_cooperate', 'relation_id': 243, 'subject': 'China', 'subject_id': 0, 'timestamp': '2014-05-05', 'timestamp_id': 125}, page_content='\"China were the recipients of expressed intent to cooperate to/with Malaysia on 2014-05-05\"'),\n",
       " Document(metadata={'object': 'China', 'object_id': 0, 'relation': 'Express_intent_to_cooperate', 'relation_id': 13, 'subject': 'Malaysia', 'subject_id': 30, 'timestamp': '2014-05-05', 'timestamp_id': 125}, page_content='\"Malaysia expressed intent to cooperate to/with China on 2014-05-05\"'),\n",
       " Document(metadata={'object': 'Malaysia', 'object_id': 30, 'relation': 'Express_intent_to_cooperate', 'relation_id': 13, 'subject': 'China', 'subject_id': 0, 'timestamp': '2014-05-05', 'timestamp_id': 125}, page_content='\"China expressed intent to cooperate to/with Malaysia on 2014-05-05\"'),\n",
       " Document(metadata={'object': 'China', 'object_id': 0, 'relation': 'inv_Express_intent_to_engage_in_diplomatic_cooperation_(such_as_policy_support)', 'relation_id': 245, 'subject': 'Malaysia', 'subject_id': 30, 'timestamp': '2014-05-01', 'timestamp_id': 121}, page_content='\"Malaysia were the recipients of expressed intent to engage in diplomatic cooperation (such as policy support) to/with China on 2014-05-01\"'),\n",
       " Document(metadata={'object': 'Malaysia', 'object_id': 30, 'relation': 'Express_intent_to_engage_in_diplomatic_cooperation_(such_as_policy_support)', 'relation_id': 15, 'subject': 'China', 'subject_id': 0, 'timestamp': '2014-05-01', 'timestamp_id': 121}, page_content='\"China expressed intent to engage in diplomatic cooperation (such as policy support) to/with Malaysia on 2014-05-01\"'),\n",
       " Document(metadata={'object': 'Malaysia', 'object_id': 30, 'relation': 'Express_intent_to_engage_in_diplomatic_cooperation_(such_as_policy_support)', 'relation_id': 15, 'subject': 'Barack_Obama', 'subject_id': 4, 'timestamp': '2014-04-25', 'timestamp_id': 115}, page_content='\"Barack_Obama expressed intent to engage in diplomatic cooperation (such as policy support) to/with Malaysia on 2014-04-25\"'),\n",
       " Document(metadata={'object': 'Barack_Obama', 'object_id': 4, 'relation': 'inv_Express_intent_to_engage_in_diplomatic_cooperation_(such_as_policy_support)', 'relation_id': 245, 'subject': 'Malaysia', 'subject_id': 30, 'timestamp': '2014-04-25', 'timestamp_id': 115}, page_content='\"Malaysia were the recipients of expressed intent to engage in diplomatic cooperation (such as policy support) to/with Barack_Obama on 2014-04-25\"'),\n",
       " Document(metadata={'object': 'China', 'object_id': 0, 'relation': 'inv_Express_intent_to_cooperate', 'relation_id': 243, 'subject': 'Malaysia', 'subject_id': 30, 'timestamp': '2014-04-11', 'timestamp_id': 101}, page_content='\"Malaysia were the recipients of expressed intent to cooperate to/with China on 2014-04-11\"'),\n",
       " Document(metadata={'object': 'Malaysia', 'object_id': 30, 'relation': 'inv_Express_intent_to_cooperate', 'relation_id': 243, 'subject': 'China', 'subject_id': 0, 'timestamp': '2014-04-11', 'timestamp_id': 101}, page_content='\"China were the recipients of expressed intent to cooperate to/with Malaysia on 2014-04-11\"'),\n",
       " Document(metadata={'object': 'China', 'object_id': 0, 'relation': 'Express_intent_to_cooperate', 'relation_id': 13, 'subject': 'Malaysia', 'subject_id': 30, 'timestamp': '2014-04-11', 'timestamp_id': 101}, page_content='\"Malaysia expressed intent to cooperate to/with China on 2014-04-11\"'),\n",
       " Document(metadata={'object': 'Malaysia', 'object_id': 30, 'relation': 'Express_intent_to_cooperate', 'relation_id': 13, 'subject': 'China', 'subject_id': 0, 'timestamp': '2014-04-11', 'timestamp_id': 101}, page_content='\"China expressed intent to cooperate to/with Malaysia on 2014-04-11\"'),\n",
       " Document(metadata={'object': 'China', 'object_id': 0, 'relation': 'inv_Express_intent_to_engage_in_diplomatic_cooperation_(such_as_policy_support)', 'relation_id': 245, 'subject': 'Malaysia', 'subject_id': 30, 'timestamp': '2014-04-03', 'timestamp_id': 93}, page_content='\"Malaysia were the recipients of expressed intent to engage in diplomatic cooperation (such as policy support) to/with China on 2014-04-03\"'),\n",
       " Document(metadata={'object': 'France', 'object_id': 10, 'relation': 'inv_Express_intent_to_cooperate', 'relation_id': 243, 'subject': 'Malaysia', 'subject_id': 30, 'timestamp': '2014-04-02', 'timestamp_id': 92}, page_content='\"Malaysia were the recipients of expressed intent to cooperate to/with France on 2014-04-02\"'),\n",
       " Document(metadata={'object': 'Malaysia', 'object_id': 30, 'relation': 'Express_intent_to_cooperate', 'relation_id': 13, 'subject': 'France', 'subject_id': 10, 'timestamp': '2014-04-02', 'timestamp_id': 92}, page_content='\"France expressed intent to cooperate to/with Malaysia on 2014-04-02\"'),\n",
       " Document(metadata={'object': 'Xi_Jinping', 'object_id': 13, 'relation': 'inv_Express_intent_to_engage_in_diplomatic_cooperation_(such_as_policy_support)', 'relation_id': 245, 'subject': 'Malaysia', 'subject_id': 30, 'timestamp': '2014-03-25', 'timestamp_id': 84}, page_content='\"Malaysia were the recipients of expressed intent to engage in diplomatic cooperation (such as policy support) to/with Xi_Jinping on 2014-03-25\"'),\n",
       " Document(metadata={'object': 'Malaysia', 'object_id': 30, 'relation': 'Express_intent_to_engage_in_diplomatic_cooperation_(such_as_policy_support)', 'relation_id': 15, 'subject': 'Xi_Jinping', 'subject_id': 13, 'timestamp': '2014-03-25', 'timestamp_id': 84}, page_content='\"Xi_Jinping expressed intent to engage in diplomatic cooperation (such as policy support) to/with Malaysia on 2014-03-25\"'),\n",
       " Document(metadata={'object': 'Other_Authorities_/_Officials_(Kazakhstan)', 'object_id': 6614, 'relation': 'inv_Express_intent_to_cooperate', 'relation_id': 243, 'subject': 'Malaysia', 'subject_id': 30, 'timestamp': '2014-03-21', 'timestamp_id': 80}, page_content='\"Malaysia were the recipients of expressed intent to cooperate to/with Other_Authorities_/_Officials_(Kazakhstan) on 2014-03-21\"'),\n",
       " Document(metadata={'object': 'Malaysia', 'object_id': 30, 'relation': 'Express_intent_to_cooperate', 'relation_id': 13, 'subject': 'Other_Authorities_/_Officials_(Kazakhstan)', 'subject_id': 6614, 'timestamp': '2014-03-21', 'timestamp_id': 80}, page_content='\"Other_Authorities_/_Officials_(Kazakhstan) expressed intent to cooperate to/with Malaysia on 2014-03-21\"'),\n",
       " Document(metadata={'object': 'China', 'object_id': 0, 'relation': 'inv_Express_intent_to_engage_in_diplomatic_cooperation_(such_as_policy_support)', 'relation_id': 245, 'subject': 'Malaysia', 'subject_id': 30, 'timestamp': '2014-03-17', 'timestamp_id': 76}, page_content='\"Malaysia were the recipients of expressed intent to engage in diplomatic cooperation (such as policy support) to/with China on 2014-03-17\"'),\n",
       " Document(metadata={'object': 'Vietnam', 'object_id': 23, 'relation': 'inv_Express_intent_to_engage_in_diplomatic_cooperation_(such_as_policy_support)', 'relation_id': 245, 'subject': 'Malaysia', 'subject_id': 30, 'timestamp': '2014-03-13', 'timestamp_id': 72}, page_content='\"Malaysia were the recipients of expressed intent to engage in diplomatic cooperation (such as policy support) to/with Vietnam on 2014-03-13\"'),\n",
       " Document(metadata={'object': 'Citizen_(Malaysia)', 'object_id': 121, 'relation': 'inv_Express_intent_to_engage_in_diplomatic_cooperation_(such_as_policy_support)', 'relation_id': 245, 'subject': 'Malaysia', 'subject_id': 30, 'timestamp': '2014-03-01', 'timestamp_id': 60}, page_content='\"Malaysia were the recipients of expressed intent to engage in diplomatic cooperation (such as policy support) to/with Citizen_(Malaysia) on 2014-03-01\"'),\n",
       " Document(metadata={'object': 'Malaysia', 'object_id': 30, 'relation': 'Express_intent_to_engage_in_diplomatic_cooperation_(such_as_policy_support)', 'relation_id': 15, 'subject': 'Citizen_(Malaysia)', 'subject_id': 121, 'timestamp': '2014-03-01', 'timestamp_id': 60}, page_content='\"Citizen_(Malaysia) expressed intent to engage in diplomatic cooperation (such as policy support) to/with Malaysia on 2014-03-01\"'),\n",
       " Document(metadata={'object': 'Citizen_(Malaysia)', 'object_id': 121, 'relation': 'inv_Express_intent_to_engage_in_diplomatic_cooperation_(such_as_policy_support)', 'relation_id': 245, 'subject': 'Malaysia', 'subject_id': 30, 'timestamp': '2014-02-28', 'timestamp_id': 59}, page_content='\"Malaysia were the recipients of expressed intent to engage in diplomatic cooperation (such as policy support) to/with Citizen_(Malaysia) on 2014-02-28\"'),\n",
       " Document(metadata={'object': 'Malaysia', 'object_id': 30, 'relation': 'Express_intent_to_engage_in_diplomatic_cooperation_(such_as_policy_support)', 'relation_id': 15, 'subject': 'Citizen_(Malaysia)', 'subject_id': 121, 'timestamp': '2014-02-28', 'timestamp_id': 59}, page_content='\"Citizen_(Malaysia) expressed intent to engage in diplomatic cooperation (such as policy support) to/with Malaysia on 2014-02-28\"'),\n",
       " Document(metadata={'object': 'Malaysia', 'object_id': 30, 'relation': 'Express_intent_to_meet_or_negotiate', 'relation_id': 3, 'subject': 'Citizen_(Malaysia)', 'subject_id': 121, 'timestamp': '2014-02-05', 'timestamp_id': 36}, page_content='\"Citizen_(Malaysia) Expressed intent to meet or negotiate to/with Malaysia on 2014-02-05\"')]"
      ]
     },
     "execution_count": 8,
     "metadata": {},
     "output_type": "execute_result"
    }
   ],
   "source": [
    "\n",
    "\n",
    "# filter = {\"$and\": [\n",
    "# \t{\"object\": {\"$in\": [\"Malaysia\", 'China']}},\n",
    "# \t{\"subject\": {\"$in\": [\"Malaysia\", 'China']}},\n",
    "#     # {\"relation\": \"Express_intent_to_cooperate\"}\n",
    "# ]\n",
    "# }\n",
    "\n",
    "filter = {\"$or\":[{\"object\": \"Malaysia\"}, {\"subject\": \"Malaysia\"}]}\n",
    "# filter = {\"subject\": \"Government_(United_States)\"}\n",
    "docs = lookup_vector_db(\"Express_intent_to_cooperate\", filter, data_dict['facts']['vector_db'], llm_instance, top_k=100)\n",
    "docs = sorted(docs, key=lambda x: x.metadata['timestamp_id'], reverse=True)\n",
    "docs"
   ]
  },
  {
   "cell_type": "markdown",
   "metadata": {},
   "source": [
    "---"
   ]
  }
 ],
 "metadata": {
  "kernelspec": {
   "display_name": "LLM_DA-env",
   "language": "python",
   "name": "python3"
  },
  "language_info": {
   "codemirror_mode": {
    "name": "ipython",
    "version": 3
   },
   "file_extension": ".py",
   "mimetype": "text/x-python",
   "name": "python",
   "nbconvert_exporter": "python",
   "pygments_lexer": "ipython3",
   "version": "3.10.15"
  }
 },
 "nbformat": 4,
 "nbformat_minor": 2
}
