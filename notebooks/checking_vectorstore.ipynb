{
 "cells": [
  {
   "cell_type": "code",
   "execution_count": 1,
   "metadata": {},
   "outputs": [
    {
     "name": "stdout",
     "output_type": "stream",
     "text": [
      "Current working folder: d:\\My Document\\Khóa Luận Tốt Nghiệp\\Model Reposity\\RAG_LLM_DA\\notebooks\n",
      "Current working folder: D:\\My Document\\Khóa Luận Tốt Nghiệp\\Model Reposity\\RAG_LLM_DA\n"
     ]
    }
   ],
   "source": [
    "import os\n",
    "print(f\"Current working folder: {os.getcwd()}\")\n",
    "\n",
    "os.chdir('D:/My Document/Khóa Luận Tốt Nghiệp/Model Reposity/RAG_LLM_DA')\n",
    "print(f\"Current working folder: {os.getcwd()}\")\n",
    "\n",
    "from stages.stage_1_learn_rules_from_data.data_loader import DataLoader\n",
    "from langchain_core.messages import HumanMessage, AIMessage, SystemMessage\n",
    "from openai_llm.llm_init import LLM_Model\n",
    "from utils import load_json_data, save_json_data, load_vectorstore_db, lookup_vector_db, calculate_similarity"
   ]
  },
  {
   "cell_type": "code",
   "execution_count": 2,
   "metadata": {},
   "outputs": [
    {
     "name": "stdout",
     "output_type": "stream",
     "text": [
      "Loading data from config/llm_config.json\n"
     ]
    }
   ],
   "source": [
    "llm_instance = LLM_Model()"
   ]
  },
  {
   "cell_type": "code",
   "execution_count": 3,
   "metadata": {},
   "outputs": [
    {
     "name": "stdout",
     "output_type": "stream",
     "text": [
      "Loading data from config/data_embedding.json\n",
      "facts: 181460 documents\n",
      "rules: 0 documents\n"
     ]
    }
   ],
   "source": [
    "data_dict = load_vectorstore_db(llm_instance, 'icews14')\n",
    "for collection in data_dict:\n",
    "    print(f\"{collection}: {len(data_dict[collection]['vector_db'].get()['documents'])} documents\")"
   ]
  },
  {
   "cell_type": "code",
   "execution_count": 6,
   "metadata": {},
   "outputs": [
    {
     "data": {
      "text/plain": [
       "[Document(metadata={'object': 'Thailand', 'object_id': 18, 'relation': 'Express_intent_to_cooperate', 'relation_id': 13, 'subject': 'Malaysia', 'subject_id': 30, 'timestamp': '2014-12-04', 'timestamp_id': 338}, page_content='\"Malaysia expressed intent to cooperate to/with Thailand on 2014-12-04\"'),\n",
       " Document(metadata={'object': 'Malaysia', 'object_id': 30, 'relation': 'Express_intent_to_cooperate', 'relation_id': 13, 'subject': 'Thailand', 'subject_id': 18, 'timestamp': '2014-12-04', 'timestamp_id': 338}, page_content='\"Thailand expressed intent to cooperate to/with Malaysia on 2014-12-04\"'),\n",
       " Document(metadata={'object': 'Thailand', 'object_id': 18, 'relation': 'Express_intent_to_cooperate', 'relation_id': 13, 'subject': 'Malaysia', 'subject_id': 30, 'timestamp': '2014-12-02', 'timestamp_id': 336}, page_content='\"Malaysia expressed intent to cooperate to/with Thailand on 2014-12-02\"'),\n",
       " Document(metadata={'object': 'Malaysia', 'object_id': 30, 'relation': 'Express_intent_to_cooperate', 'relation_id': 13, 'subject': 'Thailand', 'subject_id': 18, 'timestamp': '2014-12-02', 'timestamp_id': 336}, page_content='\"Thailand expressed intent to cooperate to/with Malaysia on 2014-12-02\"'),\n",
       " Document(metadata={'object': 'Thailand', 'object_id': 18, 'relation': 'Express_intent_to_cooperate', 'relation_id': 13, 'subject': 'Malaysia', 'subject_id': 30, 'timestamp': '2014-12-01', 'timestamp_id': 335}, page_content='\"Malaysia expressed intent to cooperate to/with Thailand on 2014-12-01\"'),\n",
       " Document(metadata={'object': 'Malaysia', 'object_id': 30, 'relation': 'Express_intent_to_cooperate', 'relation_id': 13, 'subject': 'Thailand', 'subject_id': 18, 'timestamp': '2014-12-01', 'timestamp_id': 335}, page_content='\"Thailand expressed intent to cooperate to/with Malaysia on 2014-12-01\"'),\n",
       " Document(metadata={'object': 'Thailand', 'object_id': 18, 'relation': 'Express_intent_to_cooperate', 'relation_id': 13, 'subject': 'Malaysia', 'subject_id': 30, 'timestamp': '2014-09-12', 'timestamp_id': 255}, page_content='\"Malaysia expressed intent to cooperate to/with Thailand on 2014-09-12\"'),\n",
       " Document(metadata={'object': 'Malaysia', 'object_id': 30, 'relation': 'Express_intent_to_cooperate', 'relation_id': 13, 'subject': 'Thailand', 'subject_id': 18, 'timestamp': '2014-09-12', 'timestamp_id': 255}, page_content='\"Thailand expressed intent to cooperate to/with Malaysia on 2014-09-12\"')]"
      ]
     },
     "execution_count": 6,
     "metadata": {},
     "output_type": "execute_result"
    }
   ],
   "source": [
    "\n",
    "\n",
    "filter = {\"$and\": [\n",
    "\t{\"object\": {\"$in\": [\"Malaysia\", 'Thailand']}},\n",
    "\t{\"subject\": {\"$in\": [\"Malaysia\", 'Thailand']}},\n",
    "    {\"relation\": \"Express_intent_to_cooperate\"}\n",
    "]\n",
    "}\n",
    "\n",
    "# filter = {\"$and\":[{\"object\": \"Abdullah_Gül\"}, {\"subject\": \"Public_Prosecutor_(Turkey)\"}]}\n",
    "# filter = {\"subject\": \"Government_(United_States)\"}\n",
    "docs = lookup_vector_db(\"\", filter, data_dict['facts']['vector_db'], llm_instance, top_k=1000)\n",
    "docs = sorted(docs, key=lambda x: x.metadata['timestamp_id'], reverse=True)\n",
    "docs"
   ]
  },
  {
   "cell_type": "markdown",
   "metadata": {},
   "source": [
    "---"
   ]
  }
 ],
 "metadata": {
  "kernelspec": {
   "display_name": "LLM_DA-env",
   "language": "python",
   "name": "python3"
  },
  "language_info": {
   "codemirror_mode": {
    "name": "ipython",
    "version": 3
   },
   "file_extension": ".py",
   "mimetype": "text/x-python",
   "name": "python",
   "nbconvert_exporter": "python",
   "pygments_lexer": "ipython3",
   "version": "3.10.15"
  }
 },
 "nbformat": 4,
 "nbformat_minor": 2
}
