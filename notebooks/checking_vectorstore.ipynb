{
 "cells": [
  {
   "cell_type": "code",
   "execution_count": 13,
   "metadata": {},
   "outputs": [
    {
     "name": "stdout",
     "output_type": "stream",
     "text": [
      "Current working folder: D:\\My Document\\Khóa Luận Tốt Nghiệp\\Model Reposity\\RAG_LLM_DA\n",
      "Current working folder: D:\\My Document\\Khóa Luận Tốt Nghiệp\\Model Reposity\\RAG_LLM_DA\n"
     ]
    }
   ],
   "source": [
    "import os\n",
    "print(f\"Current working folder: {os.getcwd()}\")\n",
    "\n",
    "os.chdir('D:/My Document/Khóa Luận Tốt Nghiệp/Model Reposity/RAG_LLM_DA')\n",
    "print(f\"Current working folder: {os.getcwd()}\")\n",
    "\n",
    "from stages.stage_1_learn_rules_from_data.data_loader import DataLoader\n",
    "from langchain_core.messages import HumanMessage, AIMessage, SystemMessage\n",
    "from openai_llm.llm_init import LLM_Model\n",
    "from utils import load_json_data, save_json_data, load_vectorstore_db, lookup_vector_db"
   ]
  },
  {
   "cell_type": "code",
   "execution_count": 14,
   "metadata": {},
   "outputs": [
    {
     "name": "stdout",
     "output_type": "stream",
     "text": [
      "Loading data from config/llm_config.json\n"
     ]
    }
   ],
   "source": [
    "llm_instance = LLM_Model()"
   ]
  },
  {
   "cell_type": "code",
   "execution_count": 15,
   "metadata": {},
   "outputs": [
    {
     "name": "stdout",
     "output_type": "stream",
     "text": [
      "Loading data from config/data_embedding.json\n",
      "facts: 166718 documents\n",
      "rules: 0 documents\n"
     ]
    }
   ],
   "source": [
    "data_dict = load_vectorstore_db(llm_instance, 'icews14')\n",
    "for collection in data_dict:\n",
    "    print(f\"{collection}: {len(data_dict[collection]['vector_db'].get()['documents'])} documents\")"
   ]
  },
  {
   "cell_type": "code",
   "execution_count": 24,
   "metadata": {},
   "outputs": [
    {
     "data": {
      "text/plain": [
       "[]"
      ]
     },
     "execution_count": 24,
     "metadata": {},
     "output_type": "execute_result"
    }
   ],
   "source": [
    "from datetime import datetime  \n",
    "import time  \n",
    "\n",
    "# Convert dates to Unix timestamps  \n",
    "start_date = int(datetime.strptime(\"2014-01-01\", \"%Y-%m-%d\").timestamp())  \n",
    "end_date = int(datetime.strptime(\"2014-12-31\", \"%Y-%m-%d\").timestamp())  \n",
    "\n",
    "filter = {  \n",
    "    \"$and\": [  \n",
    "        {  \n",
    "            \"timestamp\": {  \n",
    "                \"$gte\": start_date  \n",
    "            }  \n",
    "        },  \n",
    "        {  \n",
    "            \"timestamp\": {  \n",
    "                \"$lte\": end_date\n",
    "            }  \n",
    "        },  \n",
    "        {  \n",
    "            \"subject\": {  \n",
    "                \"$in\": [\"Thailand\", \"Malaysia\"]  \n",
    "            }  \n",
    "        }  \n",
    "    ]  \n",
    "}\n",
    "docs = lookup_vector_db('', filter, data_dict['facts']['vector_db'], llm_instance)\n",
    "docs"
   ]
  }
 ],
 "metadata": {
  "kernelspec": {
   "display_name": "LLM_DA-env",
   "language": "python",
   "name": "python3"
  },
  "language_info": {
   "codemirror_mode": {
    "name": "ipython",
    "version": 3
   },
   "file_extension": ".py",
   "mimetype": "text/x-python",
   "name": "python",
   "nbconvert_exporter": "python",
   "pygments_lexer": "ipython3",
   "version": "3.10.15"
  }
 },
 "nbformat": 4,
 "nbformat_minor": 2
}
