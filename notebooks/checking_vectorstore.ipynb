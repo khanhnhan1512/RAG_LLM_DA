{
 "cells": [
  {
   "cell_type": "code",
   "execution_count": 5,
   "metadata": {},
   "outputs": [
    {
     "name": "stdout",
     "output_type": "stream",
     "text": [
      "Current working folder: c:\\Users\\UHY6HC\\Downloads\\Thesis\\RAG_LLM_DA\\notebooks\n",
      "Current working folder: C:\\Users\\UHY6HC\\Downloads\\Thesis\\RAG_LLM_DA\n"
     ]
    }
   ],
   "source": [
    "import os\n",
    "print(f\"Current working folder: {os.getcwd()}\")\n",
    "\n",
    "os.chdir('C:/Users/UHY6HC/Downloads/Thesis/RAG_LLM_DA')\n",
    "print(f\"Current working folder: {os.getcwd()}\")\n",
    "\n",
    "from stages.stage_1_learn_rules_from_data.data_loader import DataLoader\n",
    "from langchain_core.messages import HumanMessage, AIMessage, SystemMessage\n",
    "from openai_llm.llm_init import LLM_Model\n",
    "from utils import load_json_data, save_json_data, load_vectorstore_db, lookup_vector_db, calculate_similarity"
   ]
  },
  {
   "cell_type": "code",
   "execution_count": 6,
   "metadata": {},
   "outputs": [
    {
     "name": "stdout",
     "output_type": "stream",
     "text": [
      "Loading data from config/llm_config.json\n"
     ]
    }
   ],
   "source": [
    "llm_instance = LLM_Model()"
   ]
  },
  {
   "cell_type": "code",
   "execution_count": 7,
   "metadata": {},
   "outputs": [
    {
     "name": "stdout",
     "output_type": "stream",
     "text": [
      "Loading data from config/data_embedding.json\n",
      "facts: 181460 documents\n",
      "rules: 0 documents\n"
     ]
    }
   ],
   "source": [
    "data_dict = load_vectorstore_db(llm_instance, 'icews14')\n",
    "for collection in data_dict:\n",
    "    print(f\"{collection}: {len(data_dict[collection]['vector_db'].get()['documents'])} documents\")"
   ]
  },
  {
   "cell_type": "code",
   "execution_count": 8,
   "metadata": {},
   "outputs": [
    {
     "data": {
      "text/plain": [
       "[Document(metadata={'object': 'Pope_Francis', 'object_id': 75, 'relation': 'inv_Host_a_visit', 'relation_id': 235, 'subject': 'Cristina_Fernández_de_Kirchner', 'subject_id': 118, 'timestamp': '2014-12-29', 'timestamp_id': 363}, page_content='\"Cristina_Fernández_de_Kirchner was hosted a visit by to/with Pope_Francis on 2014-12-29\"'),\n",
       " Document(metadata={'object': 'Pope_Francis', 'object_id': 75, 'relation': 'Make_a_visit', 'relation_id': 4, 'subject': 'Cristina_Fernández_de_Kirchner', 'subject_id': 118, 'timestamp': '2014-12-29', 'timestamp_id': 363}, page_content='\"Cristina_Fernández_de_Kirchner made a visit to/with Pope_Francis on 2014-12-29\"'),\n",
       " Document(metadata={'object': 'Government_(Argentina)', 'object_id': 190, 'relation': 'inv_Investigate', 'relation_id': 248, 'subject': 'Cristina_Fernández_de_Kirchner', 'subject_id': 118, 'timestamp': '2014-12-26', 'timestamp_id': 360}, page_content='\"Cristina_Fernández_de_Kirchner was Investigated by to/with Government_(Argentina) on 2014-12-26\"'),\n",
       " Document(metadata={'object': 'Argentine_Episcopal_Conference', 'object_id': 4175, 'relation': 'inv_Express_intent_to_meet_or_negotiate', 'relation_id': 233, 'subject': 'Cristina_Fernández_de_Kirchner', 'subject_id': 118, 'timestamp': '2014-12-21', 'timestamp_id': 355}, page_content='\"Cristina_Fernández_de_Kirchner was expressed intent to meet or negotiate by to/with Argentine_Episcopal_Conference on 2014-12-21\"'),\n",
       " Document(metadata={'object': 'People_Associated_with_the_Opposition_(Argentina)', 'object_id': 765, 'relation': 'inv_Investigate_human_rights_abuses', 'relation_id': 412, 'subject': 'Cristina_Fernández_de_Kirchner', 'subject_id': 118, 'timestamp': '2014-12-11', 'timestamp_id': 345}, page_content='\"Cristina_Fernández_de_Kirchner was Investigated human rights abuses by to/with People_Associated_with_the_Opposition_(Argentina) on 2014-12-11\"'),\n",
       " Document(metadata={'object': 'Lawmaker_(Argentina)', 'object_id': 593, 'relation': 'inv_Make_statement', 'relation_id': 230, 'subject': 'Cristina_Fernández_de_Kirchner', 'subject_id': 118, 'timestamp': '2014-12-07', 'timestamp_id': 341}, page_content='\"Cristina_Fernández_de_Kirchner was made a statement by to/with Lawmaker_(Argentina) on 2014-12-07\"'),\n",
       " Document(metadata={'object': 'Sergio_Massa', 'object_id': 404, 'relation': 'inv_Criticize_or_denounce', 'relation_id': 238, 'subject': 'Cristina_Fernández_de_Kirchner', 'subject_id': 118, 'timestamp': '2014-12-03', 'timestamp_id': 337}, page_content='\"Cristina_Fernández_de_Kirchner was criticized or denounced by to/with Sergio_Massa on 2014-12-03\"'),\n",
       " Document(metadata={'object': 'Daniel_Scioli', 'object_id': 285, 'relation': 'inv_Praise_or_endorse', 'relation_id': 237, 'subject': 'Cristina_Fernández_de_Kirchner', 'subject_id': 118, 'timestamp': '2014-12-02', 'timestamp_id': 336}, page_content='\"Cristina_Fernández_de_Kirchner was praised or endorsed by to/with Daniel_Scioli on 2014-12-02\"'),\n",
       " Document(metadata={'object': 'Raúl_Sendic', 'object_id': 5036, 'relation': 'Praise_or_endorse', 'relation_id': 7, 'subject': 'Cristina_Fernández_de_Kirchner', 'subject_id': 118, 'timestamp': '2014-12-01', 'timestamp_id': 335}, page_content='\"Cristina_Fernández_de_Kirchner praised or endorsed to/with Raúl_Sendic on 2014-12-01\"'),\n",
       " Document(metadata={'object': 'Axel_Kicillof', 'object_id': 1223, 'relation': 'inv_Defend_verbally', 'relation_id': 339, 'subject': 'Cristina_Fernández_de_Kirchner', 'subject_id': 118, 'timestamp': '2014-11-25', 'timestamp_id': 329}, page_content='\"Cristina_Fernández_de_Kirchner was Defended verbally by to/with Axel_Kicillof on 2014-11-25\"'),\n",
       " Document(metadata={'object': 'Axel_Kicillof', 'object_id': 1223, 'relation': 'Host_a_visit', 'relation_id': 5, 'subject': 'Cristina_Fernández_de_Kirchner', 'subject_id': 118, 'timestamp': '2014-11-24', 'timestamp_id': 328}, page_content='\"Cristina_Fernández_de_Kirchner hosted a visit to/with Axel_Kicillof on 2014-11-24\"'),\n",
       " Document(metadata={'object': 'Axel_Kicillof', 'object_id': 1223, 'relation': 'inv_Make_a_visit', 'relation_id': 234, 'subject': 'Cristina_Fernández_de_Kirchner', 'subject_id': 118, 'timestamp': '2014-11-24', 'timestamp_id': 328}, page_content='\"Cristina_Fernández_de_Kirchner was made a visit by to/with Axel_Kicillof on 2014-11-24\"'),\n",
       " Document(metadata={'object': 'China', 'object_id': 0, 'relation': 'inv_Host_a_visit', 'relation_id': 235, 'subject': 'Cristina_Fernández_de_Kirchner', 'subject_id': 118, 'timestamp': '2014-11-21', 'timestamp_id': 325}, page_content='\"Cristina_Fernández_de_Kirchner was hosted a visit by to/with China on 2014-11-21\"'),\n",
       " Document(metadata={'object': 'Agustín_Rossi', 'object_id': 1217, 'relation': 'inv_Make_statement', 'relation_id': 230, 'subject': 'Cristina_Fernández_de_Kirchner', 'subject_id': 118, 'timestamp': '2014-11-15', 'timestamp_id': 319}, page_content='\"Cristina_Fernández_de_Kirchner was made a statement by to/with Agustín_Rossi on 2014-11-15\"'),\n",
       " Document(metadata={'object': 'Lawmaker_(Argentina)', 'object_id': 593, 'relation': 'inv_Make_statement', 'relation_id': 230, 'subject': 'Cristina_Fernández_de_Kirchner', 'subject_id': 118, 'timestamp': '2014-11-09', 'timestamp_id': 313}, page_content='\"Cristina_Fernández_de_Kirchner was made a statement by to/with Lawmaker_(Argentina) on 2014-11-09\"'),\n",
       " Document(metadata={'object': 'Alicia_Castro', 'object_id': 3514, 'relation': 'inv_Make_statement', 'relation_id': 230, 'subject': 'Cristina_Fernández_de_Kirchner', 'subject_id': 118, 'timestamp': '2014-11-07', 'timestamp_id': 311}, page_content='\"Cristina_Fernández_de_Kirchner was made a statement by to/with Alicia_Castro on 2014-11-07\"'),\n",
       " Document(metadata={'object': 'Débora_Giorgi', 'object_id': 1914, 'relation': 'inv_Make_statement', 'relation_id': 230, 'subject': 'Cristina_Fernández_de_Kirchner', 'subject_id': 118, 'timestamp': '2014-11-07', 'timestamp_id': 311}, page_content='\"Cristina_Fernández_de_Kirchner was made a statement by to/with Débora_Giorgi on 2014-11-07\"'),\n",
       " Document(metadata={'object': 'Carlos_Alberto_Reutemann', 'object_id': 3564, 'relation': 'inv_Make_statement', 'relation_id': 230, 'subject': 'Cristina_Fernández_de_Kirchner', 'subject_id': 118, 'timestamp': '2014-10-28', 'timestamp_id': 301}, page_content='\"Cristina_Fernández_de_Kirchner was made a statement by to/with Carlos_Alberto_Reutemann on 2014-10-28\"'),\n",
       " Document(metadata={'object': 'Congress_(Argentina)', 'object_id': 397, 'relation': 'Make_statement', 'relation_id': 0, 'subject': 'Cristina_Fernández_de_Kirchner', 'subject_id': 118, 'timestamp': '2014-10-21', 'timestamp_id': 294}, page_content='\"Cristina_Fernández_de_Kirchner made a statement to/with Congress_(Argentina) on 2014-10-21\"'),\n",
       " Document(metadata={'object': 'Evo_Morales', 'object_id': 289, 'relation': 'Praise_or_endorse', 'relation_id': 7, 'subject': 'Cristina_Fernández_de_Kirchner', 'subject_id': 118, 'timestamp': '2014-10-13', 'timestamp_id': 286}, page_content='\"Cristina_Fernández_de_Kirchner praised or endorsed to/with Evo_Morales on 2014-10-13\"'),\n",
       " Document(metadata={'object': 'Iran', 'object_id': 1, 'relation': 'Demonstrate_or_rally', 'relation_id': 24, 'subject': 'Cristina_Fernández_de_Kirchner', 'subject_id': 118, 'timestamp': '2014-10-09', 'timestamp_id': 282}, page_content='\"Cristina_Fernández_de_Kirchner Demonstrated or rallied to/with Iran on 2014-10-09\"'),\n",
       " Document(metadata={'object': 'UN_Security_Council', 'object_id': 25, 'relation': 'Investigate', 'relation_id': 18, 'subject': 'Cristina_Fernández_de_Kirchner', 'subject_id': 118, 'timestamp': '2014-10-06', 'timestamp_id': 279}, page_content='\"Cristina_Fernández_de_Kirchner Investigated to/with UN_Security_Council on 2014-10-06\"'),\n",
       " Document(metadata={'object': 'Senate_(Argentina)', 'object_id': 539, 'relation': 'inv_Reject', 'relation_id': 250, 'subject': 'Cristina_Fernández_de_Kirchner', 'subject_id': 118, 'timestamp': '2014-10-04', 'timestamp_id': 277}, page_content='\"Cristina_Fernández_de_Kirchner was Rejected by to/with Senate_(Argentina) on 2014-10-04\"'),\n",
       " Document(metadata={'object': 'Senate_(Argentina)', 'object_id': 539, 'relation': 'inv_Deny_responsibility', 'relation_id': 268, 'subject': 'Cristina_Fernández_de_Kirchner', 'subject_id': 118, 'timestamp': '2014-10-04', 'timestamp_id': 277}, page_content='\"Cristina_Fernández_de_Kirchner was Deny responsibility by to/with Senate_(Argentina) on 2014-10-04\"'),\n",
       " Document(metadata={'object': 'Francisco_de_Narvaez_Steuer', 'object_id': 2270, 'relation': 'inv_Make_statement', 'relation_id': 230, 'subject': 'Cristina_Fernández_de_Kirchner', 'subject_id': 118, 'timestamp': '2014-10-04', 'timestamp_id': 277}, page_content='\"Cristina_Fernández_de_Kirchner was made a statement by to/with Francisco_de_Narvaez_Steuer on 2014-10-04\"'),\n",
       " Document(metadata={'object': 'Grupo_Clarín', 'object_id': 4524, 'relation': 'Make_statement', 'relation_id': 0, 'subject': 'Cristina_Fernández_de_Kirchner', 'subject_id': 118, 'timestamp': '2014-10-03', 'timestamp_id': 276}, page_content='\"Cristina_Fernández_de_Kirchner made a statement to/with Grupo_Clarín on 2014-10-03\"'),\n",
       " Document(metadata={'object': 'Government_(Argentina)', 'object_id': 190, 'relation': 'Make_statement', 'relation_id': 0, 'subject': 'Cristina_Fernández_de_Kirchner', 'subject_id': 118, 'timestamp': '2014-10-02', 'timestamp_id': 275}, page_content='\"Cristina_Fernández_de_Kirchner made a statement to/with Government_(Argentina) on 2014-10-02\"'),\n",
       " Document(metadata={'object': 'Presidential_Candidate_(Argentina)', 'object_id': 514, 'relation': 'inv_Make_statement', 'relation_id': 230, 'subject': 'Cristina_Fernández_de_Kirchner', 'subject_id': 118, 'timestamp': '2014-10-01', 'timestamp_id': 274}, page_content='\"Cristina_Fernández_de_Kirchner was made a statement by to/with Presidential_Candidate_(Argentina) on 2014-10-01\"'),\n",
       " Document(metadata={'object': 'Barack_Obama', 'object_id': 4, 'relation': 'Accuse', 'relation_id': 9, 'subject': 'Cristina_Fernández_de_Kirchner', 'subject_id': 118, 'timestamp': '2014-10-01', 'timestamp_id': 274}, page_content='\"Cristina_Fernández_de_Kirchner accused to/with Barack_Obama on 2014-10-01\"'),\n",
       " Document(metadata={'object': 'Media_Personnel_(Argentina)', 'object_id': 545, 'relation': 'Criticize_or_denounce', 'relation_id': 8, 'subject': 'Cristina_Fernández_de_Kirchner', 'subject_id': 118, 'timestamp': '2014-09-30', 'timestamp_id': 273}, page_content='\"Cristina_Fernández_de_Kirchner criticized or denounced to/with Media_Personnel_(Argentina) on 2014-09-30\"'),\n",
       " Document(metadata={'object': 'Foreign_Affairs_(United_States)', 'object_id': 39, 'relation': 'Make_statement', 'relation_id': 0, 'subject': 'Cristina_Fernández_de_Kirchner', 'subject_id': 118, 'timestamp': '2014-09-30', 'timestamp_id': 273}, page_content='\"Cristina_Fernández_de_Kirchner made a statement to/with Foreign_Affairs_(United_States) on 2014-09-30\"'),\n",
       " Document(metadata={'object': 'Sergio_Massa', 'object_id': 404, 'relation': 'inv_Make_statement', 'relation_id': 230, 'subject': 'Cristina_Fernández_de_Kirchner', 'subject_id': 118, 'timestamp': '2014-09-27', 'timestamp_id': 270}, page_content='\"Cristina_Fernández_de_Kirchner was made a statement by to/with Sergio_Massa on 2014-09-27\"'),\n",
       " Document(metadata={'object': 'Legislature_(Argentina)', 'object_id': 727, 'relation': 'Praise_or_endorse', 'relation_id': 7, 'subject': 'Cristina_Fernández_de_Kirchner', 'subject_id': 118, 'timestamp': '2014-09-24', 'timestamp_id': 267}, page_content='\"Cristina_Fernández_de_Kirchner praised or endorsed to/with Legislature_(Argentina) on 2014-09-24\"'),\n",
       " Document(metadata={'object': 'Legislature_(Argentina)', 'object_id': 727, 'relation': 'inv_Make_statement', 'relation_id': 230, 'subject': 'Cristina_Fernández_de_Kirchner', 'subject_id': 118, 'timestamp': '2014-09-24', 'timestamp_id': 267}, page_content='\"Cristina_Fernández_de_Kirchner was made a statement by to/with Legislature_(Argentina) on 2014-09-24\"'),\n",
       " Document(metadata={'object': 'Government_(Argentina)', 'object_id': 190, 'relation': 'Make_statement', 'relation_id': 0, 'subject': 'Cristina_Fernández_de_Kirchner', 'subject_id': 118, 'timestamp': '2014-09-24', 'timestamp_id': 267}, page_content='\"Cristina_Fernández_de_Kirchner made a statement to/with Government_(Argentina) on 2014-09-24\"'),\n",
       " Document(metadata={'object': 'Nestor_Kirchner', 'object_id': 1461, 'relation': 'Make_statement', 'relation_id': 0, 'subject': 'Cristina_Fernández_de_Kirchner', 'subject_id': 118, 'timestamp': '2014-09-24', 'timestamp_id': 267}, page_content='\"Cristina_Fernández_de_Kirchner made a statement to/with Nestor_Kirchner on 2014-09-24\"'),\n",
       " Document(metadata={'object': 'Daniel_Scioli', 'object_id': 285, 'relation': 'inv_Make_statement', 'relation_id': 230, 'subject': 'Cristina_Fernández_de_Kirchner', 'subject_id': 118, 'timestamp': '2014-09-24', 'timestamp_id': 267}, page_content='\"Cristina_Fernández_de_Kirchner was made a statement by to/with Daniel_Scioli on 2014-09-24\"'),\n",
       " Document(metadata={'object': 'Pope_Francis', 'object_id': 75, 'relation': 'inv_Praise_or_endorse', 'relation_id': 237, 'subject': 'Cristina_Fernández_de_Kirchner', 'subject_id': 118, 'timestamp': '2014-09-22', 'timestamp_id': 265}, page_content='\"Cristina_Fernández_de_Kirchner was praised or endorsed by to/with Pope_Francis on 2014-09-22\"'),\n",
       " Document(metadata={'object': 'Pope_Francis', 'object_id': 75, 'relation': 'inv_Host_a_visit', 'relation_id': 235, 'subject': 'Cristina_Fernández_de_Kirchner', 'subject_id': 118, 'timestamp': '2014-09-20', 'timestamp_id': 263}, page_content='\"Cristina_Fernández_de_Kirchner was hosted a visit by to/with Pope_Francis on 2014-09-20\"'),\n",
       " Document(metadata={'object': 'Pope_Francis', 'object_id': 75, 'relation': 'Make_a_visit', 'relation_id': 4, 'subject': 'Cristina_Fernández_de_Kirchner', 'subject_id': 118, 'timestamp': '2014-09-20', 'timestamp_id': 263}, page_content='\"Cristina_Fernández_de_Kirchner made a visit to/with Pope_Francis on 2014-09-20\"'),\n",
       " Document(metadata={'object': 'Pope_Francis', 'object_id': 75, 'relation': 'Express_intent_to_meet_or_negotiate', 'relation_id': 3, 'subject': 'Cristina_Fernández_de_Kirchner', 'subject_id': 118, 'timestamp': '2014-09-19', 'timestamp_id': 262}, page_content='\"Cristina_Fernández_de_Kirchner expressed intent to meet or negotiate to/with Pope_Francis on 2014-09-19\"'),\n",
       " Document(metadata={'object': 'Pope_Francis', 'object_id': 75, 'relation': 'Express_intent_to_meet_or_negotiate', 'relation_id': 3, 'subject': 'Cristina_Fernández_de_Kirchner', 'subject_id': 118, 'timestamp': '2014-09-18', 'timestamp_id': 261}, page_content='\"Cristina_Fernández_de_Kirchner expressed intent to meet or negotiate to/with Pope_Francis on 2014-09-18\"'),\n",
       " Document(metadata={'object': 'Madeleine_Albright', 'object_id': 2846, 'relation': 'Make_statement', 'relation_id': 0, 'subject': 'Cristina_Fernández_de_Kirchner', 'subject_id': 118, 'timestamp': '2014-09-01', 'timestamp_id': 244}, page_content='\"Cristina_Fernández_de_Kirchner made a statement to/with Madeleine_Albright on 2014-09-01\"'),\n",
       " Document(metadata={'object': 'Head_of_Government_(Chile)', 'object_id': 1186, 'relation': 'inv_Make_statement', 'relation_id': 230, 'subject': 'Cristina_Fernández_de_Kirchner', 'subject_id': 118, 'timestamp': '2014-08-28', 'timestamp_id': 240}, page_content='\"Cristina_Fernández_de_Kirchner was made a statement by to/with Head_of_Government_(Chile) on 2014-08-28\"'),\n",
       " Document(metadata={'object': 'Government_(Argentina)', 'object_id': 190, 'relation': 'Criticize_or_denounce', 'relation_id': 8, 'subject': 'Cristina_Fernández_de_Kirchner', 'subject_id': 118, 'timestamp': '2014-08-28', 'timestamp_id': 240}, page_content='\"Cristina_Fernández_de_Kirchner criticized or denounced to/with Government_(Argentina) on 2014-08-28\"'),\n",
       " Document(metadata={'object': 'Congress_(Argentina)', 'object_id': 397, 'relation': 'inv_Host_a_visit', 'relation_id': 235, 'subject': 'Cristina_Fernández_de_Kirchner', 'subject_id': 118, 'timestamp': '2014-08-26', 'timestamp_id': 238}, page_content='\"Cristina_Fernández_de_Kirchner was hosted a visit by to/with Congress_(Argentina) on 2014-08-26\"'),\n",
       " Document(metadata={'object': 'Congress_(Argentina)', 'object_id': 397, 'relation': 'Make_a_visit', 'relation_id': 4, 'subject': 'Cristina_Fernández_de_Kirchner', 'subject_id': 118, 'timestamp': '2014-08-26', 'timestamp_id': 238}, page_content='\"Cristina_Fernández_de_Kirchner made a visit to/with Congress_(Argentina) on 2014-08-26\"'),\n",
       " Document(metadata={'object': 'Paraguay', 'object_id': 437, 'relation': 'inv_Host_a_visit', 'relation_id': 235, 'subject': 'Cristina_Fernández_de_Kirchner', 'subject_id': 118, 'timestamp': '2014-08-21', 'timestamp_id': 233}, page_content='\"Cristina_Fernández_de_Kirchner was hosted a visit by to/with Paraguay on 2014-08-21\"'),\n",
       " Document(metadata={'object': 'Pope_Francis', 'object_id': 75, 'relation': 'Make_empathetic_comment', 'relation_id': 33, 'subject': 'Cristina_Fernández_de_Kirchner', 'subject_id': 118, 'timestamp': '2014-08-19', 'timestamp_id': 231}, page_content='\"Cristina_Fernández_de_Kirchner Make an empathetic comment to/with Pope_Francis on 2014-08-19\"'),\n",
       " Document(metadata={'object': 'Government_(Argentina)', 'object_id': 190, 'relation': 'Make_statement', 'relation_id': 0, 'subject': 'Cristina_Fernández_de_Kirchner', 'subject_id': 118, 'timestamp': '2014-08-15', 'timestamp_id': 227}, page_content='\"Cristina_Fernández_de_Kirchner made a statement to/with Government_(Argentina) on 2014-08-15\"'),\n",
       " Document(metadata={'object': 'Paraguay', 'object_id': 437, 'relation': 'inv_Host_a_visit', 'relation_id': 235, 'subject': 'Cristina_Fernández_de_Kirchner', 'subject_id': 118, 'timestamp': '2014-08-13', 'timestamp_id': 225}, page_content='\"Cristina_Fernández_de_Kirchner was hosted a visit by to/with Paraguay on 2014-08-13\"'),\n",
       " Document(metadata={'object': 'Horacio_Cartes', 'object_id': 610, 'relation': 'Express_intent_to_meet_or_negotiate', 'relation_id': 3, 'subject': 'Cristina_Fernández_de_Kirchner', 'subject_id': 118, 'timestamp': '2014-08-12', 'timestamp_id': 224}, page_content='\"Cristina_Fernández_de_Kirchner expressed intent to meet or negotiate to/with Horacio_Cartes on 2014-08-12\"'),\n",
       " Document(metadata={'object': 'Paraguay', 'object_id': 437, 'relation': 'inv_Host_a_visit', 'relation_id': 235, 'subject': 'Cristina_Fernández_de_Kirchner', 'subject_id': 118, 'timestamp': '2014-08-12', 'timestamp_id': 224}, page_content='\"Cristina_Fernández_de_Kirchner was hosted a visit by to/with Paraguay on 2014-08-12\"'),\n",
       " Document(metadata={'object': 'Horacio_Cartes', 'object_id': 610, 'relation': 'Express_intent_to_meet_or_negotiate', 'relation_id': 3, 'subject': 'Cristina_Fernández_de_Kirchner', 'subject_id': 118, 'timestamp': '2014-08-11', 'timestamp_id': 223}, page_content='\"Cristina_Fernández_de_Kirchner expressed intent to meet or negotiate to/with Horacio_Cartes on 2014-08-11\"'),\n",
       " Document(metadata={'object': 'Daniel_Scioli', 'object_id': 285, 'relation': 'Praise_or_endorse', 'relation_id': 7, 'subject': 'Cristina_Fernández_de_Kirchner', 'subject_id': 118, 'timestamp': '2014-08-08', 'timestamp_id': 220}, page_content='\"Cristina_Fernández_de_Kirchner praised or endorsed to/with Daniel_Scioli on 2014-08-08\"'),\n",
       " Document(metadata={'object': 'Barack_Obama', 'object_id': 4, 'relation': 'Make_statement', 'relation_id': 0, 'subject': 'Cristina_Fernández_de_Kirchner', 'subject_id': 118, 'timestamp': '2014-08-07', 'timestamp_id': 219}, page_content='\"Cristina_Fernández_de_Kirchner made a statement to/with Barack_Obama on 2014-08-07\"'),\n",
       " Document(metadata={'object': 'People_Associated_with_the_Opposition_(Argentina)', 'object_id': 765, 'relation': 'inv_Reject', 'relation_id': 250, 'subject': 'Cristina_Fernández_de_Kirchner', 'subject_id': 118, 'timestamp': '2014-07-08', 'timestamp_id': 189}, page_content='\"Cristina_Fernández_de_Kirchner was Rejected by to/with People_Associated_with_the_Opposition_(Argentina) on 2014-07-08\"'),\n",
       " Document(metadata={'object': 'People_Associated_with_the_Opposition_(Argentina)', 'object_id': 765, 'relation': 'inv_Criticize_or_denounce', 'relation_id': 238, 'subject': 'Cristina_Fernández_de_Kirchner', 'subject_id': 118, 'timestamp': '2014-07-08', 'timestamp_id': 189}, page_content='\"Cristina_Fernández_de_Kirchner was criticized or denounced by to/with People_Associated_with_the_Opposition_(Argentina) on 2014-07-08\"'),\n",
       " Document(metadata={'object': 'Paraguay', 'object_id': 437, 'relation': 'inv_Host_a_visit', 'relation_id': 235, 'subject': 'Cristina_Fernández_de_Kirchner', 'subject_id': 118, 'timestamp': '2014-07-01', 'timestamp_id': 182}, page_content='\"Cristina_Fernández_de_Kirchner was hosted a visit by to/with Paraguay on 2014-07-01\"'),\n",
       " Document(metadata={'object': 'Member_of_the_Judiciary_(Switzerland)', 'object_id': 6376, 'relation': 'Criticize_or_denounce', 'relation_id': 8, 'subject': 'Cristina_Fernández_de_Kirchner', 'subject_id': 118, 'timestamp': '2014-07-01', 'timestamp_id': 182}, page_content='\"Cristina_Fernández_de_Kirchner criticized or denounced to/with Member_of_the_Judiciary_(Switzerland) on 2014-07-01\"'),\n",
       " Document(metadata={'object': 'Paraguay', 'object_id': 437, 'relation': 'Make_a_visit', 'relation_id': 4, 'subject': 'Cristina_Fernández_de_Kirchner', 'subject_id': 118, 'timestamp': '2014-07-01', 'timestamp_id': 182}, page_content='\"Cristina_Fernández_de_Kirchner made a visit to/with Paraguay on 2014-07-01\"'),\n",
       " Document(metadata={'object': 'Lawmaker_(Argentina)', 'object_id': 593, 'relation': 'inv_Make_statement', 'relation_id': 230, 'subject': 'Cristina_Fernández_de_Kirchner', 'subject_id': 118, 'timestamp': '2014-06-29', 'timestamp_id': 180}, page_content='\"Cristina_Fernández_de_Kirchner was made a statement by to/with Lawmaker_(Argentina) on 2014-06-29\"'),\n",
       " Document(metadata={'object': 'Alfonso_Prat_Gay', 'object_id': 3039, 'relation': 'inv_Make_statement', 'relation_id': 230, 'subject': 'Cristina_Fernández_de_Kirchner', 'subject_id': 118, 'timestamp': '2014-06-28', 'timestamp_id': 179}, page_content='\"Cristina_Fernández_de_Kirchner was made a statement by to/with Alfonso_Prat_Gay on 2014-06-28\"'),\n",
       " Document(metadata={'object': 'Legislature_(Argentina)', 'object_id': 727, 'relation': 'inv_Make_statement', 'relation_id': 230, 'subject': 'Cristina_Fernández_de_Kirchner', 'subject_id': 118, 'timestamp': '2014-06-28', 'timestamp_id': 179}, page_content='\"Cristina_Fernández_de_Kirchner was made a statement by to/with Legislature_(Argentina) on 2014-06-28\"'),\n",
       " Document(metadata={'object': 'Horacio_Cartes', 'object_id': 610, 'relation': 'Express_intent_to_meet_or_negotiate', 'relation_id': 3, 'subject': 'Cristina_Fernández_de_Kirchner', 'subject_id': 118, 'timestamp': '2014-06-27', 'timestamp_id': 178}, page_content='\"Cristina_Fernández_de_Kirchner expressed intent to meet or negotiate to/with Horacio_Cartes on 2014-06-27\"'),\n",
       " Document(metadata={'object': 'Member_of_the_Judiciary_(United_States)', 'object_id': 788, 'relation': 'inv_Reject', 'relation_id': 250, 'subject': 'Cristina_Fernández_de_Kirchner', 'subject_id': 118, 'timestamp': '2014-06-18', 'timestamp_id': 169}, page_content='\"Cristina_Fernández_de_Kirchner was Rejected by to/with Member_of_the_Judiciary_(United_States) on 2014-06-18\"'),\n",
       " Document(metadata={'object': 'Government_(Argentina)', 'object_id': 190, 'relation': 'Make_statement', 'relation_id': 0, 'subject': 'Cristina_Fernández_de_Kirchner', 'subject_id': 118, 'timestamp': '2014-06-17', 'timestamp_id': 168}, page_content='\"Cristina_Fernández_de_Kirchner made a statement to/with Government_(Argentina) on 2014-06-17\"'),\n",
       " Document(metadata={'object': 'Rubén_Saavedra', 'object_id': 3423, 'relation': 'inv_Host_a_visit', 'relation_id': 235, 'subject': 'Cristina_Fernández_de_Kirchner', 'subject_id': 118, 'timestamp': '2014-06-15', 'timestamp_id': 166}, page_content='\"Cristina_Fernández_de_Kirchner was hosted a visit by to/with Rubén_Saavedra on 2014-06-15\"'),\n",
       " Document(metadata={'object': 'Rubén_Saavedra', 'object_id': 3423, 'relation': 'Make_a_visit', 'relation_id': 4, 'subject': 'Cristina_Fernández_de_Kirchner', 'subject_id': 118, 'timestamp': '2014-06-15', 'timestamp_id': 166}, page_content='\"Cristina_Fernández_de_Kirchner made a visit to/with Rubén_Saavedra on 2014-06-15\"'),\n",
       " Document(metadata={'object': 'Bolivia', 'object_id': 268, 'relation': 'inv_Host_a_visit', 'relation_id': 235, 'subject': 'Cristina_Fernández_de_Kirchner', 'subject_id': 118, 'timestamp': '2014-06-15', 'timestamp_id': 166}, page_content='\"Cristina_Fernández_de_Kirchner was hosted a visit by to/with Bolivia on 2014-06-15\"'),\n",
       " Document(metadata={'object': 'Bolivia', 'object_id': 268, 'relation': 'Make_a_visit', 'relation_id': 4, 'subject': 'Cristina_Fernández_de_Kirchner', 'subject_id': 118, 'timestamp': '2014-06-15', 'timestamp_id': 166}, page_content='\"Cristina_Fernández_de_Kirchner made a visit to/with Bolivia on 2014-06-15\"'),\n",
       " Document(metadata={'object': 'Hugo_Swire', 'object_id': 2285, 'relation': 'inv_Make_statement', 'relation_id': 230, 'subject': 'Cristina_Fernández_de_Kirchner', 'subject_id': 118, 'timestamp': '2014-06-11', 'timestamp_id': 162}, page_content='\"Cristina_Fernández_de_Kirchner was made a statement by to/with Hugo_Swire on 2014-06-11\"'),\n",
       " Document(metadata={'object': 'Julio_Cobos', 'object_id': 1104, 'relation': 'Make_statement', 'relation_id': 0, 'subject': 'Cristina_Fernández_de_Kirchner', 'subject_id': 118, 'timestamp': '2014-06-04', 'timestamp_id': 155}, page_content='\"Cristina_Fernández_de_Kirchner made a statement to/with Julio_Cobos on 2014-06-04\"'),\n",
       " Document(metadata={'object': 'Media_(Argentina)', 'object_id': 2559, 'relation': 'Criticize_or_denounce', 'relation_id': 8, 'subject': 'Cristina_Fernández_de_Kirchner', 'subject_id': 118, 'timestamp': '2014-05-10', 'timestamp_id': 130}, page_content='\"Cristina_Fernández_de_Kirchner criticized or denounced to/with Media_(Argentina) on 2014-05-10\"'),\n",
       " Document(metadata={'object': 'Daniel_Scioli', 'object_id': 285, 'relation': 'Make_statement', 'relation_id': 0, 'subject': 'Cristina_Fernández_de_Kirchner', 'subject_id': 118, 'timestamp': '2014-05-07', 'timestamp_id': 127}, page_content='\"Cristina_Fernández_de_Kirchner made a statement to/with Daniel_Scioli on 2014-05-07\"'),\n",
       " Document(metadata={'object': 'Legislature_(Argentina)', 'object_id': 727, 'relation': 'inv_Make_statement', 'relation_id': 230, 'subject': 'Cristina_Fernández_de_Kirchner', 'subject_id': 118, 'timestamp': '2014-05-06', 'timestamp_id': 126}, page_content='\"Cristina_Fernández_de_Kirchner was made a statement by to/with Legislature_(Argentina) on 2014-05-06\"'),\n",
       " Document(metadata={'object': 'Mexico', 'object_id': 49, 'relation': 'inv_Host_a_visit', 'relation_id': 235, 'subject': 'Cristina_Fernández_de_Kirchner', 'subject_id': 118, 'timestamp': '2014-05-06', 'timestamp_id': 126}, page_content='\"Cristina_Fernández_de_Kirchner was hosted a visit by to/with Mexico on 2014-05-06\"'),\n",
       " Document(metadata={'object': 'Agustín_Rossi', 'object_id': 1217, 'relation': 'inv_Make_statement', 'relation_id': 230, 'subject': 'Cristina_Fernández_de_Kirchner', 'subject_id': 118, 'timestamp': '2014-04-22', 'timestamp_id': 112}, page_content='\"Cristina_Fernández_de_Kirchner was made a statement by to/with Agustín_Rossi on 2014-04-22\"'),\n",
       " Document(metadata={'object': 'Sergio_Massa', 'object_id': 404, 'relation': 'inv_Make_statement', 'relation_id': 230, 'subject': 'Cristina_Fernández_de_Kirchner', 'subject_id': 118, 'timestamp': '2014-04-20', 'timestamp_id': 110}, page_content='\"Cristina_Fernández_de_Kirchner was made a statement by to/with Sergio_Massa on 2014-04-20\"'),\n",
       " Document(metadata={'object': 'Justicialist_Party', 'object_id': 1059, 'relation': 'Express_intent_to_cooperate', 'relation_id': 13, 'subject': 'Cristina_Fernández_de_Kirchner', 'subject_id': 118, 'timestamp': '2014-04-17', 'timestamp_id': 107}, page_content='\"Cristina_Fernández_de_Kirchner Expressed intent to cooperate to/with Justicialist_Party on 2014-04-17\"'),\n",
       " Document(metadata={'object': 'Justicialist_Party', 'object_id': 1059, 'relation': 'inv_Express_intent_to_cooperate', 'relation_id': 243, 'subject': 'Cristina_Fernández_de_Kirchner', 'subject_id': 118, 'timestamp': '2014-04-17', 'timestamp_id': 107}, page_content='\"Cristina_Fernández_de_Kirchner was Expressed intent to cooperate by to/with Justicialist_Party on 2014-04-17\"'),\n",
       " Document(metadata={'object': 'Legislature_(Argentina)', 'object_id': 727, 'relation': 'inv_Make_statement', 'relation_id': 230, 'subject': 'Cristina_Fernández_de_Kirchner', 'subject_id': 118, 'timestamp': '2014-04-09', 'timestamp_id': 99}, page_content='\"Cristina_Fernández_de_Kirchner was made a statement by to/with Legislature_(Argentina) on 2014-04-09\"'),\n",
       " Document(metadata={'object': 'France', 'object_id': 10, 'relation': 'inv_Host_a_visit', 'relation_id': 235, 'subject': 'Cristina_Fernández_de_Kirchner', 'subject_id': 118, 'timestamp': '2014-03-24', 'timestamp_id': 83}, page_content='\"Cristina_Fernández_de_Kirchner was hosted a visit by to/with France on 2014-03-24\"'),\n",
       " Document(metadata={'object': 'France', 'object_id': 10, 'relation': 'inv_Host_a_visit', 'relation_id': 235, 'subject': 'Cristina_Fernández_de_Kirchner', 'subject_id': 118, 'timestamp': '2014-03-21', 'timestamp_id': 80}, page_content='\"Cristina_Fernández_de_Kirchner was hosted a visit by to/with France on 2014-03-21\"'),\n",
       " Document(metadata={'object': 'Pope_Francis', 'object_id': 75, 'relation': 'inv_Host_a_visit', 'relation_id': 235, 'subject': 'Cristina_Fernández_de_Kirchner', 'subject_id': 118, 'timestamp': '2014-03-19', 'timestamp_id': 78}, page_content='\"Cristina_Fernández_de_Kirchner was hosted a visit by to/with Pope_Francis on 2014-03-19\"'),\n",
       " Document(metadata={'object': 'France', 'object_id': 10, 'relation': 'inv_Host_a_visit', 'relation_id': 235, 'subject': 'Cristina_Fernández_de_Kirchner', 'subject_id': 118, 'timestamp': '2014-03-19', 'timestamp_id': 78}, page_content='\"Cristina_Fernández_de_Kirchner was hosted a visit by to/with France on 2014-03-19\"'),\n",
       " Document(metadata={'object': 'Pope_Francis', 'object_id': 75, 'relation': 'Make_a_visit', 'relation_id': 4, 'subject': 'Cristina_Fernández_de_Kirchner', 'subject_id': 118, 'timestamp': '2014-03-19', 'timestamp_id': 78}, page_content='\"Cristina_Fernández_de_Kirchner made a visit to/with Pope_Francis on 2014-03-19\"'),\n",
       " Document(metadata={'object': 'France', 'object_id': 10, 'relation': 'inv_Host_a_visit', 'relation_id': 235, 'subject': 'Cristina_Fernández_de_Kirchner', 'subject_id': 118, 'timestamp': '2014-03-18', 'timestamp_id': 77}, page_content='\"Cristina_Fernández_de_Kirchner was hosted a visit by to/with France on 2014-03-18\"'),\n",
       " Document(metadata={'object': 'Sergio_Massa', 'object_id': 404, 'relation': 'inv_Make_statement', 'relation_id': 230, 'subject': 'Cristina_Fernández_de_Kirchner', 'subject_id': 118, 'timestamp': '2014-03-09', 'timestamp_id': 68}, page_content='\"Cristina_Fernández_de_Kirchner was made a statement by to/with Sergio_Massa on 2014-03-09\"'),\n",
       " Document(metadata={'object': 'Government_(Argentina)', 'object_id': 190, 'relation': 'Defend_verbally', 'relation_id': 109, 'subject': 'Cristina_Fernández_de_Kirchner', 'subject_id': 118, 'timestamp': '2014-03-05', 'timestamp_id': 64}, page_content='\"Cristina_Fernández_de_Kirchner Defended verbally to/with Government_(Argentina) on 2014-03-05\"'),\n",
       " Document(metadata={'object': 'Sergey_Viktorovich_Lavrov', 'object_id': 12, 'relation': \"Meet_at_a_'third'_location\", 'relation_id': 27, 'subject': 'Cristina_Fernández_de_Kirchner', 'subject_id': 118, 'timestamp': '2014-03-05', 'timestamp_id': 64}, page_content='\"Cristina_Fernández_de_Kirchner Met at a third location to/with Sergey_Viktorovich_Lavrov on 2014-03-05\"'),\n",
       " Document(metadata={'object': 'Sergey_Viktorovich_Lavrov', 'object_id': 12, 'relation': \"inv_Meet_at_a_'third'_location\", 'relation_id': 257, 'subject': 'Cristina_Fernández_de_Kirchner', 'subject_id': 118, 'timestamp': '2014-03-05', 'timestamp_id': 64}, page_content='\"Cristina_Fernández_de_Kirchner was Met at a third location by to/with Sergey_Viktorovich_Lavrov on 2014-03-05\"'),\n",
       " Document(metadata={'object': 'Alicia_Ciciliani', 'object_id': 4152, 'relation': 'inv_Make_statement', 'relation_id': 230, 'subject': 'Cristina_Fernández_de_Kirchner', 'subject_id': 118, 'timestamp': '2014-03-02', 'timestamp_id': 61}, page_content='\"Cristina_Fernández_de_Kirchner was made a statement by to/with Alicia_Ciciliani on 2014-03-02\"'),\n",
       " Document(metadata={'object': 'Daniel_Scioli', 'object_id': 285, 'relation': 'inv_Make_statement', 'relation_id': 230, 'subject': 'Cristina_Fernández_de_Kirchner', 'subject_id': 118, 'timestamp': '2014-03-02', 'timestamp_id': 61}, page_content='\"Cristina_Fernández_de_Kirchner was made a statement by to/with Daniel_Scioli on 2014-03-02\"'),\n",
       " Document(metadata={'object': 'Nestor_Kirchner', 'object_id': 1461, 'relation': 'Engage_in_symbolic_act', 'relation_id': 28, 'subject': 'Cristina_Fernández_de_Kirchner', 'subject_id': 118, 'timestamp': '2014-02-25', 'timestamp_id': 56}, page_content='\"Cristina_Fernández_de_Kirchner Engaged in a symbolic act to/with Nestor_Kirchner on 2014-02-25\"'),\n",
       " Document(metadata={'object': 'Julio_Cobos', 'object_id': 1104, 'relation': 'inv_Make_an_appeal_or_request', 'relation_id': 232, 'subject': 'Cristina_Fernández_de_Kirchner', 'subject_id': 118, 'timestamp': '2014-02-05', 'timestamp_id': 36}, page_content='\"Cristina_Fernández_de_Kirchner was made an appeal or request by to/with Julio_Cobos on 2014-02-05\"'),\n",
       " Document(metadata={'object': 'Débora_Giorgi', 'object_id': 1914, 'relation': 'Host_a_visit', 'relation_id': 5, 'subject': 'Cristina_Fernández_de_Kirchner', 'subject_id': 118, 'timestamp': '2014-01-17', 'timestamp_id': 17}, page_content='\"Cristina_Fernández_de_Kirchner hosted a visit to/with Débora_Giorgi on 2014-01-17\"'),\n",
       " Document(metadata={'object': 'Débora_Giorgi', 'object_id': 1914, 'relation': 'inv_Make_a_visit', 'relation_id': 234, 'subject': 'Cristina_Fernández_de_Kirchner', 'subject_id': 118, 'timestamp': '2014-01-17', 'timestamp_id': 17}, page_content='\"Cristina_Fernández_de_Kirchner was made a visit by to/with Débora_Giorgi on 2014-01-17\"'),\n",
       " Document(metadata={'object': 'Julio_Cobos', 'object_id': 1104, 'relation': 'inv_Criticize_or_denounce', 'relation_id': 238, 'subject': 'Cristina_Fernández_de_Kirchner', 'subject_id': 118, 'timestamp': '2014-01-13', 'timestamp_id': 13}, page_content='\"Cristina_Fernández_de_Kirchner was criticized or denounced by to/with Julio_Cobos on 2014-01-13\"'),\n",
       " Document(metadata={'object': 'Government_(Argentina)', 'object_id': 190, 'relation': 'inv_Make_statement', 'relation_id': 230, 'subject': 'Cristina_Fernández_de_Kirchner', 'subject_id': 118, 'timestamp': '2014-01-06', 'timestamp_id': 6}, page_content='\"Cristina_Fernández_de_Kirchner was made a statement by to/with Government_(Argentina) on 2014-01-06\"')]"
      ]
     },
     "execution_count": 8,
     "metadata": {},
     "output_type": "execute_result"
    }
   ],
   "source": [
    "\n",
    "\n",
    "# filter = {\"$and\": [\n",
    "# \t{\"object\": {\"$in\": [\"Malaysia\", 'China']}},\n",
    "# \t{\"subject\": {\"$in\": [\"Malaysia\", 'China']}},\n",
    "#     # {\"relation\": \"Express_intent_to_cooperate\"}\n",
    "# ]\n",
    "# }\n",
    "\n",
    "# filter = {\"$or\":[{\"object\": \"Malaysia\"}, {\"subject\": \"Malaysia\"}]}\n",
    "filter = {\"subject_id\": 118}\n",
    "docs = lookup_vector_db(\"\", filter, data_dict['facts']['vector_db'], llm_instance, top_k=100)\n",
    "docs = sorted(docs, key=lambda x: x.metadata['timestamp_id'], reverse=True)\n",
    "docs"
   ]
  },
  {
   "cell_type": "markdown",
   "metadata": {},
   "source": [
    "---"
   ]
  },
  {
   "cell_type": "markdown",
   "metadata": {},
   "source": [
    "### Adding new documents"
   ]
  },
  {
   "cell_type": "code",
   "execution_count": 8,
   "metadata": {},
   "outputs": [
    {
     "name": "stdout",
     "output_type": "stream",
     "text": [
      "Số documents trước khi thêm: 181440\n"
     ]
    }
   ],
   "source": [
    "from langchain.vectorstores import Chroma\n",
    "import os\n",
    "from langchain_community.vectorstores.utils import filter_complex_metadata\n",
    "from process_embedding.custom_embedding_function import CustomEmbeddingFunction\n",
    "\n",
    "db_directory = \"result/icews14/vector_database_build\"\n",
    "collection = \"facts\"\n",
    "\n",
    "# Đường dẫn đến thư mục lưu trữ collection\n",
    "collection_persist_directory = os.path.join(db_directory, collection)\n",
    "\n",
    "# Khởi tạo Chroma với tham số CHÍNH XÁC như lúc tạo collection ban đầu\n",
    "db = Chroma(persist_directory=collection_persist_directory, embedding_function=CustomEmbeddingFunction(llm_instance))\n",
    "\n",
    "# Kiểm tra xem collection đã load đúng chưa\n",
    "print(\"Số documents trước khi thêm:\", db._collection.count())\n",
    "\n",
    "# # Thêm documents mới (đảm bảo metadata khớp schema)\n",
    "# new_docs = [...]\n",
    "# db.add_documents(documents=new_docs)\n",
    "\n",
    "# Kiểm tra lại\n",
    "x = db.get()['ids']\n",
    "numbers = sorted(int(num) for num in x)\n",
    "\n"
   ]
  },
  {
   "cell_type": "code",
   "execution_count": 9,
   "metadata": {},
   "outputs": [
    {
     "name": "stdout",
     "output_type": "stream",
     "text": [
      "Dãy 20 số thiếu: [89340, 89341, 89342, 89343, 89344, 89345, 89346, 89347, 89348, 89349, 89350, 89351, 89352, 89353, 89354, 89355, 89356, 89357, 89358, 89359]\n"
     ]
    }
   ],
   "source": [
    "missing_sequences = []\n",
    "for i in range(1, len(numbers)):\n",
    "    prev_num = numbers[i-1]\n",
    "    current_num = numbers[i]\n",
    "    gap = current_num - prev_num\n",
    "    \n",
    "    if gap > 1:\n",
    "        start_missing = prev_num + 1\n",
    "        end_missing = current_num - 1\n",
    "        missing_count = end_missing - start_missing + 1\n",
    "        missing_sequences.append((start_missing, end_missing, missing_count))\n",
    "target_sequence = None\n",
    "for start, end, count in missing_sequences:\n",
    "    if count == 20:\n",
    "        target_sequence = list(range(start, end + 1))\n",
    "        break\n",
    "\n",
    "if target_sequence:\n",
    "    print(\"Dãy 20 số thiếu:\", target_sequence)\n",
    "else:\n",
    "    print(\"Không tìm thấy dãy 20 số liên tiếp thiếu.\")"
   ]
  }
 ],
 "metadata": {
  "kernelspec": {
   "display_name": "LLM_DA-env",
   "language": "python",
   "name": "python3"
  },
  "language_info": {
   "codemirror_mode": {
    "name": "ipython",
    "version": 3
   },
   "file_extension": ".py",
   "mimetype": "text/x-python",
   "name": "python",
   "nbconvert_exporter": "python",
   "pygments_lexer": "ipython3",
   "version": "3.10.15"
  }
 },
 "nbformat": 4,
 "nbformat_minor": 2
}
