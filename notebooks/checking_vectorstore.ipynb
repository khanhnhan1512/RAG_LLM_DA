{
 "cells": [
  {
   "cell_type": "code",
   "execution_count": 1,
   "metadata": {},
   "outputs": [
    {
     "name": "stdout",
     "output_type": "stream",
     "text": [
      "Current working folder: d:\\My Document\\Khóa Luận Tốt Nghiệp\\Model Reposity\\RAG_LLM_DA\\notebooks\n",
      "Current working folder: D:\\My Document\\Khóa Luận Tốt Nghiệp\\Model Reposity\\RAG_LLM_DA\n"
     ]
    }
   ],
   "source": [
    "import os\n",
    "print(f\"Current working folder: {os.getcwd()}\")\n",
    "\n",
    "os.chdir('D:/My Document/Khóa Luận Tốt Nghiệp/Model Reposity/RAG_LLM_DA')\n",
    "print(f\"Current working folder: {os.getcwd()}\")\n",
    "\n",
    "from stages.stage_1_learn_rules_from_data.data_loader import DataLoader\n",
    "from langchain_core.messages import HumanMessage, AIMessage, SystemMessage\n",
    "from openai_llm.llm_init import LLM_Model\n",
    "from utils import load_json_data, save_json_data, load_vectorstore_db, calculate_similarity, lookup_vector_db"
   ]
  },
  {
   "cell_type": "code",
   "execution_count": 2,
   "metadata": {},
   "outputs": [
    {
     "name": "stdout",
     "output_type": "stream",
     "text": [
      "Loading data from config/llm_config.json\n"
     ]
    }
   ],
   "source": [
    "llm_instance = LLM_Model()"
   ]
  },
  {
   "cell_type": "code",
   "execution_count": 3,
   "metadata": {},
   "outputs": [
    {
     "name": "stdout",
     "output_type": "stream",
     "text": [
      "Loading data from config/data_embedding.json\n",
      "facts: 544212 documents\n",
      "rules: 0 documents\n"
     ]
    }
   ],
   "source": [
    "data_dict = load_vectorstore_db(llm_instance, 'YAGO')\n",
    "for collection in data_dict:\n",
    "    print(f\"{collection}: {len(data_dict[collection]['vector_db'].get()['documents'])} documents\")"
   ]
  },
  {
   "cell_type": "code",
   "execution_count": 4,
   "metadata": {},
   "outputs": [
    {
     "data": {
      "text/plain": [
       "[Document(metadata={'object': 'Communes_In_France', 'object_id': 27, 'relation': 'Instance_of', 'relation_id': 6, 'subject': 'Balleroy', 'subject_id': 26, 'timestamp': 'T_0', 'timestamp_id': 0}, page_content='\"Balleroy was an instance of Communes_In_France on T_0\"'),\n",
       " Document(metadata={'object': 'Communes_In_France', 'object_id': 27, 'relation': 'Instance_of', 'relation_id': 6, 'subject': 'Balleroy', 'subject_id': 26, 'timestamp': 'T_4', 'timestamp_id': 4}, page_content='\"Balleroy was an instance of Communes_In_France on T_4\"'),\n",
       " Document(metadata={'object': 'Communes_In_France', 'object_id': 27, 'relation': 'Instance_of', 'relation_id': 6, 'subject': 'Balleroy', 'subject_id': 26, 'timestamp': 'T_10', 'timestamp_id': 10}, page_content='\"Balleroy was an instance of Communes_In_France on T_10\"'),\n",
       " Document(metadata={'object': 'Communes_In_France', 'object_id': 27, 'relation': 'Instance_of', 'relation_id': 6, 'subject': 'Balleroy', 'subject_id': 26, 'timestamp': 'T_7', 'timestamp_id': 7}, page_content='\"Balleroy was an instance of Communes_In_France on T_7\"'),\n",
       " Document(metadata={'object': 'Communes_In_France', 'object_id': 27, 'relation': 'Instance_of', 'relation_id': 6, 'subject': 'Balleroy', 'subject_id': 26, 'timestamp': 'T_11', 'timestamp_id': 11}, page_content='\"Balleroy was an instance of Communes_In_France on T_11\"'),\n",
       " Document(metadata={'object': 'Communes_In_France', 'object_id': 27, 'relation': 'Instance_of', 'relation_id': 6, 'subject': 'Balleroy', 'subject_id': 26, 'timestamp': 'T_2', 'timestamp_id': 2}, page_content='\"Balleroy was an instance of Communes_In_France on T_2\"'),\n",
       " Document(metadata={'object': 'Communes_In_France', 'object_id': 27, 'relation': 'Instance_of', 'relation_id': 6, 'subject': 'Balleroy', 'subject_id': 26, 'timestamp': 'T_5', 'timestamp_id': 5}, page_content='\"Balleroy was an instance of Communes_In_France on T_5\"'),\n",
       " Document(metadata={'object': 'Communes_In_France', 'object_id': 27, 'relation': 'Instance_of', 'relation_id': 6, 'subject': 'Balleroy', 'subject_id': 26, 'timestamp': 'T_40', 'timestamp_id': 40}, page_content='\"Balleroy was an instance of Communes_In_France on T_40\"'),\n",
       " Document(metadata={'object': 'Communes_In_France', 'object_id': 27, 'relation': 'Instance_of', 'relation_id': 6, 'subject': 'Balleroy', 'subject_id': 26, 'timestamp': 'T_1', 'timestamp_id': 1}, page_content='\"Balleroy was an instance of Communes_In_France on T_1\"'),\n",
       " Document(metadata={'object': 'Communes_In_France', 'object_id': 27, 'relation': 'Instance_of', 'relation_id': 6, 'subject': 'Balleroy', 'subject_id': 26, 'timestamp': 'T_30', 'timestamp_id': 30}, page_content='\"Balleroy was an instance of Communes_In_France on T_30\"')]"
      ]
     },
     "execution_count": 4,
     "metadata": {},
     "output_type": "execute_result"
    }
   ],
   "source": [
    "\n",
    "\n",
    "# filter = {\"$and\": [\n",
    "# \t{\"object\": {\"$in\": [\"Malaysia\", 'China']}},\n",
    "# \t{\"subject\": {\"$in\": [\"Malaysia\", 'China']}},\n",
    "#     # {\"relation\": \"Express_intent_to_cooperate\"}\n",
    "# ]\n",
    "# }\n",
    "\n",
    "# filter_ = {\"$or\":[{\"object\": \"Communes_In_France\"}, {\"subject\": \"Balleroy\"}]}\n",
    "filter_ = {'subject_id': 26}\n",
    "docs = lookup_vector_db(\"\", filter_, data_dict['facts']['vector_db'], llm_instance, top_k=10)\n",
    "docs"
   ]
  },
  {
   "cell_type": "markdown",
   "metadata": {},
   "source": [
    "---"
   ]
  },
  {
   "cell_type": "markdown",
   "metadata": {},
   "source": [
    "### Adding new documents"
   ]
  },
  {
   "cell_type": "code",
   "execution_count": 7,
   "metadata": {},
   "outputs": [
    {
     "name": "stdout",
     "output_type": "stream",
     "text": [
      "Số documents trước khi thêm: 544212\n"
     ]
    }
   ],
   "source": [
    "from langchain.vectorstores import Chroma\n",
    "import os\n",
    "from langchain_community.vectorstores.utils import filter_complex_metadata\n",
    "from process_embedding.custom_embedding_function import CustomEmbeddingFunction\n",
    "\n",
    "db_directory = \"result/YAGO/vector_database_build\"\n",
    "collection = \"facts\"\n",
    "\n",
    "# Đường dẫn đến thư mục lưu trữ collection\n",
    "collection_persist_directory = os.path.join(db_directory, collection)\n",
    "\n",
    "# Khởi tạo Chroma với tham số CHÍNH XÁC như lúc tạo collection ban đầu\n",
    "db = Chroma(persist_directory=collection_persist_directory, embedding_function=CustomEmbeddingFunction(llm_instance))\n",
    "\n",
    "# Kiểm tra xem collection đã load đúng chưa\n",
    "print(\"Số documents trước khi thêm:\", db._collection.count())\n",
    "\n",
    "# # Thêm documents mới (đảm bảo metadata khớp schema)\n",
    "# new_docs = [...]\n",
    "# db.add_documents(documents=new_docs)\n",
    "\n",
    "# Kiểm tra lại\n",
    "x = db.get()['ids']\n",
    "numbers = sorted(int(num) for num in x)\n",
    "\n"
   ]
  },
  {
   "cell_type": "code",
   "execution_count": 8,
   "metadata": {},
   "outputs": [
    {
     "name": "stdout",
     "output_type": "stream",
     "text": [
      "Không tìm thấy dãy 20 số liên tiếp thiếu.\n"
     ]
    }
   ],
   "source": [
    "missing_sequences = []\n",
    "for i in range(1, len(numbers)):\n",
    "    prev_num = numbers[i-1]\n",
    "    current_num = numbers[i]\n",
    "    gap = current_num - prev_num\n",
    "    \n",
    "    if gap > 1:\n",
    "        start_missing = prev_num + 1\n",
    "        end_missing = current_num - 1\n",
    "        missing_count = end_missing - start_missing + 1\n",
    "        missing_sequences.append((start_missing, end_missing, missing_count))\n",
    "target_sequence = None\n",
    "for start, end, count in missing_sequences:\n",
    "    if count == 20:\n",
    "        target_sequence = list(range(start, end + 1))\n",
    "        break\n",
    "\n",
    "if target_sequence:\n",
    "    print(\"Dãy 20 số thiếu:\", target_sequence)\n",
    "else:\n",
    "    print(\"Không tìm thấy dãy 20 số liên tiếp thiếu.\")"
   ]
  }
 ],
 "metadata": {
  "kernelspec": {
   "display_name": "LLM_DA-env",
   "language": "python",
   "name": "python3"
  },
  "language_info": {
   "codemirror_mode": {
    "name": "ipython",
    "version": 3
   },
   "file_extension": ".py",
   "mimetype": "text/x-python",
   "name": "python",
   "nbconvert_exporter": "python",
   "pygments_lexer": "ipython3",
   "version": "3.10.15"
  }
 },
 "nbformat": 4,
 "nbformat_minor": 2
}
