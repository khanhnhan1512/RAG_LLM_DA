{
 "cells": [
  {
   "cell_type": "code",
   "execution_count": 1,
   "metadata": {},
   "outputs": [
    {
     "name": "stdout",
     "output_type": "stream",
     "text": [
      "Current working folder: d:\\My Document\\Khóa Luận Tốt Nghiệp\\Model Reposity\\RAG_LLM_DA\\notebooks\n",
      "Current working folder: D:\\My Document\\Khóa Luận Tốt Nghiệp\\Model Reposity\\RAG_LLM_DA\n"
     ]
    }
   ],
   "source": [
    "import os\n",
    "print(f\"Current working folder: {os.getcwd()}\")\n",
    "\n",
    "os.chdir('D:/My Document/Khóa Luận Tốt Nghiệp/Model Reposity/RAG_LLM_DA')\n",
    "print(f\"Current working folder: {os.getcwd()}\")\n",
    "\n",
    "from stages.stage_1_learn_rules_from_data.data_loader import DataLoader\n",
    "from langchain_core.messages import HumanMessage, AIMessage, SystemMessage\n",
    "from openai_llm.llm_init import LLM_Model\n",
    "from utils import load_json_data, save_json_data, load_vectorstore_db, lookup_vector_db"
   ]
  },
  {
   "cell_type": "code",
   "execution_count": 2,
   "metadata": {},
   "outputs": [
    {
     "name": "stdout",
     "output_type": "stream",
     "text": [
      "Loading data from config/llm_config.json\n"
     ]
    }
   ],
   "source": [
    "llm_instance = LLM_Model()"
   ]
  },
  {
   "cell_type": "code",
   "execution_count": 3,
   "metadata": {},
   "outputs": [
    {
     "name": "stdout",
     "output_type": "stream",
     "text": [
      "Loading data from config/data_embedding.json\n",
      "facts: 166718 documents\n",
      "rules: 0 documents\n"
     ]
    }
   ],
   "source": [
    "data_dict = load_vectorstore_db(llm_instance, 'icews14')\n",
    "for collection in data_dict:\n",
    "    print(f\"{collection}: {len(data_dict[collection]['vector_db'].get()['documents'])} documents\")"
   ]
  },
  {
   "cell_type": "code",
   "execution_count": 26,
   "metadata": {},
   "outputs": [
    {
     "data": {
      "text/plain": [
       "[Document(metadata={'object': 'Kashim_Shettima', 'object_id': 359, 'relation': 'inv_Praise_or_endorse', 'relation_id': 237, 'subject': 'Government_(Nigeria)', 'subject_id': 9, 'timestamp': '2014-08-22', 'timestamp_id': 234}, page_content='\"Government_(Nigeria) was praised or endorsed by to/with Kashim_Shettima on 2014-08-22\"'),\n",
       " Document(metadata={'object': 'Kashim_Shettima', 'object_id': 359, 'relation': 'inv_Praise_or_endorse', 'relation_id': 237, 'subject': 'Government_(Nigeria)', 'subject_id': 9, 'timestamp': '2014-09-19', 'timestamp_id': 262}, page_content='\"Government_(Nigeria) was praised or endorsed by to/with Kashim_Shettima on 2014-09-19\"'),\n",
       " Document(metadata={'object': 'Government_(Nigeria)', 'object_id': 9, 'relation': 'Make_statement', 'relation_id': 0, 'subject': 'Kashim_Shettima', 'subject_id': 359, 'timestamp': '2014-10-10', 'timestamp_id': 283}, page_content='\"Kashim_Shettima Made a statement to/with Government_(Nigeria) on 2014-10-10\"'),\n",
       " Document(metadata={'object': 'Government_(Nigeria)', 'object_id': 9, 'relation': 'Praise_or_endorse', 'relation_id': 7, 'subject': 'Kashim_Shettima', 'subject_id': 359, 'timestamp': '2014-09-19', 'timestamp_id': 262}, page_content='\"Kashim_Shettima Praised or endorsed to/with Government_(Nigeria) on 2014-09-19\"'),\n",
       " Document(metadata={'object': 'Government_(Nigeria)', 'object_id': 9, 'relation': 'Praise_or_endorse', 'relation_id': 7, 'subject': 'Kashim_Shettima', 'subject_id': 359, 'timestamp': '2014-08-22', 'timestamp_id': 234}, page_content='\"Kashim_Shettima Praised or endorsed to/with Government_(Nigeria) on 2014-08-22\"'),\n",
       " Document(metadata={'object': 'Government_(Nigeria)', 'object_id': 9, 'relation': 'Make_statement', 'relation_id': 0, 'subject': 'Kashim_Shettima', 'subject_id': 359, 'timestamp': '2014-09-05', 'timestamp_id': 248}, page_content='\"Kashim_Shettima Made a statement to/with Government_(Nigeria) on 2014-09-05\"'),\n",
       " Document(metadata={'object': 'Kashim_Shettima', 'object_id': 359, 'relation': 'inv_Criticize_or_denounce', 'relation_id': 238, 'subject': 'Government_(Nigeria)', 'subject_id': 9, 'timestamp': '2014-03-31', 'timestamp_id': 90}, page_content='\"Government_(Nigeria) was criticized or denounced by to/with Kashim_Shettima on 2014-03-31\"'),\n",
       " Document(metadata={'object': 'Government_(Nigeria)', 'object_id': 9, 'relation': 'Make_statement', 'relation_id': 0, 'subject': 'Kashim_Shettima', 'subject_id': 359, 'timestamp': '2014-07-28', 'timestamp_id': 209}, page_content='\"Kashim_Shettima Made a statement to/with Government_(Nigeria) on 2014-07-28\"'),\n",
       " Document(metadata={'object': 'Government_(Nigeria)', 'object_id': 9, 'relation': 'Make_statement', 'relation_id': 0, 'subject': 'Kashim_Shettima', 'subject_id': 359, 'timestamp': '2014-06-05', 'timestamp_id': 156}, page_content='\"Kashim_Shettima Made a statement to/with Government_(Nigeria) on 2014-06-05\"'),\n",
       " Document(metadata={'object': 'Government_(Nigeria)', 'object_id': 9, 'relation': 'Make_statement', 'relation_id': 0, 'subject': 'Kashim_Shettima', 'subject_id': 359, 'timestamp': '2014-11-27', 'timestamp_id': 331}, page_content='\"Kashim_Shettima Made a statement to/with Government_(Nigeria) on 2014-11-27\"'),\n",
       " Document(metadata={'object': 'Government_(Nigeria)', 'object_id': 9, 'relation': 'Make_statement', 'relation_id': 0, 'subject': 'Kashim_Shettima', 'subject_id': 359, 'timestamp': '2014-08-25', 'timestamp_id': 237}, page_content='\"Kashim_Shettima Made a statement to/with Government_(Nigeria) on 2014-08-25\"'),\n",
       " Document(metadata={'object': 'Government_(Nigeria)', 'object_id': 9, 'relation': 'Make_statement', 'relation_id': 0, 'subject': 'Kashim_Shettima', 'subject_id': 359, 'timestamp': '2014-04-04', 'timestamp_id': 94}, page_content='\"Kashim_Shettima Made a statement to/with Government_(Nigeria) on 2014-04-04\"'),\n",
       " Document(metadata={'object': 'Government_(Nigeria)', 'object_id': 9, 'relation': 'Make_statement', 'relation_id': 0, 'subject': 'Kashim_Shettima', 'subject_id': 359, 'timestamp': '2014-05-12', 'timestamp_id': 132}, page_content='\"Kashim_Shettima Made a statement to/with Government_(Nigeria) on 2014-05-12\"'),\n",
       " Document(metadata={'object': 'Kashim_Shettima', 'object_id': 359, 'relation': 'inv_Make_statement', 'relation_id': 230, 'subject': 'Government_(Nigeria)', 'subject_id': 9, 'timestamp': '2014-10-10', 'timestamp_id': 283}, page_content='\"Government_(Nigeria) received a statement from to/with Kashim_Shettima on 2014-10-10\"'),\n",
       " Document(metadata={'object': 'Kashim_Shettima', 'object_id': 359, 'relation': 'Make_statement', 'relation_id': 0, 'subject': 'Government_(Nigeria)', 'subject_id': 9, 'timestamp': '2014-06-25', 'timestamp_id': 176}, page_content='\"Government_(Nigeria) Made a statement to/with Kashim_Shettima on 2014-06-25\"'),\n",
       " Document(metadata={'object': 'Government_(Nigeria)', 'object_id': 9, 'relation': 'Make_statement', 'relation_id': 0, 'subject': 'Kashim_Shettima', 'subject_id': 359, 'timestamp': '2014-06-19', 'timestamp_id': 170}, page_content='\"Kashim_Shettima Made a statement to/with Government_(Nigeria) on 2014-06-19\"'),\n",
       " Document(metadata={'object': 'Government_(Nigeria)', 'object_id': 9, 'relation': 'Make_statement', 'relation_id': 0, 'subject': 'Kashim_Shettima', 'subject_id': 359, 'timestamp': '2014-05-21', 'timestamp_id': 141}, page_content='\"Kashim_Shettima Made a statement to/with Government_(Nigeria) on 2014-05-21\"'),\n",
       " Document(metadata={'object': 'Kashim_Shettima', 'object_id': 359, 'relation': 'Consult', 'relation_id': 1, 'subject': 'Government_(Nigeria)', 'subject_id': 9, 'timestamp': '2014-05-12', 'timestamp_id': 132}, page_content='\"Government_(Nigeria) Consulted to/with Kashim_Shettima on 2014-05-12\"'),\n",
       " Document(metadata={'object': 'Kashim_Shettima', 'object_id': 359, 'relation': 'inv_Express_intent_to_engage_in_diplomatic_cooperation_(such_as_policy_support)', 'relation_id': 245, 'subject': 'Government_(Nigeria)', 'subject_id': 9, 'timestamp': '2014-05-26', 'timestamp_id': 146}, page_content='\"Government_(Nigeria) were the recipients of expressed intent to engage in diplomatic cooperation (such as policy support) to/with Kashim_Shettima on 2014-05-26\"'),\n",
       " Document(metadata={'object': 'Government_(Nigeria)', 'object_id': 9, 'relation': 'Accuse', 'relation_id': 9, 'subject': 'Kashim_Shettima', 'subject_id': 359, 'timestamp': '2014-05-28', 'timestamp_id': 148}, page_content='\"Kashim_Shettima Accused to/with Government_(Nigeria) on 2014-05-28\"')]"
      ]
     },
     "execution_count": 26,
     "metadata": {},
     "output_type": "execute_result"
    }
   ],
   "source": [
    "\n",
    "\n",
    "filter = {\"$and\": [\n",
    "\t{\"object\": {\"$in\": [\"Kashim_Shettima\", 'Government_(Nigeria)']}},\n",
    "\t{\"subject\": {\"$in\": [\"Kashim_Shettima\", 'Government_(Nigeria)']}},\n",
    "]\n",
    "}\n",
    "\n",
    "# filter = {\"subject\": \"Niger\"}\n",
    "docs = lookup_vector_db(\"\", filter, data_dict['facts']['vector_db'], llm_instance)\n",
    "docs"
   ]
  }
 ],
 "metadata": {
  "kernelspec": {
   "display_name": "LLM_DA-env",
   "language": "python",
   "name": "python3"
  },
  "language_info": {
   "codemirror_mode": {
    "name": "ipython",
    "version": 3
   },
   "file_extension": ".py",
   "mimetype": "text/x-python",
   "name": "python",
   "nbconvert_exporter": "python",
   "pygments_lexer": "ipython3",
   "version": "3.10.15"
  }
 },
 "nbformat": 4,
 "nbformat_minor": 2
}
