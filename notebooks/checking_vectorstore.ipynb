{
 "cells": [
  {
   "cell_type": "code",
   "execution_count": 1,
   "metadata": {},
   "outputs": [
    {
     "name": "stdout",
     "output_type": "stream",
     "text": [
      "Current working folder: c:\\Users\\UHY6HC\\Downloads\\Thesis\\RAG_LLM_DA\\notebooks\n",
      "Current working folder: C:\\Users\\UHY6HC\\Downloads\\Thesis\\RAG_LLM_DA\n"
     ]
    }
   ],
   "source": [
    "import os\n",
    "print(f\"Current working folder: {os.getcwd()}\")\n",
    "\n",
    "os.chdir('C:/Users/UHY6HC/Downloads/Thesis/RAG_LLM_DA')\n",
    "print(f\"Current working folder: {os.getcwd()}\")\n",
    "\n",
    "from stages.stage_1_learn_rules_from_data.data_loader import DataLoader\n",
    "from langchain_core.messages import HumanMessage, AIMessage, SystemMessage\n",
    "from openai_llm.llm_init import LLM_Model\n",
    "from utils import load_json_data, save_json_data, load_vectorstore_db, lookup_vector_db, calculate_similarity"
   ]
  },
  {
   "cell_type": "code",
   "execution_count": 3,
   "metadata": {},
   "outputs": [
    {
     "name": "stdout",
     "output_type": "stream",
     "text": [
      "Loading data from config/llm_config.json\n"
     ]
    }
   ],
   "source": [
    "llm_instance = LLM_Model()"
   ]
  },
  {
   "cell_type": "code",
   "execution_count": 4,
   "metadata": {},
   "outputs": [
    {
     "name": "stdout",
     "output_type": "stream",
     "text": [
      "Loading data from config/data_embedding.json\n",
      "facts: 197982 documents\n",
      "rules: 0 documents\n"
     ]
    }
   ],
   "source": [
    "data_dict = load_vectorstore_db(llm_instance, 'GDELT')\n",
    "for collection in data_dict:\n",
    "    print(f\"{collection}: {len(data_dict[collection]['vector_db'].get()['documents'])} documents\")"
   ]
  },
  {
   "cell_type": "code",
   "execution_count": 5,
   "metadata": {},
   "outputs": [
    {
     "data": {
      "text/plain": [
       "[Document(metadata={'object': 'Sudanese', 'object_id': 924, 'relation': 'inv_Impose_state_of_emergency_or_martial_law', 'relation_id': 245, 'subject': 'Omar_Al_Bashir', 'subject_id': 1814, 'timestamp': 'T_3900', 'timestamp_id': 3900}, page_content='\"Omar_Al_Bashir was Imposed a state of emergency or martial law by to/with Sudanese on T_3900\"'),\n",
       " Document(metadata={'object': 'Sudanese', 'object_id': 924, 'relation': 'Accuse', 'relation_id': 15, 'subject': 'Omar_Al_Bashir', 'subject_id': 1814, 'timestamp': 'T_3225', 'timestamp_id': 3225}, page_content='\"Omar_Al_Bashir Accused to/with Sudanese on T_3225\"'),\n",
       " Document(metadata={'object': 'Sudan', 'object_id': 1005, 'relation': 'Impose_state_of_emergency_or_martial_law', 'relation_id': 8, 'subject': 'Omar_Al_Bashir', 'subject_id': 1814, 'timestamp': 'T_945', 'timestamp_id': 945}, page_content='\"Omar_Al_Bashir Imposed a state of emergency or martial law to/with Sudan on T_945\"'),\n",
       " Document(metadata={'object': 'Saudi_Arabia', 'object_id': 252, 'relation': 'Praise_or_endorse', 'relation_id': 7, 'subject': 'Omar_Al_Bashir', 'subject_id': 1814, 'timestamp': 'T_825', 'timestamp_id': 825}, page_content='\"Omar_Al_Bashir Praised or endorsed to/with Saudi_Arabia on T_825\"'),\n",
       " Document(metadata={'object': 'Congress', 'object_id': 297, 'relation': 'Consider_policy_option', 'relation_id': 5, 'subject': 'Omar_Al_Bashir', 'subject_id': 1814, 'timestamp': 'T_660', 'timestamp_id': 660}, page_content='\"Omar_Al_Bashir Considered a policy option to/with Congress on T_660\"'),\n",
       " Document(metadata={'object': 'Sudan', 'object_id': 1005, 'relation': 'Consider_policy_option', 'relation_id': 5, 'subject': 'Omar_Al_Bashir', 'subject_id': 1814, 'timestamp': 'T_660', 'timestamp_id': 660}, page_content='\"Omar_Al_Bashir Considered a policy option to/with Sudan on T_660\"')]"
      ]
     },
     "execution_count": 5,
     "metadata": {},
     "output_type": "execute_result"
    }
   ],
   "source": [
    "\n",
    "\n",
    "# filter = {\"$and\": [\n",
    "# \t{\"object\": {\"$in\": [\"Malaysia\", 'China']}},\n",
    "# \t{\"subject\": {\"$in\": [\"Malaysia\", 'China']}},\n",
    "#     # {\"relation\": \"Express_intent_to_cooperate\"}\n",
    "# ]\n",
    "# }\n",
    "\n",
    "# filter = {\"$or\":[{\"object\": \"Malaysia\"}, {\"subject\": \"Malaysia\"}]}\n",
    "filter = {\"subject_id\": 1814}\n",
    "docs = lookup_vector_db(\"\", filter, data_dict['facts']['vector_db'], llm_instance, top_k=100)\n",
    "docs = sorted(docs, key=lambda x: x.metadata['timestamp_id'], reverse=True)\n",
    "docs"
   ]
  },
  {
   "cell_type": "markdown",
   "metadata": {},
   "source": [
    "---"
   ]
  },
  {
   "cell_type": "markdown",
   "metadata": {},
   "source": [
    "### Adding new documents"
   ]
  },
  {
   "cell_type": "code",
   "execution_count": 8,
   "metadata": {},
   "outputs": [
    {
     "name": "stdout",
     "output_type": "stream",
     "text": [
      "Số documents trước khi thêm: 181440\n"
     ]
    }
   ],
   "source": [
    "from langchain.vectorstores import Chroma\n",
    "import os\n",
    "from langchain_community.vectorstores.utils import filter_complex_metadata\n",
    "from process_embedding.custom_embedding_function import CustomEmbeddingFunction\n",
    "\n",
    "db_directory = \"result/icews14/vector_database_build\"\n",
    "collection = \"facts\"\n",
    "\n",
    "# Đường dẫn đến thư mục lưu trữ collection\n",
    "collection_persist_directory = os.path.join(db_directory, collection)\n",
    "\n",
    "# Khởi tạo Chroma với tham số CHÍNH XÁC như lúc tạo collection ban đầu\n",
    "db = Chroma(persist_directory=collection_persist_directory, embedding_function=CustomEmbeddingFunction(llm_instance))\n",
    "\n",
    "# Kiểm tra xem collection đã load đúng chưa\n",
    "print(\"Số documents trước khi thêm:\", db._collection.count())\n",
    "\n",
    "# # Thêm documents mới (đảm bảo metadata khớp schema)\n",
    "# new_docs = [...]\n",
    "# db.add_documents(documents=new_docs)\n",
    "\n",
    "# Kiểm tra lại\n",
    "x = db.get()['ids']\n",
    "numbers = sorted(int(num) for num in x)\n",
    "\n"
   ]
  },
  {
   "cell_type": "code",
   "execution_count": 9,
   "metadata": {},
   "outputs": [
    {
     "name": "stdout",
     "output_type": "stream",
     "text": [
      "Dãy 20 số thiếu: [89340, 89341, 89342, 89343, 89344, 89345, 89346, 89347, 89348, 89349, 89350, 89351, 89352, 89353, 89354, 89355, 89356, 89357, 89358, 89359]\n"
     ]
    }
   ],
   "source": [
    "missing_sequences = []\n",
    "for i in range(1, len(numbers)):\n",
    "    prev_num = numbers[i-1]\n",
    "    current_num = numbers[i]\n",
    "    gap = current_num - prev_num\n",
    "    \n",
    "    if gap > 1:\n",
    "        start_missing = prev_num + 1\n",
    "        end_missing = current_num - 1\n",
    "        missing_count = end_missing - start_missing + 1\n",
    "        missing_sequences.append((start_missing, end_missing, missing_count))\n",
    "target_sequence = None\n",
    "for start, end, count in missing_sequences:\n",
    "    if count == 20:\n",
    "        target_sequence = list(range(start, end + 1))\n",
    "        break\n",
    "\n",
    "if target_sequence:\n",
    "    print(\"Dãy 20 số thiếu:\", target_sequence)\n",
    "else:\n",
    "    print(\"Không tìm thấy dãy 20 số liên tiếp thiếu.\")"
   ]
  }
 ],
 "metadata": {
  "kernelspec": {
   "display_name": "LLM_DA-env",
   "language": "python",
   "name": "python3"
  },
  "language_info": {
   "codemirror_mode": {
    "name": "ipython",
    "version": 3
   },
   "file_extension": ".py",
   "mimetype": "text/x-python",
   "name": "python",
   "nbconvert_exporter": "python",
   "pygments_lexer": "ipython3",
   "version": "3.10.15"
  }
 },
 "nbformat": 4,
 "nbformat_minor": 2
}
